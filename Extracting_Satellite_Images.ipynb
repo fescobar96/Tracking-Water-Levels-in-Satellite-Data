{
  "nbformat": 4,
  "nbformat_minor": 0,
  "metadata": {
    "colab": {
      "name": "Extracting Satellite Images.ipynb",
      "provenance": [],
      "machine_shape": "hm",
      "mount_file_id": "https://github.com/fescobar96/Tracking-Water-Levels-in-Satellite-Data/blob/master/Extracting_Satellite_Images.ipynb",
      "authorship_tag": "ABX9TyPlCEpL6DfMa9rbDN9vJBF7"
    },
    "kernelspec": {
      "name": "python3",
      "display_name": "Python 3"
    }
  },
  "cells": [
    {
      "cell_type": "code",
      "metadata": {
        "id": "gyQ-9mFGc3js",
        "colab_type": "code",
        "outputId": "9bffd2ee-896d-44d0-a1cb-4805ccd426a2",
        "colab": {
          "base_uri": "https://localhost:8080/",
          "height": 629
        }
      },
      "source": [
        "!pip install sentinelsat\n",
        "!pip install geopandas\n",
        "!pip install rasterio\n",
        "!pip install pycrs"
      ],
      "execution_count": 51,
      "outputs": [
        {
          "output_type": "stream",
          "text": [
            "Requirement already satisfied: sentinelsat in /usr/local/lib/python3.6/dist-packages (0.13)\n",
            "Requirement already satisfied: tqdm in /usr/local/lib/python3.6/dist-packages (from sentinelsat) (4.38.0)\n",
            "Requirement already satisfied: six in /usr/local/lib/python3.6/dist-packages (from sentinelsat) (1.12.0)\n",
            "Requirement already satisfied: geomet in /usr/local/lib/python3.6/dist-packages (from sentinelsat) (0.2.1.post1)\n",
            "Requirement already satisfied: geojson>=2 in /usr/local/lib/python3.6/dist-packages (from sentinelsat) (2.5.0)\n",
            "Requirement already satisfied: click in /usr/local/lib/python3.6/dist-packages (from sentinelsat) (7.1.2)\n",
            "Requirement already satisfied: requests in /usr/local/lib/python3.6/dist-packages (from sentinelsat) (2.23.0)\n",
            "Requirement already satisfied: html2text in /usr/local/lib/python3.6/dist-packages (from sentinelsat) (2020.1.16)\n",
            "Requirement already satisfied: idna<3,>=2.5 in /usr/local/lib/python3.6/dist-packages (from requests->sentinelsat) (2.9)\n",
            "Requirement already satisfied: certifi>=2017.4.17 in /usr/local/lib/python3.6/dist-packages (from requests->sentinelsat) (2020.4.5.1)\n",
            "Requirement already satisfied: urllib3!=1.25.0,!=1.25.1,<1.26,>=1.21.1 in /usr/local/lib/python3.6/dist-packages (from requests->sentinelsat) (1.24.3)\n",
            "Requirement already satisfied: chardet<4,>=3.0.2 in /usr/local/lib/python3.6/dist-packages (from requests->sentinelsat) (3.0.4)\n",
            "Requirement already satisfied: geopandas in /usr/local/lib/python3.6/dist-packages (0.7.0)\n",
            "Requirement already satisfied: shapely in /usr/local/lib/python3.6/dist-packages (from geopandas) (1.7.0)\n",
            "Requirement already satisfied: pyproj>=2.2.0 in /usr/local/lib/python3.6/dist-packages (from geopandas) (2.6.0)\n",
            "Requirement already satisfied: pandas>=0.23.0 in /usr/local/lib/python3.6/dist-packages (from geopandas) (1.0.3)\n",
            "Requirement already satisfied: fiona in /usr/local/lib/python3.6/dist-packages (from geopandas) (1.8.13.post1)\n",
            "Requirement already satisfied: python-dateutil>=2.6.1 in /usr/local/lib/python3.6/dist-packages (from pandas>=0.23.0->geopandas) (2.8.1)\n",
            "Requirement already satisfied: numpy>=1.13.3 in /usr/local/lib/python3.6/dist-packages (from pandas>=0.23.0->geopandas) (1.18.3)\n",
            "Requirement already satisfied: pytz>=2017.2 in /usr/local/lib/python3.6/dist-packages (from pandas>=0.23.0->geopandas) (2018.9)\n",
            "Requirement already satisfied: click<8,>=4.0 in /usr/local/lib/python3.6/dist-packages (from fiona->geopandas) (7.1.2)\n",
            "Requirement already satisfied: six>=1.7 in /usr/local/lib/python3.6/dist-packages (from fiona->geopandas) (1.12.0)\n",
            "Requirement already satisfied: click-plugins>=1.0 in /usr/local/lib/python3.6/dist-packages (from fiona->geopandas) (1.1.1)\n",
            "Requirement already satisfied: cligj>=0.5 in /usr/local/lib/python3.6/dist-packages (from fiona->geopandas) (0.5.0)\n",
            "Requirement already satisfied: attrs>=17 in /usr/local/lib/python3.6/dist-packages (from fiona->geopandas) (19.3.0)\n",
            "Requirement already satisfied: munch in /usr/local/lib/python3.6/dist-packages (from fiona->geopandas) (2.5.0)\n",
            "Requirement already satisfied: rasterio in /usr/local/lib/python3.6/dist-packages (1.1.3)\n",
            "Requirement already satisfied: click-plugins in /usr/local/lib/python3.6/dist-packages (from rasterio) (1.1.1)\n",
            "Requirement already satisfied: numpy in /usr/local/lib/python3.6/dist-packages (from rasterio) (1.18.3)\n",
            "Requirement already satisfied: snuggs>=1.4.1 in /usr/local/lib/python3.6/dist-packages (from rasterio) (1.4.7)\n",
            "Requirement already satisfied: affine in /usr/local/lib/python3.6/dist-packages (from rasterio) (2.3.0)\n",
            "Requirement already satisfied: click<8,>=4.0 in /usr/local/lib/python3.6/dist-packages (from rasterio) (7.1.2)\n",
            "Requirement already satisfied: cligj>=0.5 in /usr/local/lib/python3.6/dist-packages (from rasterio) (0.5.0)\n",
            "Requirement already satisfied: attrs in /usr/local/lib/python3.6/dist-packages (from rasterio) (19.3.0)\n",
            "Requirement already satisfied: pyparsing>=2.1.6 in /usr/local/lib/python3.6/dist-packages (from snuggs>=1.4.1->rasterio) (2.4.7)\n",
            "Requirement already satisfied: pycrs in /usr/local/lib/python3.6/dist-packages (1.0.2)\n"
          ],
          "name": "stdout"
        }
      ]
    },
    {
      "cell_type": "code",
      "metadata": {
        "id": "ebTc0-KFc9FL",
        "colab_type": "code",
        "colab": {}
      },
      "source": [
        "import pandas as pd\n",
        "import numpy as np\n",
        "import matplotlib.pyplot as plt\n",
        "import geopandas as gpd\n",
        "from sentinelsat import SentinelAPI\n",
        "import folium\n",
        "import shapely\n",
        "from shapely.geometry import MultiPolygon\n",
        "from shapely.geometry import Polygon\n",
        "from shapely.geometry import shape\n",
        "from shapely.geometry import box\n",
        "from shapely.ops import cascaded_union\n",
        "import urllib.request as request\n",
        "import json\n",
        "from datetime import datetime\n",
        "from datetime import timedelta\n",
        "import zipfile\n",
        "import rasterio as rio\n",
        "from rasterio.plot import show\n",
        "from rasterio.mask import mask\n",
        "import os\n",
        "from fiona.crs import from_epsg\n",
        "from skimage import exposure\n",
        "from PIL import Image\n",
        "import matplotlib\n",
        "import pycrs\n",
        "import shutil\n",
        "import time\n",
        "import PIL.ImageDraw as ImageDraw\n",
        "import PIL.Image as Image\n",
        "import imageio\n",
        "import warnings\n",
        "\n",
        "warnings.filterwarnings('ignore')"
      ],
      "execution_count": 0,
      "outputs": []
    },
    {
      "cell_type": "code",
      "metadata": {
        "id": "jx93UNAZeDQl",
        "colab_type": "code",
        "colab": {}
      },
      "source": [
        "url = 'https://water.blue-dot-observatory.com/api/waterbodies/'\n",
        "water_body_data = json.loads(request.urlopen(url).read().decode())"
      ],
      "execution_count": 0,
      "outputs": []
    },
    {
      "cell_type": "code",
      "metadata": {
        "id": "0NioAWateJ1V",
        "colab_type": "code",
        "outputId": "b86aa35d-8a0c-416a-e1d4-ccfb0cf3c761",
        "colab": {
          "base_uri": "https://localhost:8080/",
          "height": 34
        }
      },
      "source": [
        "len(water_body_data)"
      ],
      "execution_count": 54,
      "outputs": [
        {
          "output_type": "execute_result",
          "data": {
            "text/plain": [
              "13151"
            ]
          },
          "metadata": {
            "tags": []
          },
          "execution_count": 54
        }
      ]
    },
    {
      "cell_type": "markdown",
      "metadata": {
        "id": "PSc8MQHjOx39",
        "colab_type": "text"
      },
      "source": [
        "Get downloaded ids"
      ]
    },
    {
      "cell_type": "code",
      "metadata": {
        "id": "40seIu1TOyKS",
        "colab_type": "code",
        "colab": {}
      },
      "source": [
        "downloaded = []\n",
        "for file in os.listdir('/content/drive/My Drive/Water Bodies Satellite Images/Images'):\n",
        "  idx = file.split('_')[2]\n",
        "  downloaded.append(idx)"
      ],
      "execution_count": 0,
      "outputs": []
    },
    {
      "cell_type": "markdown",
      "metadata": {
        "id": "C04OK_aNj52C",
        "colab_type": "text"
      },
      "source": [
        "Extract Geometries"
      ]
    },
    {
      "cell_type": "code",
      "metadata": {
        "id": "xH4hK_F1dD-n",
        "colab_type": "code",
        "colab": {}
      },
      "source": [
        "def extract_geometries(max_records):\n",
        "  current_record = 18290\n",
        "  names = []\n",
        "  countries = []\n",
        "  latitudes = []\n",
        "  longitudes = []\n",
        "  geometries = []\n",
        "  idxs = []\n",
        "  while len(names) < max_records:\n",
        "    water_url = f'https://water.blue-dot-observatory.com/api/waterbodies/{current_record}/index.html'\n",
        "    try:\n",
        "      water_body_data = json.loads(request.urlopen(water_url).read().decode())\n",
        "      names.append(water_body_data['properties']['name'])\n",
        "      countries.append(water_body_data['properties']['country'])\n",
        "      latitudes.append(water_body_data['properties']['lat'])\n",
        "      longitudes.append(water_body_data['properties']['long'])\n",
        "      geometries.append(water_body_data['nominal_outline']['geometry'])\n",
        "      idxs.append(water_body_data['properties']['id'])\n",
        "    except:\n",
        "      pass\n",
        "    current_record += 1\n",
        "      \n",
        "  #Create Dataframe\n",
        "  water_bodies = pd.DataFrame({'Name':names,\n",
        "                             'Country':countries,\n",
        "                             'Latitude':latitudes,\n",
        "                             'Longitude':longitudes,\n",
        "                             'Geometry':geometries,\n",
        "                             'id':idxs})\n",
        "  \n",
        "  return water_bodies"
      ],
      "execution_count": 0,
      "outputs": []
    },
    {
      "cell_type": "markdown",
      "metadata": {
        "id": "QNeqUVM2j4PW",
        "colab_type": "text"
      },
      "source": [
        "Download from satellite"
      ]
    },
    {
      "cell_type": "code",
      "metadata": {
        "id": "ECLmJtzEflrX",
        "colab_type": "code",
        "colab": {}
      },
      "source": [
        "def download_from_satellite(i, df):\n",
        "  #Create simple shape\n",
        "  water_body_geometry = df.iloc[i]['Geometry']\n",
        "  water_body_shape = shape(water_body_geometry)\n",
        "  shape_simplified = box(water_body_shape.bounds[0], water_body_shape.bounds[1], water_body_shape.bounds[2], water_body_shape.bounds[3])\n",
        "\n",
        "  #Download data\n",
        "  today = datetime.today()\n",
        "  one_year_ago = today - timedelta(days=365)\n",
        "  today = today.strftime('%Y%m%d')\n",
        "  results = api.query(shape_simplified, date = (one_year_ago, today), platformname = 'Sentinel-2', processinglevel = 'Level-1C', cloudcoverpercentage = (0,5))\n",
        "  results_gdf = api.to_geodataframe(results).sort_values(['cloudcoverpercentage'], ascending=True)\n",
        "  uuid = results_gdf.iloc[0]['uuid']\n",
        "  filename = '/content/' + results_gdf.iloc[0]['title'] + '.zip'\n",
        "  data = api.download(uuid)\n",
        "\n",
        "  #Extract data\n",
        "  with zipfile.ZipFile(filename, 'r') as zip_ref:\n",
        "    zip_ref.extractall('/content/drive/My Drive/Satellite Data/')\n",
        "  folder = os.listdir('/content/drive/My Drive/Satellite Data/' + data['title'] + '.SAFE/GRANULE/')[0]\n",
        "  directory = '/content/drive/My Drive/Satellite Data/' + data['title'] + '.SAFE/GRANULE/' + folder + '/IMG_DATA/'\n",
        "\n",
        "  #Delete ZIP file\n",
        "  os.remove(filename)\n",
        "\n",
        "  return directory, shape_simplified"
      ],
      "execution_count": 0,
      "outputs": []
    },
    {
      "cell_type": "markdown",
      "metadata": {
        "id": "ovmvsMqNkgzz",
        "colab_type": "text"
      },
      "source": [
        "Image Processing"
      ]
    },
    {
      "cell_type": "code",
      "metadata": {
        "id": "yhpLX4W9j2Ee",
        "colab_type": "code",
        "colab": {}
      },
      "source": [
        "def image_processing(directory, shape_simplified, output_directory, i):\n",
        "  main_directory = output_directory\n",
        "  output_directory = output_directory + 'Images'\n",
        "  #Open individual RGB bands\n",
        "  for f in os.listdir(directory):\n",
        "    if '_B02' in f:\n",
        "      band_2 = rio.open(directory + f)\n",
        "      with rio.open(directory + f) as src:\n",
        "        b2 = src.read(1)\n",
        "    elif '_B03' in f:\n",
        "      band_3 = rio.open(directory + f)\n",
        "      with rio.open(directory + f) as src:\n",
        "        b3 = src.read(1)\n",
        "    elif '_B04' in f:\n",
        "      band_4 = rio.open(directory + f)\n",
        "      with rio.open(directory + f) as src:\n",
        "        b4 = src.read(1)\n",
        "  \n",
        "  #Save complete image\n",
        "  with rio.open('RGB.tiff','w',driver='Gtiff', width=band_4.width, height=band_4.height, count=3,crs=band_4.crs,transform=band_4.transform, dtype=band_4.dtypes[0]) as rgb:\n",
        "    rgb.write(band_4.read(1),1) \n",
        "    rgb.write(band_3.read(1),2) \n",
        "    rgb.write(band_2.read(1),3) \n",
        "    rgb.close()\n",
        "\n",
        "  #Clip image\n",
        "  geo = gpd.GeoDataFrame({'geometry': shape_simplified}, index=[0], crs=from_epsg(4326))\n",
        "  src = rio.open('/content/RGB.tiff')\n",
        "  geo = geo.to_crs(crs=src.crs.data)\n",
        "  coordinates = [json.loads(geo.to_json())['features'][0]['geometry']]\n",
        "  out_img, out_transform = mask(dataset=src, shapes=coordinates, crop=True)\n",
        "  out_meta = src.meta.copy()\n",
        "  epsg_code = int(src.crs.data['init'][5:])\n",
        "  out_meta.update({\"driver\": \"GTiff\",\n",
        "                 \"height\": out_img.shape[1],\n",
        "                 \"width\": out_img.shape[2],\n",
        "                 \"transform\": out_transform,\n",
        "                 \"crs\": pycrs.parse.from_epsg_code(epsg_code).to_proj4()\n",
        "                 }\n",
        "                         )\n",
        "  with rio.open('/content/output.tiff', \"w\", **out_meta) as dest:\n",
        "    dest.write(out_img)\n",
        "  \n",
        "  #Normalize and merge color bands\n",
        "  img = rio.open('output.tiff')\n",
        "  image = np.array([img.read(1), img.read(2), img.read(3)]).transpose(1,2,0)\n",
        "  p2, p98 = np.percentile(image, (2,98))\n",
        "  image = exposure.rescale_intensity(image, in_range=(p2, p98)) / 100000\n",
        "  output_filename = output_directory + '/water_body_' + str(water_bodies['id'][i]) + '.jpg'\n",
        "  matplotlib.image.imsave(output_filename, image)\n",
        "\n",
        "  return output_filename"
      ],
      "execution_count": 0,
      "outputs": []
    },
    {
      "cell_type": "markdown",
      "metadata": {
        "id": "EJR9jb7YnFum",
        "colab_type": "text"
      },
      "source": [
        "Delete raster files"
      ]
    },
    {
      "cell_type": "code",
      "metadata": {
        "id": "wpOQnZI0nFDk",
        "colab_type": "code",
        "colab": {}
      },
      "source": [
        "def delete_trash():\n",
        "  for trash in os.listdir('/content/drive/My Drive/Satellite Data/'):\n",
        "    shutil.rmtree('/content/drive/My Drive/Satellite Data/' + trash)\n",
        "\n",
        "  os.remove('/content/NDWI.tif')\n",
        "  os.remove('/content/RGB.tiff')\n",
        "  os.remove('/content/output.tiff')"
      ],
      "execution_count": 0,
      "outputs": []
    },
    {
      "cell_type": "markdown",
      "metadata": {
        "id": "stIV4fICrPfp",
        "colab_type": "text"
      },
      "source": [
        "Create mask"
      ]
    },
    {
      "cell_type": "code",
      "metadata": {
        "id": "_BlIL4hdxcqV",
        "colab_type": "code",
        "colab": {}
      },
      "source": [
        "def create_mask(directory, output_directory, i):\n",
        "  output_directory = output_directory + 'Masks'\n",
        "  #Create mask\n",
        "  for f in os.listdir(directory):\n",
        "    if '_B03' in f:\n",
        "      with rio.open(directory + f) as src:\n",
        "        b3 = src.read(1)\n",
        "    elif '_B08' in f:\n",
        "      with rio.open(directory + f) as src:\n",
        "        b8 = src.read(1)\n",
        "  NDWI = (b8.astype(float) - b3.astype(float)) / (b8 + b3)\n",
        "  out_meta = src.meta\n",
        "  out_meta.update(driver = 'GTiff', dtype=rio.float32, count = 1)\n",
        "  with rio.open('NDWI.tif', 'w', **out_meta) as dst:\n",
        "    dst.write_band(1, NDWI.astype(rio.float32))\n",
        "  src = rio.open(\"NDWI.tif\")\n",
        "  water_body_shape = shape(water_bodies.iloc[i]['Geometry'])\n",
        "  polygons = [water_body_shape]\n",
        "  boundary = gpd.GeoSeries(cascaded_union(polygons))\n",
        "  geo = gpd.GeoDataFrame({'geometry': boundary}, index=[0], crs=from_epsg(4326))\n",
        "  geo = geo.to_crs(crs=src.crs.data)\n",
        "  coordinates = [json.loads(geo.to_json())['features'][0]['geometry']]\n",
        "  out_img, out_transform = mask(dataset=src, shapes=coordinates, crop=True)\n",
        "  out_meta = src.meta.copy()\n",
        "  epsg_code = int(src.crs.data['init'][5:])\n",
        "  out_meta.update({\"driver\": \"GTiff\",\n",
        "                 \"height\": out_img.shape[1],\n",
        "                 \"width\": out_img.shape[2],\n",
        "                 \"transform\": out_transform,\n",
        "                 \"crs\": pycrs.parse.from_epsg_code(epsg_code).to_proj4()\n",
        "                 }\n",
        "                         )\n",
        "  with rio.open('/content/output.tiff', \"w\", **out_meta) as dest:\n",
        "    dest.write(out_img)\n",
        "\n",
        "  #Normalize and merge color bands\n",
        "  img = rio.open('output.tiff')\n",
        "  show(img)\n",
        "  image = np.array([img.read(1)])\n",
        "  p2, p98 = np.percentile(image, (2,98))\n",
        "  image = exposure.rescale_intensity(image, in_range=(p2, p98)) / 100000\n",
        "  image[image>0] = 1\n",
        "  output_filename = output_directory + '/water_body_' + str(water_bodies['id'][i]) + '.jpg'\n",
        "  image = np.rollaxis(image, 0, 3)\n",
        "  image = np.squeeze(image,axis=2)\n",
        "  matplotlib.image.imsave(output_filename, image, cmap='Greys_r')\n",
        "  return output_filename\n",
        "  "
      ],
      "execution_count": 0,
      "outputs": []
    },
    {
      "cell_type": "markdown",
      "metadata": {
        "id": "64AcgKl_iFJQ",
        "colab_type": "text"
      },
      "source": [
        "Complete Workflow"
      ]
    },
    {
      "cell_type": "code",
      "metadata": {
        "id": "HpdWnU0PiI4L",
        "colab_type": "code",
        "outputId": "8fbf67b7-fd98-4d3b-f746-d7df269edb0b",
        "colab": {
          "base_uri": "https://localhost:8080/",
          "height": 429
        }
      },
      "source": [
        "output_directory = '/content/drive/My Drive/Water Bodies Satellite Images/'\n",
        "\n",
        "#Extract geometries and create dataframe\n",
        "water_bodies = extract_geometries(1)\n",
        "\n",
        "#Log in to Sentinel Hub\n",
        "with open('/content/drive/My Drive/Sentinel Hub Credentials/login_info.txt') as file:\n",
        "  credentials = file.readlines()\n",
        "  credentials = [credential.strip() for credential in credentials]\n",
        "api = SentinelAPI(credentials[0], credentials[1], 'https://scihub.copernicus.eu/dhus')\n",
        "\n",
        "#Download and unzipe file\n",
        "t0 = time.time()\n",
        "for i in range(0, len(water_bodies)):\n",
        "  if water_bodies['id'][i] not in downloaded:\n",
        "    #Calculate ETA\n",
        "    t1 = time.time()\n",
        "    if i != 0 :\n",
        "      total = round((t2 - t0)/60,2)\n",
        "      eta = round(total/(i) * (len(water_bodies)-i))\n",
        "    else:\n",
        "      eta = 'N/A'\n",
        "      total = 'N/A'\n",
        "\n",
        "    name = water_bodies.iloc[i]['Name']\n",
        "    country = water_bodies.iloc[i]['Country']\n",
        "    print(f'Image {i+1} of {len(water_bodies)}: {name}, {country}. ETA: {eta} min. Total: {total} min.')\n",
        "    directory, shape_simplified = download_from_satellite(i, water_bodies)\n",
        "\n",
        "    #Clip image, merge and normalize color bands\n",
        "    output_filename = image_processing(directory, shape_simplified, output_directory, i)\n",
        "\n",
        "    #Create mask\n",
        "    output_mask = create_mask(directory, output_directory, i)\n",
        "\n",
        "    #Delete raster files\n",
        "    delete_trash()\n",
        "\n",
        "    #Rotate and resize image\n",
        "    #print('Resizing image')\n",
        "    #image_1 = Image.open(output_filename)\n",
        "    #image_2 = Image.open(output_mask)\n",
        "    #x = (image_1.size[0] - image_2.size[0])//2\n",
        "    #y = (image_1.size[1] - image_2.size[1])//2\n",
        "    #image_1_crop = image_1.rotate(0.3).crop((x, y, image_2.size[0]+x, image_2.size[1]+y))\n",
        "    #image_1_crop.save(output_filename)\n",
        "\n",
        "    t2 = time.time()\n",
        "    print('\\n')\n",
        "  else:\n",
        "    idx = water_bodies['id'][i]\n",
        "    print(f'ID: {idx} already downloaded')\n",
        "\n",
        "print('Done!')"
      ],
      "execution_count": 63,
      "outputs": [
        {
          "output_type": "stream",
          "text": [
            "Image 1 of 1: Lake Travis, United States of America. ETA: N/A min. Total: N/A min.\n"
          ],
          "name": "stdout"
        },
        {
          "output_type": "stream",
          "text": [
            "Downloading: 100%|██████████| 869M/869M [00:45<00:00, 19.3MB/s]\n",
            "MD5 checksumming: 100%|██████████| 869M/869M [00:02<00:00, 422MB/s]\n"
          ],
          "name": "stderr"
        },
        {
          "output_type": "stream",
          "text": [
            "Reading RGB bands\n"
          ],
          "name": "stdout"
        },
        {
          "output_type": "display_data",
          "data": {
            "image/png": "[encoded data removed]",
            "text/plain": [
              "<Figure size 432x288 with 1 Axes>"
            ]
          },
          "metadata": {
            "tags": [],
            "needs_background": "light"
          }
        },
        {
          "output_type": "stream",
          "text": [
            "(1, 2462, 3709)\n",
            "(2462, 3709, 1)\n",
            "\n",
            "\n",
            "Done!\n"
          ],
          "name": "stdout"
        }
      ]
    }
  ]
}