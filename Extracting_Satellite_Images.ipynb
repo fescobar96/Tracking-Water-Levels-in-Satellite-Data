{
  "nbformat": 4,
  "nbformat_minor": 0,
  "metadata": {
    "colab": {
      "name": "Extracting Satellite Images.ipynb",
      "provenance": [],
      "machine_shape": "hm",
      "mount_file_id": "https://github.com/fescobar96/Tracking-Water-Levels-in-Satellite-Data/blob/master/Extracting_Satellite_Images.ipynb",
      "authorship_tag": "ABX9TyOqoChCS0S/ftfNJ7dpD7Zq"
    },
    "kernelspec": {
      "name": "python3",
      "display_name": "Python 3"
    }
  },
  "cells": [
    {
      "cell_type": "markdown",
      "metadata": {
        "id": "WFpPPlgD7Z9C",
        "colab_type": "text"
      },
      "source": [
        "Install libraries"
      ]
    },
    {
      "cell_type": "code",
      "metadata": {
        "id": "kPt7tHVM7Wk6",
        "colab_type": "code",
        "outputId": "345e86a5-1c4c-4a47-c438-77e227037fb5",
        "colab": {
          "base_uri": "https://localhost:8080/",
          "height": 1000
        }
      },
      "source": [
        "!pip install sentinelsat\n",
        "!pip install geopandas\n",
        "!pip install rasterio\n",
        "!pip install pycrs"
      ],
      "execution_count": 1,
      "outputs": [
        {
          "output_type": "stream",
          "text": [
            "Collecting sentinelsat\n",
            "  Downloading https://files.pythonhosted.org/packages/5c/79/c2ac7b71dd13db95a9b83865bbbc7f1e4359c2b141bedad21b0e181fa06e/sentinelsat-0.13-py2.py3-none-any.whl\n",
            "Requirement already satisfied: requests in /usr/local/lib/python3.6/dist-packages (from sentinelsat) (2.23.0)\n",
            "Collecting geojson>=2\n",
            "  Downloading https://files.pythonhosted.org/packages/e4/8d/9e28e9af95739e6d2d2f8d4bef0b3432da40b7c3588fbad4298c1be09e48/geojson-2.5.0-py2.py3-none-any.whl\n",
            "Requirement already satisfied: click in /usr/local/lib/python3.6/dist-packages (from sentinelsat) (7.1.2)\n",
            "Requirement already satisfied: six in /usr/local/lib/python3.6/dist-packages (from sentinelsat) (1.12.0)\n",
            "Collecting geomet\n",
            "  Downloading https://files.pythonhosted.org/packages/c9/81/156ca48f950f833ddc392f8e3677ca50a18cb9d5db38ccb4ecea55a9303f/geomet-0.2.1.post1-py3-none-any.whl\n",
            "Requirement already satisfied: tqdm in /usr/local/lib/python3.6/dist-packages (from sentinelsat) (4.38.0)\n",
            "Collecting html2text\n",
            "  Downloading https://files.pythonhosted.org/packages/ae/88/14655f727f66b3e3199f4467bafcc88283e6c31b562686bf606264e09181/html2text-2020.1.16-py3-none-any.whl\n",
            "Requirement already satisfied: chardet<4,>=3.0.2 in /usr/local/lib/python3.6/dist-packages (from requests->sentinelsat) (3.0.4)\n",
            "Requirement already satisfied: certifi>=2017.4.17 in /usr/local/lib/python3.6/dist-packages (from requests->sentinelsat) (2020.4.5.1)\n",
            "Requirement already satisfied: idna<3,>=2.5 in /usr/local/lib/python3.6/dist-packages (from requests->sentinelsat) (2.9)\n",
            "Requirement already satisfied: urllib3!=1.25.0,!=1.25.1,<1.26,>=1.21.1 in /usr/local/lib/python3.6/dist-packages (from requests->sentinelsat) (1.24.3)\n",
            "Installing collected packages: geojson, geomet, html2text, sentinelsat\n",
            "Successfully installed geojson-2.5.0 geomet-0.2.1.post1 html2text-2020.1.16 sentinelsat-0.13\n",
            "Collecting geopandas\n",
            "\u001b[?25l  Downloading https://files.pythonhosted.org/packages/83/c5/3cf9cdc39a6f2552922f79915f36b45a95b71fd343cfc51170a5b6ddb6e8/geopandas-0.7.0-py2.py3-none-any.whl (928kB)\n",
            "\u001b[K     |████████████████████████████████| 931kB 9.2MB/s \n",
            "\u001b[?25hRequirement already satisfied: pandas>=0.23.0 in /usr/local/lib/python3.6/dist-packages (from geopandas) (1.0.3)\n",
            "Collecting fiona\n",
            "\u001b[?25l  Downloading https://files.pythonhosted.org/packages/ec/20/4e63bc5c6e62df889297b382c3ccd4a7a488b00946aaaf81a118158c6f09/Fiona-1.8.13.post1-cp36-cp36m-manylinux1_x86_64.whl (14.7MB)\n",
            "\u001b[K     |████████████████████████████████| 14.7MB 305kB/s \n",
            "\u001b[?25hRequirement already satisfied: shapely in /usr/local/lib/python3.6/dist-packages (from geopandas) (1.7.0)\n",
            "Collecting pyproj>=2.2.0\n",
            "\u001b[?25l  Downloading https://files.pythonhosted.org/packages/ce/37/705ee471f71130d4ceee41bbcb06f3b52175cb89273cbb5755ed5e6374e0/pyproj-2.6.0-cp36-cp36m-manylinux2010_x86_64.whl (10.4MB)\n",
            "\u001b[K     |████████████████████████████████| 10.4MB 57.2MB/s \n",
            "\u001b[?25hRequirement already satisfied: python-dateutil>=2.6.1 in /usr/local/lib/python3.6/dist-packages (from pandas>=0.23.0->geopandas) (2.8.1)\n",
            "Requirement already satisfied: numpy>=1.13.3 in /usr/local/lib/python3.6/dist-packages (from pandas>=0.23.0->geopandas) (1.18.3)\n",
            "Requirement already satisfied: pytz>=2017.2 in /usr/local/lib/python3.6/dist-packages (from pandas>=0.23.0->geopandas) (2018.9)\n",
            "Collecting munch\n",
            "  Downloading https://files.pythonhosted.org/packages/cc/ab/85d8da5c9a45e072301beb37ad7f833cd344e04c817d97e0cc75681d248f/munch-2.5.0-py2.py3-none-any.whl\n",
            "Collecting click-plugins>=1.0\n",
            "  Downloading https://files.pythonhosted.org/packages/e9/da/824b92d9942f4e472702488857914bdd50f73021efea15b4cad9aca8ecef/click_plugins-1.1.1-py2.py3-none-any.whl\n",
            "Requirement already satisfied: attrs>=17 in /usr/local/lib/python3.6/dist-packages (from fiona->geopandas) (19.3.0)\n",
            "Collecting cligj>=0.5\n",
            "  Downloading https://files.pythonhosted.org/packages/e4/be/30a58b4b0733850280d01f8bd132591b4668ed5c7046761098d665ac2174/cligj-0.5.0-py3-none-any.whl\n",
            "Requirement already satisfied: click<8,>=4.0 in /usr/local/lib/python3.6/dist-packages (from fiona->geopandas) (7.1.2)\n",
            "Requirement already satisfied: six>=1.7 in /usr/local/lib/python3.6/dist-packages (from fiona->geopandas) (1.12.0)\n",
            "Installing collected packages: munch, click-plugins, cligj, fiona, pyproj, geopandas\n",
            "Successfully installed click-plugins-1.1.1 cligj-0.5.0 fiona-1.8.13.post1 geopandas-0.7.0 munch-2.5.0 pyproj-2.6.0\n",
            "Collecting rasterio\n",
            "\u001b[?25l  Downloading https://files.pythonhosted.org/packages/c7/81/13321f88f582a00705c5f348724728e8999136e19d6e7c56f7e6ac9bb7f9/rasterio-1.1.3-cp36-cp36m-manylinux1_x86_64.whl (18.1MB)\n",
            "\u001b[K     |████████████████████████████████| 18.1MB 243kB/s \n",
            "\u001b[?25hCollecting snuggs>=1.4.1\n",
            "  Downloading https://files.pythonhosted.org/packages/cc/0e/d27d6e806d6c0d1a2cfdc5d1f088e42339a0a54a09c3343f7f81ec8947ea/snuggs-1.4.7-py3-none-any.whl\n",
            "Collecting affine\n",
            "  Downloading https://files.pythonhosted.org/packages/ac/a6/1a39a1ede71210e3ddaf623982b06ecfc5c5c03741ae659073159184cd3e/affine-2.3.0-py2.py3-none-any.whl\n",
            "Requirement already satisfied: numpy in /usr/local/lib/python3.6/dist-packages (from rasterio) (1.18.3)\n",
            "Requirement already satisfied: click<8,>=4.0 in /usr/local/lib/python3.6/dist-packages (from rasterio) (7.1.2)\n",
            "Requirement already satisfied: click-plugins in /usr/local/lib/python3.6/dist-packages (from rasterio) (1.1.1)\n",
            "Requirement already satisfied: cligj>=0.5 in /usr/local/lib/python3.6/dist-packages (from rasterio) (0.5.0)\n",
            "Requirement already satisfied: attrs in /usr/local/lib/python3.6/dist-packages (from rasterio) (19.3.0)\n",
            "Requirement already satisfied: pyparsing>=2.1.6 in /usr/local/lib/python3.6/dist-packages (from snuggs>=1.4.1->rasterio) (2.4.7)\n",
            "Installing collected packages: snuggs, affine, rasterio\n",
            "Successfully installed affine-2.3.0 rasterio-1.1.3 snuggs-1.4.7\n",
            "Collecting pycrs\n",
            "  Downloading https://files.pythonhosted.org/packages/50/0b/33c6ab39701d982eabfdc732d920862d79d7598893c7291c5f6ec1e66d3c/PyCRS-1.0.2.tar.gz\n",
            "Building wheels for collected packages: pycrs\n",
            "  Building wheel for pycrs (setup.py) ... \u001b[?25l\u001b[?25hdone\n",
            "  Created wheel for pycrs: filename=PyCRS-1.0.2-cp36-none-any.whl size=32683 sha256=e9847d2b699e41cb0df54b473fba5218cd28227eb90e9f0c076d73fd3b055709\n",
            "  Stored in directory: /root/.cache/pip/wheels/1a/c9/56/648f762bd41fdb03454be51b8a7069795925168833cb61f316\n",
            "Successfully built pycrs\n",
            "Installing collected packages: pycrs\n",
            "Successfully installed pycrs-1.0.2\n"
          ],
          "name": "stdout"
        }
      ]
    },
    {
      "cell_type": "markdown",
      "metadata": {
        "id": "hFHo6VEL7boB",
        "colab_type": "text"
      },
      "source": [
        "Import libraries"
      ]
    },
    {
      "cell_type": "code",
      "metadata": {
        "id": "qpLSEkps7ZAp",
        "colab_type": "code",
        "colab": {}
      },
      "source": [
        "import pandas as pd\n",
        "import numpy as np\n",
        "import matplotlib.pyplot as plt\n",
        "import geopandas as gpd\n",
        "from sentinelsat import SentinelAPI\n",
        "import folium\n",
        "import shapely\n",
        "from shapely.geometry import MultiPolygon\n",
        "from shapely.geometry import Polygon\n",
        "from shapely.geometry import shape\n",
        "from shapely.geometry import box\n",
        "import urllib.request as request\n",
        "import json\n",
        "from datetime import datetime\n",
        "import zipfile\n",
        "import rasterio as rio\n",
        "from rasterio.plot import show\n",
        "from rasterio.mask import mask\n",
        "import os\n",
        "from fiona.crs import from_epsg\n",
        "from skimage import exposure\n",
        "from PIL import Image\n",
        "import matplotlib\n",
        "import pycrs\n",
        "import warnings\n",
        "\n",
        "warnings.filterwarnings('ignore')"
      ],
      "execution_count": 0,
      "outputs": []
    },
    {
      "cell_type": "markdown",
      "metadata": {
        "id": "AxCIJVZNmYOC",
        "colab_type": "text"
      },
      "source": [
        "Extract Geometries"
      ]
    },
    {
      "cell_type": "code",
      "metadata": {
        "id": "Xn_pJKcGfL5i",
        "colab_type": "code",
        "colab": {}
      },
      "source": [
        "def extract_geometries(max_records):\n",
        "  current_record = 0\n",
        "  names = []\n",
        "  countries = []\n",
        "  latitudes = []\n",
        "  longitudes = []\n",
        "  geometries = []\n",
        "  while len(names) < max_records:\n",
        "    water_url = f'https://water.blue-dot-observatory.com/api/waterbodies/{current_record}/index.html'\n",
        "    try:\n",
        "      water_body_data = json.loads(request.urlopen(water_url).read().decode())\n",
        "      names.append(water_body_data['properties']['name'])\n",
        "      countries.append(water_body_data['properties']['country'])\n",
        "      latitudes.append(water_body_data['properties']['lat'])\n",
        "      longitudes.append(water_body_data['properties']['long'])\n",
        "      geometries.append(water_body_data['nominal_outline']['geometry'])\n",
        "    except:\n",
        "      pass\n",
        "    current_record += 1\n",
        "      \n",
        "  #Create Dataframe\n",
        "  water_bodies = pd.DataFrame({'Name':names,\n",
        "                             'Country':countries,\n",
        "                             'Latitude':latitudes,\n",
        "                             'Longitude':longitudes,\n",
        "                             'Geometry':geometries})\n",
        "  \n",
        "  return water_bodies"
      ],
      "execution_count": 0,
      "outputs": []
    },
    {
      "cell_type": "code",
      "metadata": {
        "id": "wsTm6R_Vqz0M",
        "colab_type": "code",
        "colab": {}
      },
      "source": [
        "water_bodies = extract_geometries(10)"
      ],
      "execution_count": 0,
      "outputs": []
    },
    {
      "cell_type": "code",
      "metadata": {
        "id": "MWx6YA5dfSLz",
        "colab_type": "code",
        "colab": {
          "base_uri": "https://localhost:8080/",
          "height": 359
        },
        "outputId": "9dd24f5c-27de-4c8e-e877-c9e7bed79a2a"
      },
      "source": [
        "water_bodies"
      ],
      "execution_count": 43,
      "outputs": [
        {
          "output_type": "execute_result",
          "data": {
            "text/html": [
              "<div>\n",
              "<style scoped>\n",
              "    .dataframe tbody tr th:only-of-type {\n",
              "        vertical-align: middle;\n",
              "    }\n",
              "\n",
              "    .dataframe tbody tr th {\n",
              "        vertical-align: top;\n",
              "    }\n",
              "\n",
              "    .dataframe thead th {\n",
              "        text-align: right;\n",
              "    }\n",
              "</style>\n",
              "<table border=\"1\" class=\"dataframe\">\n",
              "  <thead>\n",
              "    <tr style=\"text-align: right;\">\n",
              "      <th></th>\n",
              "      <th>Name</th>\n",
              "      <th>Country</th>\n",
              "      <th>Latitude</th>\n",
              "      <th>Longitude</th>\n",
              "      <th>Geometry</th>\n",
              "    </tr>\n",
              "  </thead>\n",
              "  <tbody>\n",
              "    <tr>\n",
              "      <th>0</th>\n",
              "      <td>Waduk Saguling</td>\n",
              "      <td>Indonesia</td>\n",
              "      <td>-6.921428</td>\n",
              "      <td>107.432124</td>\n",
              "      <td>{'coordinates': [[[[107.3995006, -6.9632461], ...</td>\n",
              "    </tr>\n",
              "    <tr>\n",
              "      <th>1</th>\n",
              "      <td>Karangkates</td>\n",
              "      <td>Indonesia</td>\n",
              "      <td>-8.182967</td>\n",
              "      <td>112.481540</td>\n",
              "      <td>{'coordinates': [[[112.446266, -8.1639212], [1...</td>\n",
              "    </tr>\n",
              "    <tr>\n",
              "      <th>2</th>\n",
              "      <td>Waduk Wadaslintang</td>\n",
              "      <td>Indonesia</td>\n",
              "      <td>-7.578089</td>\n",
              "      <td>109.784388</td>\n",
              "      <td>{'coordinates': [[[109.7529273, -7.5696733], [...</td>\n",
              "    </tr>\n",
              "    <tr>\n",
              "      <th>3</th>\n",
              "      <td>Togo Ngebe</td>\n",
              "      <td>Indonesia</td>\n",
              "      <td>-7.797072</td>\n",
              "      <td>111.632870</td>\n",
              "      <td>{'coordinates': [[[111.6267164, -7.795229], [1...</td>\n",
              "    </tr>\n",
              "    <tr>\n",
              "      <th>4</th>\n",
              "      <td>Cirata</td>\n",
              "      <td>Indonesia</td>\n",
              "      <td>-6.737726</td>\n",
              "      <td>107.298976</td>\n",
              "      <td>{'coordinates': [[[107.24025, -6.716], [107.24...</td>\n",
              "    </tr>\n",
              "    <tr>\n",
              "      <th>5</th>\n",
              "      <td>Riam Kanan</td>\n",
              "      <td>Indonesia</td>\n",
              "      <td>-3.528408</td>\n",
              "      <td>115.077082</td>\n",
              "      <td>{'coordinates': [[[115.0013237, -3.5811811], [...</td>\n",
              "    </tr>\n",
              "    <tr>\n",
              "      <th>6</th>\n",
              "      <td>Gondang</td>\n",
              "      <td>Indonesia</td>\n",
              "      <td>-7.209774</td>\n",
              "      <td>112.269189</td>\n",
              "      <td>{'coordinates': [[[112.2567124, -7.2111565], [...</td>\n",
              "    </tr>\n",
              "    <tr>\n",
              "      <th>7</th>\n",
              "      <td>Waduk Nglahor</td>\n",
              "      <td>Indonesia</td>\n",
              "      <td>-8.143460</td>\n",
              "      <td>112.468104</td>\n",
              "      <td>{'coordinates': [[[112.4513062, -8.1452087], [...</td>\n",
              "    </tr>\n",
              "    <tr>\n",
              "      <th>8</th>\n",
              "      <td>Waduk Kedung Ombo</td>\n",
              "      <td>Indonesia</td>\n",
              "      <td>-7.284976</td>\n",
              "      <td>110.811855</td>\n",
              "      <td>{'coordinates': [[[110.753302, -7.3012137], [1...</td>\n",
              "    </tr>\n",
              "    <tr>\n",
              "      <th>9</th>\n",
              "      <td>Waduk Selorejo</td>\n",
              "      <td>Indonesia</td>\n",
              "      <td>-7.864118</td>\n",
              "      <td>112.365434</td>\n",
              "      <td>{'coordinates': [[[112.3549104, -7.8722693], [...</td>\n",
              "    </tr>\n",
              "  </tbody>\n",
              "</table>\n",
              "</div>"
            ],
            "text/plain": [
              "                 Name  ...                                           Geometry\n",
              "0      Waduk Saguling  ...  {'coordinates': [[[[107.3995006, -6.9632461], ...\n",
              "1         Karangkates  ...  {'coordinates': [[[112.446266, -8.1639212], [1...\n",
              "2  Waduk Wadaslintang  ...  {'coordinates': [[[109.7529273, -7.5696733], [...\n",
              "3          Togo Ngebe  ...  {'coordinates': [[[111.6267164, -7.795229], [1...\n",
              "4              Cirata  ...  {'coordinates': [[[107.24025, -6.716], [107.24...\n",
              "5          Riam Kanan  ...  {'coordinates': [[[115.0013237, -3.5811811], [...\n",
              "6             Gondang  ...  {'coordinates': [[[112.2567124, -7.2111565], [...\n",
              "7       Waduk Nglahor  ...  {'coordinates': [[[112.4513062, -8.1452087], [...\n",
              "8   Waduk Kedung Ombo  ...  {'coordinates': [[[110.753302, -7.3012137], [1...\n",
              "9      Waduk Selorejo  ...  {'coordinates': [[[112.3549104, -7.8722693], [...\n",
              "\n",
              "[10 rows x 5 columns]"
            ]
          },
          "metadata": {
            "tags": []
          },
          "execution_count": 43
        }
      ]
    },
    {
      "cell_type": "markdown",
      "metadata": {
        "id": "XNkVgojaBlCw",
        "colab_type": "text"
      },
      "source": [
        "Read login credentials"
      ]
    },
    {
      "cell_type": "code",
      "metadata": {
        "id": "PWQR3fe8Bghy",
        "colab_type": "code",
        "colab": {}
      },
      "source": [
        "with open('/content/drive/My Drive/Sentinel Hub Credentials/login_info.txt') as file:\n",
        "  credentials = file.readlines()\n",
        "  credentials = [credential.strip() for credential in credentials]"
      ],
      "execution_count": 0,
      "outputs": []
    },
    {
      "cell_type": "markdown",
      "metadata": {
        "id": "IiLyFzmtuZv6",
        "colab_type": "text"
      },
      "source": [
        "Download Satellite Images"
      ]
    },
    {
      "cell_type": "code",
      "metadata": {
        "id": "Ef1y6QC-Cb2i",
        "colab_type": "code",
        "colab": {}
      },
      "source": [
        "api = SentinelAPI(credentials[0], credentials[1], 'https://scihub.copernicus.eu/dhus')"
      ],
      "execution_count": 0,
      "outputs": []
    },
    {
      "cell_type": "code",
      "metadata": {
        "id": "pDMrnECEAtn6",
        "colab_type": "code",
        "colab": {}
      },
      "source": [
        "today = datetime.today().strftime('%Y%m%d')"
      ],
      "execution_count": 0,
      "outputs": []
    },
    {
      "cell_type": "code",
      "metadata": {
        "id": "z5JLJ54LlZSK",
        "colab_type": "code",
        "colab": {}
      },
      "source": [
        "water_body_geometry = water_bodies.iloc[0]['Geometry']"
      ],
      "execution_count": 0,
      "outputs": []
    },
    {
      "cell_type": "code",
      "metadata": {
        "id": "EuBukbHslHu8",
        "colab_type": "code",
        "colab": {}
      },
      "source": [
        "water_body_shape = shape(water_body_geometry)"
      ],
      "execution_count": 0,
      "outputs": []
    },
    {
      "cell_type": "code",
      "metadata": {
        "id": "yrcQZDMC_ZJl",
        "colab_type": "code",
        "colab": {}
      },
      "source": [
        "shape_simplified = box(water_body_shape.bounds[0], water_body_shape.bounds[1], water_body_shape.bounds[2], water_body_shape.bounds[3])"
      ],
      "execution_count": 0,
      "outputs": []
    },
    {
      "cell_type": "code",
      "metadata": {
        "id": "v9jNgkPulKcD",
        "colab_type": "code",
        "outputId": "0b51774c-f2ac-424a-abd5-314c11b74a90",
        "colab": {
          "base_uri": "https://localhost:8080/",
          "height": 68
        }
      },
      "source": [
        "results = api.query(shape_simplified, date = ('20140101', today), platformname = 'Sentinel-2', processinglevel = 'Level-1C', cloudcoverpercentage = (0,5))\n",
        "results_gdf = api.to_geodataframe(results).sort_values(['cloudcoverpercentage'], ascending=True)\n",
        "uuid = results_gdf.iloc[0]['uuid']\n",
        "filename = '/content/' + results_gdf.iloc[0]['title'] + '.zip'\n",
        "data = api.download(uuid)"
      ],
      "execution_count": 15,
      "outputs": [
        {
          "output_type": "stream",
          "text": [
            "Querying products: 100%|██████████| 144/144 [00:01<00:00, 109.88 products/s]\n",
            "Downloading: 100%|██████████| 869M/869M [00:29<00:00, 29.7MB/s]\n",
            "MD5 checksumming: 100%|██████████| 869M/869M [00:01<00:00, 458MB/s]\n"
          ],
          "name": "stderr"
        }
      ]
    },
    {
      "cell_type": "code",
      "metadata": {
        "id": "7eL3VyoRlPhD",
        "colab_type": "code",
        "colab": {}
      },
      "source": [
        "with zipfile.ZipFile(filename, 'r') as zip_ref:\n",
        "  zip_ref.extractall('/content/drive/My Drive/Satellite Data/')\n",
        "folder = os.listdir('/content/drive/My Drive/Satellite Data/' + data['title'] + '.SAFE/GRANULE/')[0]\n",
        "directory = '/content/drive/My Drive/Satellite Data/' + data['title'] + '.SAFE/GRANULE/' + folder + '/IMG_DATA/'"
      ],
      "execution_count": 0,
      "outputs": []
    },
    {
      "cell_type": "code",
      "metadata": {
        "id": "RRyt9w6unIXH",
        "colab_type": "code",
        "colab": {}
      },
      "source": [
        "os.remove(filename)"
      ],
      "execution_count": 0,
      "outputs": []
    },
    {
      "cell_type": "code",
      "metadata": {
        "id": "M8n1FfvAN1Xm",
        "colab_type": "code",
        "colab": {}
      },
      "source": [
        "for f in os.listdir(directory):\n",
        "  if '_B02' in f:\n",
        "    band_2 = rio.open(directory + f)\n",
        "  elif '_B03' in f:\n",
        "    band_3 = rio.open(directory + f)\n",
        "  elif '_B04' in f:\n",
        "    band_4 = rio.open(directory + f)"
      ],
      "execution_count": 0,
      "outputs": []
    },
    {
      "cell_type": "code",
      "metadata": {
        "id": "h3giPjNmN0rV",
        "colab_type": "code",
        "colab": {}
      },
      "source": [
        "with rio.open('RGB.tiff','w',driver='Gtiff', width=band_4.width, height=band_4.height, \n",
        "              count=3,crs=band_4.crs,transform=band_4.transform, dtype=band_4.dtypes[0]) as rgb:\n",
        "    rgb.write(band_4.read(1),1) \n",
        "    rgb.write(band_3.read(1),2) \n",
        "    rgb.write(band_2.read(1),3) \n",
        "    rgb.close()"
      ],
      "execution_count": 0,
      "outputs": []
    },
    {
      "cell_type": "code",
      "metadata": {
        "id": "v8pn77NRL_6G",
        "colab_type": "code",
        "colab": {}
      },
      "source": [
        "minx, miny = -98.2571703, 30.3577993\n",
        "maxx, maxy = -97.8719835, 30.5810474\n",
        "bbox = box(minx, miny, maxx, maxy)"
      ],
      "execution_count": 0,
      "outputs": []
    },
    {
      "cell_type": "code",
      "metadata": {
        "id": "AGdX62vEMyvo",
        "colab_type": "code",
        "colab": {}
      },
      "source": [
        "geo = gpd.GeoDataFrame({'geometry': bbox}, index=[0], crs=from_epsg(4326))"
      ],
      "execution_count": 0,
      "outputs": []
    },
    {
      "cell_type": "code",
      "metadata": {
        "id": "9UEEceQdNYUk",
        "colab_type": "code",
        "colab": {}
      },
      "source": [
        "src = rio.open('/content/RGB.tiff')"
      ],
      "execution_count": 0,
      "outputs": []
    },
    {
      "cell_type": "code",
      "metadata": {
        "id": "hb9PUDLNNKBI",
        "colab_type": "code",
        "colab": {}
      },
      "source": [
        "geo = geo.to_crs(crs=src.crs.data)"
      ],
      "execution_count": 0,
      "outputs": []
    },
    {
      "cell_type": "code",
      "metadata": {
        "id": "Oy7hRRkfNPkH",
        "colab_type": "code",
        "colab": {}
      },
      "source": [
        "def get_features(gdf):\n",
        "    return [json.loads(gdf.to_json())['features'][0]['geometry']]"
      ],
      "execution_count": 0,
      "outputs": []
    },
    {
      "cell_type": "code",
      "metadata": {
        "id": "aP5vB-2fNhJS",
        "colab_type": "code",
        "outputId": "a3febcc2-e278-4fd9-80e9-e7439edc7e42",
        "colab": {
          "base_uri": "https://localhost:8080/",
          "height": 54
        }
      },
      "source": [
        "coordinates = get_features(geo)\n",
        "print(coordinates)"
      ],
      "execution_count": 31,
      "outputs": [
        {
          "output_type": "stream",
          "text": [
            "[{'type': 'Polygon', 'coordinates': [[[608405.6357454355, 3358972.860974127], [608158.6021092285, 3383714.6797456937], [571224.129600805, 3383407.870148308], [571386.7872278213, 3358667.38035143], [608405.6357454355, 3358972.860974127]]]}]\n"
          ],
          "name": "stdout"
        }
      ]
    },
    {
      "cell_type": "code",
      "metadata": {
        "id": "PHmEu8SuNjVO",
        "colab_type": "code",
        "colab": {}
      },
      "source": [
        "out_img, out_transform = mask(dataset=src, shapes=coordinates, crop=True)"
      ],
      "execution_count": 0,
      "outputs": []
    },
    {
      "cell_type": "code",
      "metadata": {
        "id": "75JCxqucNpD7",
        "colab_type": "code",
        "colab": {}
      },
      "source": [
        "out_meta = src.meta.copy()"
      ],
      "execution_count": 0,
      "outputs": []
    },
    {
      "cell_type": "code",
      "metadata": {
        "id": "K8989E6oOo-_",
        "colab_type": "code",
        "colab": {}
      },
      "source": [
        "epsg_code = int(src.crs.data['init'][5:])"
      ],
      "execution_count": 0,
      "outputs": []
    },
    {
      "cell_type": "code",
      "metadata": {
        "id": "jmEJa6p3OuLT",
        "colab_type": "code",
        "colab": {}
      },
      "source": [
        "out_meta.update({\"driver\": \"GTiff\",\n",
        "                 \"height\": out_img.shape[1],\n",
        "                 \"width\": out_img.shape[2],\n",
        "                 \"transform\": out_transform,\n",
        "                 \"crs\": pycrs.parse.from_epsg_code(epsg_code).to_proj4()\n",
        "                 }\n",
        "                         )"
      ],
      "execution_count": 0,
      "outputs": []
    },
    {
      "cell_type": "code",
      "metadata": {
        "id": "mUsow61lO7PR",
        "colab_type": "code",
        "colab": {}
      },
      "source": [
        "with rio.open('/content/output.tiff', \"w\", **out_meta) as dest:\n",
        "        dest.write(out_img)"
      ],
      "execution_count": 0,
      "outputs": []
    },
    {
      "cell_type": "code",
      "metadata": {
        "id": "iDjfvGmyVK9d",
        "colab_type": "code",
        "colab": {}
      },
      "source": [
        "img = rio.open('output.tiff')\n",
        "image = np.array([img.read(1), img.read(2), img.read(3)]).transpose(1,2,0)\n",
        "p2, p98 = np.percentile(image, (2,98))\n",
        "image = exposure.rescale_intensity(image, in_range=(p2, p98)) / 100000"
      ],
      "execution_count": 0,
      "outputs": []
    },
    {
      "cell_type": "code",
      "metadata": {
        "id": "wx5OH_6YVkK4",
        "colab_type": "code",
        "colab": {}
      },
      "source": [
        "matplotlib.image.imsave('lake_travis.jpg', image)"
      ],
      "execution_count": 0,
      "outputs": []
    },
    {
      "cell_type": "code",
      "metadata": {
        "id": "cGDtxjXpb0lD",
        "colab_type": "code",
        "colab": {}
      },
      "source": [
        "os.remove('/content/RGB.tiff')\n",
        "os.remove('/content/output.tiff')"
      ],
      "execution_count": 0,
      "outputs": []
    },
    {
      "cell_type": "code",
      "metadata": {
        "id": "1_9OLQ00cXPS",
        "colab_type": "code",
        "colab": {}
      },
      "source": [
        "def create_mask(i):\n",
        "  #Image\n",
        "  filename = data.iloc[i][0]\n",
        "  image_1 = Image.open(directory + '/' + filename)\n",
        "\n",
        "  #Polygon\n",
        "  image_2 = image_1.copy()\n",
        "  draw = ImageDraw.Draw(image_2)\n",
        "  draw.rectangle([(0,0),image_1.size], fill='black')\n",
        "\n",
        "  for shape in range(len(data['regions'][i])):\n",
        "    x = data['regions'][i][str(shape)]['shape_attributes']['all_points_x']\n",
        "    y = data['regions'][i][str(shape)]['shape_attributes']['all_points_y']\n",
        "    coordinates = list(zip(x,y))\n",
        "    draw.polygon(coordinates, fill='white')\n",
        "\n",
        "  #Merge images\n",
        "  final_image = Image.blend(image_1, image_2, alpha=1)\n",
        "  return final_image"
      ],
      "execution_count": 0,
      "outputs": []
    }
  ]
}