{
  "nbformat": 4,
  "nbformat_minor": 0,
  "metadata": {
    "colab": {
      "name": "Extracting Satellite Images.ipynb",
      "provenance": [],
      "authorship_tag": "ABX9TyPnKk71BEgYtCqdgmtWc3Rn"
    },
    "kernelspec": {
      "name": "python3",
      "display_name": "Python 3"
    }
  },
  "cells": [
    {
      "cell_type": "markdown",
      "metadata": {
        "id": "WFpPPlgD7Z9C",
        "colab_type": "text"
      },
      "source": [
        "Install libraries"
      ]
    },
    {
      "cell_type": "code",
      "metadata": {
        "id": "kPt7tHVM7Wk6",
        "colab_type": "code",
        "outputId": "c307cf0f-b0de-4861-df29-ff2c1e2e1b72",
        "colab": {
          "base_uri": "https://localhost:8080/",
          "height": 343
        }
      },
      "source": [
        "!pip install sentinelsat"
      ],
      "execution_count": 2,
      "outputs": [
        {
          "output_type": "stream",
          "text": [
            "Collecting sentinelsat\n",
            "  Downloading https://files.pythonhosted.org/packages/5c/79/c2ac7b71dd13db95a9b83865bbbc7f1e4359c2b141bedad21b0e181fa06e/sentinelsat-0.13-py2.py3-none-any.whl\n",
            "Requirement already satisfied: tqdm in /usr/local/lib/python3.6/dist-packages (from sentinelsat) (4.38.0)\n",
            "Requirement already satisfied: click in /usr/local/lib/python3.6/dist-packages (from sentinelsat) (7.1.1)\n",
            "Collecting geomet\n",
            "  Downloading https://files.pythonhosted.org/packages/c9/81/156ca48f950f833ddc392f8e3677ca50a18cb9d5db38ccb4ecea55a9303f/geomet-0.2.1.post1-py3-none-any.whl\n",
            "Collecting geojson>=2\n",
            "  Downloading https://files.pythonhosted.org/packages/e4/8d/9e28e9af95739e6d2d2f8d4bef0b3432da40b7c3588fbad4298c1be09e48/geojson-2.5.0-py2.py3-none-any.whl\n",
            "Requirement already satisfied: requests in /usr/local/lib/python3.6/dist-packages (from sentinelsat) (2.21.0)\n",
            "Collecting html2text\n",
            "  Downloading https://files.pythonhosted.org/packages/ae/88/14655f727f66b3e3199f4467bafcc88283e6c31b562686bf606264e09181/html2text-2020.1.16-py3-none-any.whl\n",
            "Requirement already satisfied: six in /usr/local/lib/python3.6/dist-packages (from sentinelsat) (1.12.0)\n",
            "Requirement already satisfied: idna<2.9,>=2.5 in /usr/local/lib/python3.6/dist-packages (from requests->sentinelsat) (2.8)\n",
            "Requirement already satisfied: certifi>=2017.4.17 in /usr/local/lib/python3.6/dist-packages (from requests->sentinelsat) (2020.4.5.1)\n",
            "Requirement already satisfied: urllib3<1.25,>=1.21.1 in /usr/local/lib/python3.6/dist-packages (from requests->sentinelsat) (1.24.3)\n",
            "Requirement already satisfied: chardet<3.1.0,>=3.0.2 in /usr/local/lib/python3.6/dist-packages (from requests->sentinelsat) (3.0.4)\n",
            "Installing collected packages: geomet, geojson, html2text, sentinelsat\n",
            "Successfully installed geojson-2.5.0 geomet-0.2.1.post1 html2text-2020.1.16 sentinelsat-0.13\n"
          ],
          "name": "stdout"
        }
      ]
    },
    {
      "cell_type": "markdown",
      "metadata": {
        "id": "hFHo6VEL7boB",
        "colab_type": "text"
      },
      "source": [
        "Import libraries"
      ]
    },
    {
      "cell_type": "code",
      "metadata": {
        "id": "qpLSEkps7ZAp",
        "colab_type": "code",
        "colab": {}
      },
      "source": [
        "from sentinelsat import SentinelAPI"
      ],
      "execution_count": 0,
      "outputs": []
    },
    {
      "cell_type": "markdown",
      "metadata": {
        "id": "XNkVgojaBlCw",
        "colab_type": "text"
      },
      "source": [
        "Read login credentials"
      ]
    },
    {
      "cell_type": "code",
      "metadata": {
        "id": "PWQR3fe8Bghy",
        "colab_type": "code",
        "colab": {}
      },
      "source": [
        "with open('/content/login_info.txt') as file:\n",
        "  credentials = file.readlines()\n",
        "  credentials = [credential.strip() for credential in credentials] "
      ],
      "execution_count": 0,
      "outputs": []
    },
    {
      "cell_type": "code",
      "metadata": {
        "id": "Ef1y6QC-Cb2i",
        "colab_type": "code",
        "colab": {}
      },
      "source": [
        "api = SentinelAPI(credentials[0], credentials[1], 'https://scihub.copernicus.eu/dhus')"
      ],
      "execution_count": 0,
      "outputs": []
    }
  ]
}