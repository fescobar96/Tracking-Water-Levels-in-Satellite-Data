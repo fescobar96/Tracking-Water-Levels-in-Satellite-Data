{
  "nbformat": 4,
  "nbformat_minor": 0,
  "metadata": {
    "colab": {
      "name": "Tracking Water Levels in Satellite Data.ipynb",
      "provenance": [],
      "authorship_tag": "ABX9TyNkBlK7ZfAuvN6W1EaphH9A"
    },
    "kernelspec": {
      "name": "python3",
      "display_name": "Python 3"
    }
  },
  "cells": [
    {
      "cell_type": "code",
      "metadata": {
        "id": "LYZ_zNAn-lHn",
        "colab_type": "code",
        "colab": {}
      },
      "source": [
        "import numpy as np\n",
        "import scipy\n",
        "import matplotlib.pyplot as plt"
      ],
      "execution_count": 0,
      "outputs": []
    }
  ]
}