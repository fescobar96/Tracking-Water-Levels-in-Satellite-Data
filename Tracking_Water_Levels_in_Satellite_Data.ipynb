{
  "nbformat": 4,
  "nbformat_minor": 0,
  "metadata": {
    "colab": {
      "name": "Tracking Water Levels in Satellite Data.ipynb",
      "provenance": [],
      "machine_shape": "hm",
      "authorship_tag": "ABX9TyPQ8IJzRJhuGYZUWtsbKcfP"
    },
    "kernelspec": {
      "name": "python3",
      "display_name": "Python 3"
    },
    "accelerator": "GPU"
  },
  "cells": [
    {
      "cell_type": "markdown",
      "metadata": {
        "id": "p8UeZz2zvpC6",
        "colab_type": "text"
      },
      "source": [
        "Import libraries"
      ]
    },
    {
      "cell_type": "code",
      "metadata": {
        "id": "LYZ_zNAn-lHn",
        "colab_type": "code",
        "colab": {}
      },
      "source": [
        "import os\n",
        "import pandas as pd\n",
        "import numpy as np\n",
        "import scipy\n",
        "import matplotlib.pyplot as plt\n",
        "import tensorflow as tf\n",
        "from tensorflow.keras import Input\n",
        "from tensorflow.keras.layers import Conv2D \n",
        "from tensorflow.keras.layers import MaxPooling2D\n",
        "from tensorflow.keras.layers import Dropout\n",
        "from tensorflow.keras.layers import Conv2DTranspose\n",
        "from tensorflow.keras.layers import concatenate\n",
        "from tensorflow.keras import Model\n",
        "from tensorflow.keras.utils import plot_model\n",
        "from tqdm.notebook import tqdm\n",
        "import PIL.ImageDraw as ImageDraw\n",
        "import PIL.Image as Image"
      ],
      "execution_count": 0,
      "outputs": []
    },
    {
      "cell_type": "markdown",
      "metadata": {
        "id": "c7nNi-aqvoKO",
        "colab_type": "text"
      },
      "source": [
        "Load images"
      ]
    },
    {
      "cell_type": "code",
      "metadata": {
        "id": "ANHZ47uHE5A1",
        "colab_type": "code",
        "colab": {}
      },
      "source": [
        "images_directory = '/content/drive/My Drive/Water Bodies Satellite Images/Images'"
      ],
      "execution_count": 0,
      "outputs": []
    },
    {
      "cell_type": "code",
      "metadata": {
        "id": "dVUyAE1d8H84",
        "colab_type": "code",
        "colab": {}
      },
      "source": [
        "images_to_load = []\n",
        "for root, directory, file in os.walk(images_directory):\n",
        "  for f in file:\n",
        "    images_to_load.append(root + '/' + f)"
      ],
      "execution_count": 0,
      "outputs": []
    },
    {
      "cell_type": "code",
      "metadata": {
        "id": "c3aq1e_PPa7U",
        "colab_type": "code",
        "outputId": "8718b458-6a1b-4120-8e7e-66983f1196db",
        "colab": {
          "base_uri": "https://localhost:8080/",
          "height": 151,
          "referenced_widgets": [
            "062be055098248eda2f2d35024f326e3",
            "e64872a9bbf84172a1b21b5782d2520b",
            "b2b120b21bd74091a211c09e96e7472b",
            "e026f217673e43e2a338f0d78c254bef",
            "dfce0ef651c241e8a6d323c19b22c9de",
            "dd5a962de7654aad888f606bdd4b6019",
            "43c79939643d4936941898a55cb71d15",
            "2e7ab29e8c224f3795e7ad42bf2a2dd9"
          ]
        }
      },
      "source": [
        "images = []\n",
        "for file in tqdm(sorted(images_to_load)):\n",
        "  if any(extension in file for extension in ['.jpg', 'jpeg', '.png']):\n",
        "    image = tf.keras.preprocessing.image.load_img(file)\n",
        "    image = tf.keras.preprocessing.image.img_to_array(image)/255.0\n",
        "    images.append(image)\n",
        "\n",
        "images = np.array(images)"
      ],
      "execution_count": 0,
      "outputs": [
        {
          "output_type": "display_data",
          "data": {
            "application/vnd.jupyter.widget-view+json": {
              "model_id": "062be055098248eda2f2d35024f326e3",
              "version_minor": 0,
              "version_major": 2
            },
            "text/plain": [
              "HBox(children=(IntProgress(value=0, max=5), HTML(value='')))"
            ]
          },
          "metadata": {
            "tags": []
          }
        },
        {
          "output_type": "stream",
          "text": [
            "water_body_0.jpg\n",
            "water_body_1.jpg\n",
            "water_body_2.jpg\n",
            "water_body_3.jpg\n",
            "water_body_4.jpg\n",
            "\n"
          ],
          "name": "stdout"
        }
      ]
    },
    {
      "cell_type": "markdown",
      "metadata": {
        "id": "ATJ_TCRM6nK8",
        "colab_type": "text"
      },
      "source": [
        "Load masks"
      ]
    },
    {
      "cell_type": "code",
      "metadata": {
        "id": "XJxHAXXp7KRj",
        "colab_type": "code",
        "colab": {}
      },
      "source": [
        "masks_directory = '/content/drive/My Drive/Water Bodies Satellite Images/Masks'"
      ],
      "execution_count": 0,
      "outputs": []
    },
    {
      "cell_type": "code",
      "metadata": {
        "id": "rZZB1B868fIW",
        "colab_type": "code",
        "colab": {}
      },
      "source": [
        "masks_to_load = []\n",
        "for root, directory, file in os.walk(masks_directory):\n",
        "  for f in file:\n",
        "    masks_to_load.append(root + '/' + f)"
      ],
      "execution_count": 0,
      "outputs": []
    },
    {
      "cell_type": "code",
      "metadata": {
        "id": "Nip2uTB3Jfoh",
        "colab_type": "code",
        "outputId": "07ae690d-2ee9-4593-efaf-0c96dc8e5b01",
        "colab": {
          "base_uri": "https://localhost:8080/",
          "height": 151,
          "referenced_widgets": [
            "4383a4d1799e42f0bc6bf51f1e0eab34",
            "a70bfd0ffaec447fb1af742bc1c78cae",
            "d099c9bdfe354cbd9db420ad4353d7d0",
            "9e9575a3fd0a4a7e90279af69d2da4d8",
            "98fadf8b344848ebb0754b3bbea1329d",
            "a00dba9aa0414a4fae905b95da979ead",
            "e6bee6d49e4d4775a701e61fa372e5b7",
            "7c2931bea9dd48d3bca964da9fd0308a"
          ]
        }
      },
      "source": [
        "masks = []\n",
        "for file in tqdm(sorted(masks_to_load)):\n",
        "  if any(extension in file for extension in ['.jpg', 'jpeg', '.png']):\n",
        "    mask = tf.keras.preprocessing.image.load_img(file)\n",
        "    mask = tf.keras.preprocessing.image.img_to_array(image)/255.0\n",
        "    masks.append(mask)\n",
        "\n",
        "masks = np.array(masks)"
      ],
      "execution_count": 0,
      "outputs": [
        {
          "output_type": "display_data",
          "data": {
            "application/vnd.jupyter.widget-view+json": {
              "model_id": "4383a4d1799e42f0bc6bf51f1e0eab34",
              "version_minor": 0,
              "version_major": 2
            },
            "text/plain": [
              "HBox(children=(IntProgress(value=0, max=5), HTML(value='')))"
            ]
          },
          "metadata": {
            "tags": []
          }
        },
        {
          "output_type": "stream",
          "text": [
            "water_body_0.jpg\n",
            "water_body_1.jpg\n",
            "water_body_2.jpg\n",
            "water_body_3.jpg\n",
            "water_body_4.jpg\n",
            "\n"
          ],
          "name": "stdout"
        }
      ]
    },
    {
      "cell_type": "markdown",
      "metadata": {
        "id": "KOELo6vYLbXS",
        "colab_type": "text"
      },
      "source": [
        "U-NET"
      ]
    },
    {
      "cell_type": "code",
      "metadata": {
        "id": "jEcuJ4hnNcJU",
        "colab_type": "code",
        "colab": {}
      },
      "source": [
        "image_width = 256\n",
        "image_height = 256\n",
        "image_channels = 3\n",
        "filter_multiplier = 8"
      ],
      "execution_count": 0,
      "outputs": []
    },
    {
      "cell_type": "code",
      "metadata": {
        "id": "BvOjLWaIHbJn",
        "colab_type": "code",
        "colab": {}
      },
      "source": [
        "inputs = Input(shape=(image_width, image_height, image_channels))\n",
        "#1\n",
        "first_convolution = Conv2D(filters=1*filter_multiplier, kernel_size=(3,3), padding='same', activation='relu' )(inputs)\n",
        "first_convolution = Conv2D(filters=1*filter_multiplier, kernel_size=(3,3), padding='same', activation='relu' )(first_convolution)\n",
        "first_pooling = MaxPooling2D(pool_size=(2,2))(first_convolution)\n",
        "first_pooling = Dropout(0.5)(first_pooling)\n",
        "\n",
        "#2\n",
        "second_convolution = Conv2D(filters=2*filter_multiplier, kernel_size=(3,3), padding='same', activation='relu' )(first_pooling)\n",
        "second_convolution = Conv2D(filters=2*filter_multiplier, kernel_size=(3,3), padding='same', activation='relu' )(second_convolution)\n",
        "second_pooling = MaxPooling2D(pool_size=(2,2))(second_convolution)\n",
        "second_pooling = Dropout(0.5)(second_pooling)\n",
        "\n",
        "#3\n",
        "third_convolution = Conv2D(filters=4*filter_multiplier, kernel_size=(3,3), padding='same', activation='relu' )(second_pooling)\n",
        "third_convolution = Conv2D(filters=4*filter_multiplier, kernel_size=(3,3), padding='same', activation='relu' )(third_convolution)\n",
        "third_pooling = MaxPooling2D(pool_size=(2,2))(third_convolution)\n",
        "third_pooling = Dropout(0.5)(third_pooling)\n",
        "\n",
        "#4\n",
        "fourth_convolution = Conv2D(filters=8*filter_multiplier, kernel_size=(3,3), padding='same', activation='relu' )(third_pooling)\n",
        "fourth_convolution = Conv2D(filters=8*filter_multiplier, kernel_size=(3,3), padding='same', activation='relu' )(fourth_convolution)\n",
        "fourth_pooling = MaxPooling2D(pool_size=(2,2))(fourth_convolution)\n",
        "fourth_pooling = Dropout(0.5)(fourth_pooling)\n",
        "\n",
        "#5\n",
        "fifth_convolution = Conv2D(filters=16*filter_multiplier, kernel_size=(3,3), padding='same', activation='relu' )(fourth_pooling)\n",
        "fifth_convolution = Conv2D(filters=16*filter_multiplier, kernel_size=(3,3), padding='same', activation='relu' )(fifth_convolution)\n",
        "\n",
        "#6\n",
        "sixth_deconvolution = Conv2DTranspose(filters=8*filter_multiplier, kernel_size=(3,3), strides=(2,2), padding='same', activation='relu' )(fifth_convolution)\n",
        "sixth_convolution = concatenate([sixth_deconvolution, fourth_convolution])\n",
        "sixth_convolution = Dropout(0.5)(sixth_convolution)\n",
        "sixth_convolution = Conv2D(filters=8*filter_multiplier, kernel_size=(3,3), padding='same', activation='relu' )(sixth_convolution)\n",
        "sixth_convolution = Conv2D(filters=8*filter_multiplier, kernel_size=(3,3), padding='same', activation='relu' )(sixth_convolution)\n",
        "\n",
        "\n",
        "#7\n",
        "seventh_deconvolution = Conv2DTranspose(filters=4*filter_multiplier, kernel_size=(3,3), strides=(2,2), padding='same', activation='relu' )(sixth_convolution)\n",
        "seventh_convolution = concatenate([third_convolution, seventh_deconvolution])\n",
        "seventh_convolution = Dropout(0.5)(seventh_convolution)\n",
        "seventh_convolution = Conv2D(filters=4*filter_multiplier, kernel_size=(3,3), padding='same', activation='relu' )(seventh_convolution)\n",
        "seventh_convolution = Conv2D(filters=4*filter_multiplier, kernel_size=(3,3), padding='same', activation='relu' )(seventh_convolution)\n",
        "\n",
        "#8\n",
        "eigth_deconvolution = Conv2DTranspose(filters=2*filter_multiplier, kernel_size=(3,3), strides=(2,2), padding='same', activation='relu' )(seventh_convolution)\n",
        "eigth_convolution = concatenate([eigth_deconvolution, second_convolution])\n",
        "eigth_convolution = Dropout(0.5)(eigth_convolution)\n",
        "eigth_convolution = Conv2D(filters=2*filter_multiplier, kernel_size=(3,3), padding='same', activation='relu' )(eigth_convolution)\n",
        "eigth_convolution = Conv2D(filters=2*filter_multiplier, kernel_size=(3,3), padding='same', activation='relu' )(eigth_convolution)\n",
        "\n",
        "#9\n",
        "ninth_deconvolution = Conv2DTranspose(filters=1*filter_multiplier, kernel_size=(3,3), strides=(2,2), padding='same', activation='relu' )(eigth_convolution)\n",
        "ninth_convolution = concatenate([ninth_deconvolution, first_convolution])\n",
        "ninth_convolution = Dropout(0.5)(ninth_convolution)\n",
        "ninth_convolution = Conv2D(filters=1*filter_multiplier, kernel_size=(3,3), padding='same', activation='relu' )(ninth_convolution)\n",
        "ninth_convolution = Conv2D(filters=1*filter_multiplier, kernel_size=(3,3), padding='same', activation='relu' )(ninth_convolution)\n",
        "\n",
        "#10\n",
        "output = Conv2D(filters = 1, kernel_size=(1,1), padding='valid', activation='sigmoid')(ninth_convolution)"
      ],
      "execution_count": 0,
      "outputs": []
    },
    {
      "cell_type": "code",
      "metadata": {
        "id": "0sJP5VF5N89I",
        "colab_type": "code",
        "colab": {}
      },
      "source": [
        "model = Model(inputs=inputs, outputs=output)\n",
        "model.compile(optimizer=tf.keras.optimizers.RMSprop(learning_rate=0.01), loss='binary_crossentropy', metrics=[tf.keras.metrics.MeanIoU(num_classes=2)])"
      ],
      "execution_count": 0,
      "outputs": []
    },
    {
      "cell_type": "code",
      "metadata": {
        "id": "wp9op_kdWWtj",
        "colab_type": "code",
        "colab": {}
      },
      "source": [
        "model.summary()"
      ],
      "execution_count": 0,
      "outputs": []
    },
    {
      "cell_type": "code",
      "metadata": {
        "id": "xDG7XyG09S5s",
        "colab_type": "code",
        "colab": {}
      },
      "source": [
        "model.fit(images, masks, epochs = 5)"
      ],
      "execution_count": 0,
      "outputs": []
    },
    {
      "cell_type": "code",
      "metadata": {
        "id": "apggpCUYQYaU",
        "colab_type": "code",
        "colab": {}
      },
      "source": [
        "predictions = model.predict(images)"
      ],
      "execution_count": 0,
      "outputs": []
    },
    {
      "cell_type": "code",
      "metadata": {
        "id": "jf43nXXJT_K6",
        "colab_type": "code",
        "colab": {}
      },
      "source": [
        "predictions.shape"
      ],
      "execution_count": 0,
      "outputs": []
    },
    {
      "cell_type": "code",
      "metadata": {
        "id": "GEmUWu3UUZdX",
        "colab_type": "code",
        "colab": {}
      },
      "source": [
        "predictions = predictions.reshape(predictions.shape[:-1])"
      ],
      "execution_count": 0,
      "outputs": []
    },
    {
      "cell_type": "code",
      "metadata": {
        "id": "wskMghZiVyNa",
        "colab_type": "code",
        "colab": {}
      },
      "source": [
        "predictions.shape"
      ],
      "execution_count": 0,
      "outputs": []
    },
    {
      "cell_type": "code",
      "metadata": {
        "id": "uIZL6yOeVEEf",
        "colab_type": "code",
        "colab": {}
      },
      "source": [
        "predictions[predictions>=predictions.mean()] = 1\n",
        "predictions[predictions<predictions.mean()] = 0"
      ],
      "execution_count": 0,
      "outputs": []
    },
    {
      "cell_type": "code",
      "metadata": {
        "id": "O4bpsflsVq1_",
        "colab_type": "code",
        "colab": {}
      },
      "source": [
        "plt.imshow(predictions[0], cmap='gray')"
      ],
      "execution_count": 0,
      "outputs": []
    },
    {
      "cell_type": "code",
      "metadata": {
        "id": "ImN1RQkBXFMS",
        "colab_type": "code",
        "colab": {}
      },
      "source": [
        "masks = masks.reshape(masks.shape[:-1])"
      ],
      "execution_count": 0,
      "outputs": []
    },
    {
      "cell_type": "code",
      "metadata": {
        "id": "_wwHrzo9W88J",
        "colab_type": "code",
        "colab": {}
      },
      "source": [
        "plt.imshow(masks[0], cmap='gray', interpolation='nearest')"
      ],
      "execution_count": 0,
      "outputs": []
    },
    {
      "cell_type": "code",
      "metadata": {
        "id": "mmFPE7WPeVol",
        "colab_type": "code",
        "colab": {}
      },
      "source": [
        "plt.imshow(images[0])"
      ],
      "execution_count": 0,
      "outputs": []
    },
    {
      "cell_type": "markdown",
      "metadata": {
        "id": "lI57_EIwhsDr",
        "colab_type": "text"
      },
      "source": [
        "Calculate Volume"
      ]
    },
    {
      "cell_type": "code",
      "metadata": {
        "id": "aLlEOqt0hvn_",
        "colab_type": "code",
        "colab": {}
      },
      "source": [
        "white = len(predictions[0][predictions[0]>=.5])\n",
        "black = len(predictions[0][predictions[0]<.5])"
      ],
      "execution_count": 0,
      "outputs": []
    },
    {
      "cell_type": "code",
      "metadata": {
        "id": "VdD9pd4GiC2D",
        "colab_type": "code",
        "colab": {}
      },
      "source": [
        "water_percentage = white / (white+black)"
      ],
      "execution_count": 0,
      "outputs": []
    },
    {
      "cell_type": "code",
      "metadata": {
        "id": "PclO3GRJh0dN",
        "colab_type": "code",
        "colab": {}
      },
      "source": [
        "water_percentage"
      ],
      "execution_count": 0,
      "outputs": []
    },
    {
      "cell_type": "code",
      "metadata": {
        "id": "zvmm0gVjiKzm",
        "colab_type": "code",
        "colab": {}
      },
      "source": [
        "real_area = 1000 #change this based on resolution of satellite data\n",
        "water_area = real_area - water_percentage"
      ],
      "execution_count": 0,
      "outputs": []
    },
    {
      "cell_type": "code",
      "metadata": {
        "id": "QoOhxzd3iWWs",
        "colab_type": "code",
        "colab": {}
      },
      "source": [
        "average_depth = 62 #change this based on water body (m)"
      ],
      "execution_count": 0,
      "outputs": []
    }
  ]
}