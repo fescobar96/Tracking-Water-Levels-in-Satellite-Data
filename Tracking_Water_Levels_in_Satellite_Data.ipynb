{
  "nbformat": 4,
  "nbformat_minor": 0,
  "metadata": {
    "colab": {
      "name": "Tracking Water Levels in Satellite Data.ipynb",
      "provenance": [],
      "authorship_tag": "ABX9TyO8TGW4e/Wv23zDKQwNYI6K"
    },
    "kernelspec": {
      "name": "python3",
      "display_name": "Python 3"
    },
    "widgets": {
      "application/vnd.jupyter.widget-state+json": {
        "9406f44891aa42b29a07b234f1513798": {
          "model_module": "@jupyter-widgets/controls",
          "model_name": "HBoxModel",
          "state": {
            "_view_name": "HBoxView",
            "_dom_classes": [],
            "_model_name": "HBoxModel",
            "_view_module": "@jupyter-widgets/controls",
            "_model_module_version": "1.5.0",
            "_view_count": null,
            "_view_module_version": "1.5.0",
            "box_style": "",
            "layout": "IPY_MODEL_5c6f778ca8c64484a314650a72eb115c",
            "_model_module": "@jupyter-widgets/controls",
            "children": [
              "IPY_MODEL_b0e5ec90ffb54e6089112b70c70387ec",
              "IPY_MODEL_bdd8c09fa03d4f5dace7b0226c4bedca"
            ]
          }
        },
        "5c6f778ca8c64484a314650a72eb115c": {
          "model_module": "@jupyter-widgets/base",
          "model_name": "LayoutModel",
          "state": {
            "_view_name": "LayoutView",
            "grid_template_rows": null,
            "right": null,
            "justify_content": null,
            "_view_module": "@jupyter-widgets/base",
            "overflow": null,
            "_model_module_version": "1.2.0",
            "_view_count": null,
            "flex_flow": null,
            "width": null,
            "min_width": null,
            "border": null,
            "align_items": null,
            "bottom": null,
            "_model_module": "@jupyter-widgets/base",
            "top": null,
            "grid_column": null,
            "overflow_y": null,
            "overflow_x": null,
            "grid_auto_flow": null,
            "grid_area": null,
            "grid_template_columns": null,
            "flex": null,
            "_model_name": "LayoutModel",
            "justify_items": null,
            "grid_row": null,
            "max_height": null,
            "align_content": null,
            "visibility": null,
            "align_self": null,
            "height": null,
            "min_height": null,
            "padding": null,
            "grid_auto_rows": null,
            "grid_gap": null,
            "max_width": null,
            "order": null,
            "_view_module_version": "1.2.0",
            "grid_template_areas": null,
            "object_position": null,
            "object_fit": null,
            "grid_auto_columns": null,
            "margin": null,
            "display": null,
            "left": null
          }
        },
        "b0e5ec90ffb54e6089112b70c70387ec": {
          "model_module": "@jupyter-widgets/controls",
          "model_name": "IntProgressModel",
          "state": {
            "_view_name": "ProgressView",
            "style": "IPY_MODEL_336862fa835d48a0998e495d203c62ec",
            "_dom_classes": [],
            "description": "100%",
            "_model_name": "IntProgressModel",
            "bar_style": "success",
            "max": 700,
            "_view_module": "@jupyter-widgets/controls",
            "_model_module_version": "1.5.0",
            "value": 700,
            "_view_count": null,
            "_view_module_version": "1.5.0",
            "orientation": "horizontal",
            "min": 0,
            "description_tooltip": null,
            "_model_module": "@jupyter-widgets/controls",
            "layout": "IPY_MODEL_b8a79d63f1824b9abc7abd721796b5f2"
          }
        },
        "bdd8c09fa03d4f5dace7b0226c4bedca": {
          "model_module": "@jupyter-widgets/controls",
          "model_name": "HTMLModel",
          "state": {
            "_view_name": "HTMLView",
            "style": "IPY_MODEL_a0a768b0883f40fea5eb7c530c52f003",
            "_dom_classes": [],
            "description": "",
            "_model_name": "HTMLModel",
            "placeholder": "​",
            "_view_module": "@jupyter-widgets/controls",
            "_model_module_version": "1.5.0",
            "value": " 700/700 [00:00&lt;00:00, 1046.21it/s]",
            "_view_count": null,
            "_view_module_version": "1.5.0",
            "description_tooltip": null,
            "_model_module": "@jupyter-widgets/controls",
            "layout": "IPY_MODEL_139a4757d67049a9aea3278754531cf9"
          }
        },
        "336862fa835d48a0998e495d203c62ec": {
          "model_module": "@jupyter-widgets/controls",
          "model_name": "ProgressStyleModel",
          "state": {
            "_view_name": "StyleView",
            "_model_name": "ProgressStyleModel",
            "description_width": "initial",
            "_view_module": "@jupyter-widgets/base",
            "_model_module_version": "1.5.0",
            "_view_count": null,
            "_view_module_version": "1.2.0",
            "bar_color": null,
            "_model_module": "@jupyter-widgets/controls"
          }
        },
        "b8a79d63f1824b9abc7abd721796b5f2": {
          "model_module": "@jupyter-widgets/base",
          "model_name": "LayoutModel",
          "state": {
            "_view_name": "LayoutView",
            "grid_template_rows": null,
            "right": null,
            "justify_content": null,
            "_view_module": "@jupyter-widgets/base",
            "overflow": null,
            "_model_module_version": "1.2.0",
            "_view_count": null,
            "flex_flow": null,
            "width": null,
            "min_width": null,
            "border": null,
            "align_items": null,
            "bottom": null,
            "_model_module": "@jupyter-widgets/base",
            "top": null,
            "grid_column": null,
            "overflow_y": null,
            "overflow_x": null,
            "grid_auto_flow": null,
            "grid_area": null,
            "grid_template_columns": null,
            "flex": null,
            "_model_name": "LayoutModel",
            "justify_items": null,
            "grid_row": null,
            "max_height": null,
            "align_content": null,
            "visibility": null,
            "align_self": null,
            "height": null,
            "min_height": null,
            "padding": null,
            "grid_auto_rows": null,
            "grid_gap": null,
            "max_width": null,
            "order": null,
            "_view_module_version": "1.2.0",
            "grid_template_areas": null,
            "object_position": null,
            "object_fit": null,
            "grid_auto_columns": null,
            "margin": null,
            "display": null,
            "left": null
          }
        },
        "a0a768b0883f40fea5eb7c530c52f003": {
          "model_module": "@jupyter-widgets/controls",
          "model_name": "DescriptionStyleModel",
          "state": {
            "_view_name": "StyleView",
            "_model_name": "DescriptionStyleModel",
            "description_width": "",
            "_view_module": "@jupyter-widgets/base",
            "_model_module_version": "1.5.0",
            "_view_count": null,
            "_view_module_version": "1.2.0",
            "_model_module": "@jupyter-widgets/controls"
          }
        },
        "139a4757d67049a9aea3278754531cf9": {
          "model_module": "@jupyter-widgets/base",
          "model_name": "LayoutModel",
          "state": {
            "_view_name": "LayoutView",
            "grid_template_rows": null,
            "right": null,
            "justify_content": null,
            "_view_module": "@jupyter-widgets/base",
            "overflow": null,
            "_model_module_version": "1.2.0",
            "_view_count": null,
            "flex_flow": null,
            "width": null,
            "min_width": null,
            "border": null,
            "align_items": null,
            "bottom": null,
            "_model_module": "@jupyter-widgets/base",
            "top": null,
            "grid_column": null,
            "overflow_y": null,
            "overflow_x": null,
            "grid_auto_flow": null,
            "grid_area": null,
            "grid_template_columns": null,
            "flex": null,
            "_model_name": "LayoutModel",
            "justify_items": null,
            "grid_row": null,
            "max_height": null,
            "align_content": null,
            "visibility": null,
            "align_self": null,
            "height": null,
            "min_height": null,
            "padding": null,
            "grid_auto_rows": null,
            "grid_gap": null,
            "max_width": null,
            "order": null,
            "_view_module_version": "1.2.0",
            "grid_template_areas": null,
            "object_position": null,
            "object_fit": null,
            "grid_auto_columns": null,
            "margin": null,
            "display": null,
            "left": null
          }
        },
        "a314d67a8c8e47e9af031649455021e3": {
          "model_module": "@jupyter-widgets/controls",
          "model_name": "HBoxModel",
          "state": {
            "_view_name": "HBoxView",
            "_dom_classes": [],
            "_model_name": "HBoxModel",
            "_view_module": "@jupyter-widgets/controls",
            "_model_module_version": "1.5.0",
            "_view_count": null,
            "_view_module_version": "1.5.0",
            "box_style": "",
            "layout": "IPY_MODEL_3e7bc04c877943ddaf04d1677b2803d8",
            "_model_module": "@jupyter-widgets/controls",
            "children": [
              "IPY_MODEL_adc82e44377949b9ad87becc0e528e17",
              "IPY_MODEL_34dd8a21a96149f3907d6afc700672fe"
            ]
          }
        },
        "3e7bc04c877943ddaf04d1677b2803d8": {
          "model_module": "@jupyter-widgets/base",
          "model_name": "LayoutModel",
          "state": {
            "_view_name": "LayoutView",
            "grid_template_rows": null,
            "right": null,
            "justify_content": null,
            "_view_module": "@jupyter-widgets/base",
            "overflow": null,
            "_model_module_version": "1.2.0",
            "_view_count": null,
            "flex_flow": null,
            "width": null,
            "min_width": null,
            "border": null,
            "align_items": null,
            "bottom": null,
            "_model_module": "@jupyter-widgets/base",
            "top": null,
            "grid_column": null,
            "overflow_y": null,
            "overflow_x": null,
            "grid_auto_flow": null,
            "grid_area": null,
            "grid_template_columns": null,
            "flex": null,
            "_model_name": "LayoutModel",
            "justify_items": null,
            "grid_row": null,
            "max_height": null,
            "align_content": null,
            "visibility": null,
            "align_self": null,
            "height": null,
            "min_height": null,
            "padding": null,
            "grid_auto_rows": null,
            "grid_gap": null,
            "max_width": null,
            "order": null,
            "_view_module_version": "1.2.0",
            "grid_template_areas": null,
            "object_position": null,
            "object_fit": null,
            "grid_auto_columns": null,
            "margin": null,
            "display": null,
            "left": null
          }
        },
        "adc82e44377949b9ad87becc0e528e17": {
          "model_module": "@jupyter-widgets/controls",
          "model_name": "IntProgressModel",
          "state": {
            "_view_name": "ProgressView",
            "style": "IPY_MODEL_6d8db03523cf415a92346016b70521e1",
            "_dom_classes": [],
            "description": "100%",
            "_model_name": "IntProgressModel",
            "bar_style": "success",
            "max": 108,
            "_view_module": "@jupyter-widgets/controls",
            "_model_module_version": "1.5.0",
            "value": 108,
            "_view_count": null,
            "_view_module_version": "1.5.0",
            "orientation": "horizontal",
            "min": 0,
            "description_tooltip": null,
            "_model_module": "@jupyter-widgets/controls",
            "layout": "IPY_MODEL_b75207b8fd9846438bc33fd52d87993d"
          }
        },
        "34dd8a21a96149f3907d6afc700672fe": {
          "model_module": "@jupyter-widgets/controls",
          "model_name": "HTMLModel",
          "state": {
            "_view_name": "HTMLView",
            "style": "IPY_MODEL_83350acaa7e842078de35cb4926d49fa",
            "_dom_classes": [],
            "description": "",
            "_model_name": "HTMLModel",
            "placeholder": "​",
            "_view_module": "@jupyter-widgets/controls",
            "_model_module_version": "1.5.0",
            "value": " 108/108 [00:00&lt;00:00, 181.35it/s]",
            "_view_count": null,
            "_view_module_version": "1.5.0",
            "description_tooltip": null,
            "_model_module": "@jupyter-widgets/controls",
            "layout": "IPY_MODEL_1cdedbf2e41e43cebd324a15bcc46cd9"
          }
        },
        "6d8db03523cf415a92346016b70521e1": {
          "model_module": "@jupyter-widgets/controls",
          "model_name": "ProgressStyleModel",
          "state": {
            "_view_name": "StyleView",
            "_model_name": "ProgressStyleModel",
            "description_width": "initial",
            "_view_module": "@jupyter-widgets/base",
            "_model_module_version": "1.5.0",
            "_view_count": null,
            "_view_module_version": "1.2.0",
            "bar_color": null,
            "_model_module": "@jupyter-widgets/controls"
          }
        },
        "b75207b8fd9846438bc33fd52d87993d": {
          "model_module": "@jupyter-widgets/base",
          "model_name": "LayoutModel",
          "state": {
            "_view_name": "LayoutView",
            "grid_template_rows": null,
            "right": null,
            "justify_content": null,
            "_view_module": "@jupyter-widgets/base",
            "overflow": null,
            "_model_module_version": "1.2.0",
            "_view_count": null,
            "flex_flow": null,
            "width": null,
            "min_width": null,
            "border": null,
            "align_items": null,
            "bottom": null,
            "_model_module": "@jupyter-widgets/base",
            "top": null,
            "grid_column": null,
            "overflow_y": null,
            "overflow_x": null,
            "grid_auto_flow": null,
            "grid_area": null,
            "grid_template_columns": null,
            "flex": null,
            "_model_name": "LayoutModel",
            "justify_items": null,
            "grid_row": null,
            "max_height": null,
            "align_content": null,
            "visibility": null,
            "align_self": null,
            "height": null,
            "min_height": null,
            "padding": null,
            "grid_auto_rows": null,
            "grid_gap": null,
            "max_width": null,
            "order": null,
            "_view_module_version": "1.2.0",
            "grid_template_areas": null,
            "object_position": null,
            "object_fit": null,
            "grid_auto_columns": null,
            "margin": null,
            "display": null,
            "left": null
          }
        },
        "83350acaa7e842078de35cb4926d49fa": {
          "model_module": "@jupyter-widgets/controls",
          "model_name": "DescriptionStyleModel",
          "state": {
            "_view_name": "StyleView",
            "_model_name": "DescriptionStyleModel",
            "description_width": "",
            "_view_module": "@jupyter-widgets/base",
            "_model_module_version": "1.5.0",
            "_view_count": null,
            "_view_module_version": "1.2.0",
            "_model_module": "@jupyter-widgets/controls"
          }
        },
        "1cdedbf2e41e43cebd324a15bcc46cd9": {
          "model_module": "@jupyter-widgets/base",
          "model_name": "LayoutModel",
          "state": {
            "_view_name": "LayoutView",
            "grid_template_rows": null,
            "right": null,
            "justify_content": null,
            "_view_module": "@jupyter-widgets/base",
            "overflow": null,
            "_model_module_version": "1.2.0",
            "_view_count": null,
            "flex_flow": null,
            "width": null,
            "min_width": null,
            "border": null,
            "align_items": null,
            "bottom": null,
            "_model_module": "@jupyter-widgets/base",
            "top": null,
            "grid_column": null,
            "overflow_y": null,
            "overflow_x": null,
            "grid_auto_flow": null,
            "grid_area": null,
            "grid_template_columns": null,
            "flex": null,
            "_model_name": "LayoutModel",
            "justify_items": null,
            "grid_row": null,
            "max_height": null,
            "align_content": null,
            "visibility": null,
            "align_self": null,
            "height": null,
            "min_height": null,
            "padding": null,
            "grid_auto_rows": null,
            "grid_gap": null,
            "max_width": null,
            "order": null,
            "_view_module_version": "1.2.0",
            "grid_template_areas": null,
            "object_position": null,
            "object_fit": null,
            "grid_auto_columns": null,
            "margin": null,
            "display": null,
            "left": null
          }
        },
        "39b6f08003cf4315a63f21cfaec7c69a": {
          "model_module": "@jupyter-widgets/controls",
          "model_name": "HBoxModel",
          "state": {
            "_view_name": "HBoxView",
            "_dom_classes": [],
            "_model_name": "HBoxModel",
            "_view_module": "@jupyter-widgets/controls",
            "_model_module_version": "1.5.0",
            "_view_count": null,
            "_view_module_version": "1.5.0",
            "box_style": "",
            "layout": "IPY_MODEL_11f06f2ed64d44b1b8a03b1744bf867e",
            "_model_module": "@jupyter-widgets/controls",
            "children": [
              "IPY_MODEL_3170dfc618a942f4ac9d4f12fc24a7b3",
              "IPY_MODEL_467cb7a4614940a8824c36dd2ce0a192"
            ]
          }
        },
        "11f06f2ed64d44b1b8a03b1744bf867e": {
          "model_module": "@jupyter-widgets/base",
          "model_name": "LayoutModel",
          "state": {
            "_view_name": "LayoutView",
            "grid_template_rows": null,
            "right": null,
            "justify_content": null,
            "_view_module": "@jupyter-widgets/base",
            "overflow": null,
            "_model_module_version": "1.2.0",
            "_view_count": null,
            "flex_flow": null,
            "width": null,
            "min_width": null,
            "border": null,
            "align_items": null,
            "bottom": null,
            "_model_module": "@jupyter-widgets/base",
            "top": null,
            "grid_column": null,
            "overflow_y": null,
            "overflow_x": null,
            "grid_auto_flow": null,
            "grid_area": null,
            "grid_template_columns": null,
            "flex": null,
            "_model_name": "LayoutModel",
            "justify_items": null,
            "grid_row": null,
            "max_height": null,
            "align_content": null,
            "visibility": null,
            "align_self": null,
            "height": null,
            "min_height": null,
            "padding": null,
            "grid_auto_rows": null,
            "grid_gap": null,
            "max_width": null,
            "order": null,
            "_view_module_version": "1.2.0",
            "grid_template_areas": null,
            "object_position": null,
            "object_fit": null,
            "grid_auto_columns": null,
            "margin": null,
            "display": null,
            "left": null
          }
        },
        "3170dfc618a942f4ac9d4f12fc24a7b3": {
          "model_module": "@jupyter-widgets/controls",
          "model_name": "IntProgressModel",
          "state": {
            "_view_name": "ProgressView",
            "style": "IPY_MODEL_af68118915a8431d8c67e80154b22e64",
            "_dom_classes": [],
            "description": "100%",
            "_model_name": "IntProgressModel",
            "bar_style": "success",
            "max": 108,
            "_view_module": "@jupyter-widgets/controls",
            "_model_module_version": "1.5.0",
            "value": 108,
            "_view_count": null,
            "_view_module_version": "1.5.0",
            "orientation": "horizontal",
            "min": 0,
            "description_tooltip": null,
            "_model_module": "@jupyter-widgets/controls",
            "layout": "IPY_MODEL_458cfd7deb814a74952ad378a29351b9"
          }
        },
        "467cb7a4614940a8824c36dd2ce0a192": {
          "model_module": "@jupyter-widgets/controls",
          "model_name": "HTMLModel",
          "state": {
            "_view_name": "HTMLView",
            "style": "IPY_MODEL_146b4a24595e490f88966f538d0483d2",
            "_dom_classes": [],
            "description": "",
            "_model_name": "HTMLModel",
            "placeholder": "​",
            "_view_module": "@jupyter-widgets/controls",
            "_model_module_version": "1.5.0",
            "value": " 108/108 [01:26&lt;00:00,  1.24it/s]",
            "_view_count": null,
            "_view_module_version": "1.5.0",
            "description_tooltip": null,
            "_model_module": "@jupyter-widgets/controls",
            "layout": "IPY_MODEL_ea2d10cc40524140adff746a55485cf4"
          }
        },
        "af68118915a8431d8c67e80154b22e64": {
          "model_module": "@jupyter-widgets/controls",
          "model_name": "ProgressStyleModel",
          "state": {
            "_view_name": "StyleView",
            "_model_name": "ProgressStyleModel",
            "description_width": "initial",
            "_view_module": "@jupyter-widgets/base",
            "_model_module_version": "1.5.0",
            "_view_count": null,
            "_view_module_version": "1.2.0",
            "bar_color": null,
            "_model_module": "@jupyter-widgets/controls"
          }
        },
        "458cfd7deb814a74952ad378a29351b9": {
          "model_module": "@jupyter-widgets/base",
          "model_name": "LayoutModel",
          "state": {
            "_view_name": "LayoutView",
            "grid_template_rows": null,
            "right": null,
            "justify_content": null,
            "_view_module": "@jupyter-widgets/base",
            "overflow": null,
            "_model_module_version": "1.2.0",
            "_view_count": null,
            "flex_flow": null,
            "width": null,
            "min_width": null,
            "border": null,
            "align_items": null,
            "bottom": null,
            "_model_module": "@jupyter-widgets/base",
            "top": null,
            "grid_column": null,
            "overflow_y": null,
            "overflow_x": null,
            "grid_auto_flow": null,
            "grid_area": null,
            "grid_template_columns": null,
            "flex": null,
            "_model_name": "LayoutModel",
            "justify_items": null,
            "grid_row": null,
            "max_height": null,
            "align_content": null,
            "visibility": null,
            "align_self": null,
            "height": null,
            "min_height": null,
            "padding": null,
            "grid_auto_rows": null,
            "grid_gap": null,
            "max_width": null,
            "order": null,
            "_view_module_version": "1.2.0",
            "grid_template_areas": null,
            "object_position": null,
            "object_fit": null,
            "grid_auto_columns": null,
            "margin": null,
            "display": null,
            "left": null
          }
        },
        "146b4a24595e490f88966f538d0483d2": {
          "model_module": "@jupyter-widgets/controls",
          "model_name": "DescriptionStyleModel",
          "state": {
            "_view_name": "StyleView",
            "_model_name": "DescriptionStyleModel",
            "description_width": "",
            "_view_module": "@jupyter-widgets/base",
            "_model_module_version": "1.5.0",
            "_view_count": null,
            "_view_module_version": "1.2.0",
            "_model_module": "@jupyter-widgets/controls"
          }
        },
        "ea2d10cc40524140adff746a55485cf4": {
          "model_module": "@jupyter-widgets/base",
          "model_name": "LayoutModel",
          "state": {
            "_view_name": "LayoutView",
            "grid_template_rows": null,
            "right": null,
            "justify_content": null,
            "_view_module": "@jupyter-widgets/base",
            "overflow": null,
            "_model_module_version": "1.2.0",
            "_view_count": null,
            "flex_flow": null,
            "width": null,
            "min_width": null,
            "border": null,
            "align_items": null,
            "bottom": null,
            "_model_module": "@jupyter-widgets/base",
            "top": null,
            "grid_column": null,
            "overflow_y": null,
            "overflow_x": null,
            "grid_auto_flow": null,
            "grid_area": null,
            "grid_template_columns": null,
            "flex": null,
            "_model_name": "LayoutModel",
            "justify_items": null,
            "grid_row": null,
            "max_height": null,
            "align_content": null,
            "visibility": null,
            "align_self": null,
            "height": null,
            "min_height": null,
            "padding": null,
            "grid_auto_rows": null,
            "grid_gap": null,
            "max_width": null,
            "order": null,
            "_view_module_version": "1.2.0",
            "grid_template_areas": null,
            "object_position": null,
            "object_fit": null,
            "grid_auto_columns": null,
            "margin": null,
            "display": null,
            "left": null
          }
        },
        "ad04166551a54a7db03bd242cb8740bd": {
          "model_module": "@jupyter-widgets/controls",
          "model_name": "HBoxModel",
          "state": {
            "_view_name": "HBoxView",
            "_dom_classes": [],
            "_model_name": "HBoxModel",
            "_view_module": "@jupyter-widgets/controls",
            "_model_module_version": "1.5.0",
            "_view_count": null,
            "_view_module_version": "1.5.0",
            "box_style": "",
            "layout": "IPY_MODEL_02e4f2214de4459896eef7d94b03b141",
            "_model_module": "@jupyter-widgets/controls",
            "children": [
              "IPY_MODEL_0e59662c5690406c9773d6eb212830eb",
              "IPY_MODEL_a5145b81da7e4d388d28f28ef9e7b885"
            ]
          }
        },
        "02e4f2214de4459896eef7d94b03b141": {
          "model_module": "@jupyter-widgets/base",
          "model_name": "LayoutModel",
          "state": {
            "_view_name": "LayoutView",
            "grid_template_rows": null,
            "right": null,
            "justify_content": null,
            "_view_module": "@jupyter-widgets/base",
            "overflow": null,
            "_model_module_version": "1.2.0",
            "_view_count": null,
            "flex_flow": null,
            "width": null,
            "min_width": null,
            "border": null,
            "align_items": null,
            "bottom": null,
            "_model_module": "@jupyter-widgets/base",
            "top": null,
            "grid_column": null,
            "overflow_y": null,
            "overflow_x": null,
            "grid_auto_flow": null,
            "grid_area": null,
            "grid_template_columns": null,
            "flex": null,
            "_model_name": "LayoutModel",
            "justify_items": null,
            "grid_row": null,
            "max_height": null,
            "align_content": null,
            "visibility": null,
            "align_self": null,
            "height": null,
            "min_height": null,
            "padding": null,
            "grid_auto_rows": null,
            "grid_gap": null,
            "max_width": null,
            "order": null,
            "_view_module_version": "1.2.0",
            "grid_template_areas": null,
            "object_position": null,
            "object_fit": null,
            "grid_auto_columns": null,
            "margin": null,
            "display": null,
            "left": null
          }
        },
        "0e59662c5690406c9773d6eb212830eb": {
          "model_module": "@jupyter-widgets/controls",
          "model_name": "IntProgressModel",
          "state": {
            "_view_name": "ProgressView",
            "style": "IPY_MODEL_05ff5e05b69640fe9c96c1942c6318e0",
            "_dom_classes": [],
            "description": "100%",
            "_model_name": "IntProgressModel",
            "bar_style": "success",
            "max": 108,
            "_view_module": "@jupyter-widgets/controls",
            "_model_module_version": "1.5.0",
            "value": 108,
            "_view_count": null,
            "_view_module_version": "1.5.0",
            "orientation": "horizontal",
            "min": 0,
            "description_tooltip": null,
            "_model_module": "@jupyter-widgets/controls",
            "layout": "IPY_MODEL_8d254121129e46bf960b259464b2fd54"
          }
        },
        "a5145b81da7e4d388d28f28ef9e7b885": {
          "model_module": "@jupyter-widgets/controls",
          "model_name": "HTMLModel",
          "state": {
            "_view_name": "HTMLView",
            "style": "IPY_MODEL_d4be4cec91ff4b8aafe1985b3fb8b052",
            "_dom_classes": [],
            "description": "",
            "_model_name": "HTMLModel",
            "placeholder": "​",
            "_view_module": "@jupyter-widgets/controls",
            "_model_module_version": "1.5.0",
            "value": " 108/108 [00:01&lt;00:00, 77.57it/s]",
            "_view_count": null,
            "_view_module_version": "1.5.0",
            "description_tooltip": null,
            "_model_module": "@jupyter-widgets/controls",
            "layout": "IPY_MODEL_83d82ec176514ad2bdbf2de89d7ade98"
          }
        },
        "05ff5e05b69640fe9c96c1942c6318e0": {
          "model_module": "@jupyter-widgets/controls",
          "model_name": "ProgressStyleModel",
          "state": {
            "_view_name": "StyleView",
            "_model_name": "ProgressStyleModel",
            "description_width": "initial",
            "_view_module": "@jupyter-widgets/base",
            "_model_module_version": "1.5.0",
            "_view_count": null,
            "_view_module_version": "1.2.0",
            "bar_color": null,
            "_model_module": "@jupyter-widgets/controls"
          }
        },
        "8d254121129e46bf960b259464b2fd54": {
          "model_module": "@jupyter-widgets/base",
          "model_name": "LayoutModel",
          "state": {
            "_view_name": "LayoutView",
            "grid_template_rows": null,
            "right": null,
            "justify_content": null,
            "_view_module": "@jupyter-widgets/base",
            "overflow": null,
            "_model_module_version": "1.2.0",
            "_view_count": null,
            "flex_flow": null,
            "width": null,
            "min_width": null,
            "border": null,
            "align_items": null,
            "bottom": null,
            "_model_module": "@jupyter-widgets/base",
            "top": null,
            "grid_column": null,
            "overflow_y": null,
            "overflow_x": null,
            "grid_auto_flow": null,
            "grid_area": null,
            "grid_template_columns": null,
            "flex": null,
            "_model_name": "LayoutModel",
            "justify_items": null,
            "grid_row": null,
            "max_height": null,
            "align_content": null,
            "visibility": null,
            "align_self": null,
            "height": null,
            "min_height": null,
            "padding": null,
            "grid_auto_rows": null,
            "grid_gap": null,
            "max_width": null,
            "order": null,
            "_view_module_version": "1.2.0",
            "grid_template_areas": null,
            "object_position": null,
            "object_fit": null,
            "grid_auto_columns": null,
            "margin": null,
            "display": null,
            "left": null
          }
        },
        "d4be4cec91ff4b8aafe1985b3fb8b052": {
          "model_module": "@jupyter-widgets/controls",
          "model_name": "DescriptionStyleModel",
          "state": {
            "_view_name": "StyleView",
            "_model_name": "DescriptionStyleModel",
            "description_width": "",
            "_view_module": "@jupyter-widgets/base",
            "_model_module_version": "1.5.0",
            "_view_count": null,
            "_view_module_version": "1.2.0",
            "_model_module": "@jupyter-widgets/controls"
          }
        },
        "83d82ec176514ad2bdbf2de89d7ade98": {
          "model_module": "@jupyter-widgets/base",
          "model_name": "LayoutModel",
          "state": {
            "_view_name": "LayoutView",
            "grid_template_rows": null,
            "right": null,
            "justify_content": null,
            "_view_module": "@jupyter-widgets/base",
            "overflow": null,
            "_model_module_version": "1.2.0",
            "_view_count": null,
            "flex_flow": null,
            "width": null,
            "min_width": null,
            "border": null,
            "align_items": null,
            "bottom": null,
            "_model_module": "@jupyter-widgets/base",
            "top": null,
            "grid_column": null,
            "overflow_y": null,
            "overflow_x": null,
            "grid_auto_flow": null,
            "grid_area": null,
            "grid_template_columns": null,
            "flex": null,
            "_model_name": "LayoutModel",
            "justify_items": null,
            "grid_row": null,
            "max_height": null,
            "align_content": null,
            "visibility": null,
            "align_self": null,
            "height": null,
            "min_height": null,
            "padding": null,
            "grid_auto_rows": null,
            "grid_gap": null,
            "max_width": null,
            "order": null,
            "_view_module_version": "1.2.0",
            "grid_template_areas": null,
            "object_position": null,
            "object_fit": null,
            "grid_auto_columns": null,
            "margin": null,
            "display": null,
            "left": null
          }
        }
      }
    },
    "accelerator": "GPU"
  },
  "cells": [
    {
      "cell_type": "markdown",
      "metadata": {
        "id": "p8UeZz2zvpC6",
        "colab_type": "text"
      },
      "source": [
        "Import libraries"
      ]
    },
    {
      "cell_type": "code",
      "metadata": {
        "id": "LYZ_zNAn-lHn",
        "colab_type": "code",
        "colab": {}
      },
      "source": [
        "import os\n",
        "import pandas as pd\n",
        "import numpy as np\n",
        "import scipy\n",
        "import matplotlib.pyplot as plt\n",
        "import tensorflow as tf\n",
        "from tensorflow.keras import Input\n",
        "from tensorflow.keras.layers import Conv2D \n",
        "from tensorflow.keras.layers import MaxPooling2D\n",
        "from tensorflow.keras.layers import Dropout\n",
        "from tensorflow.keras.layers import Conv2DTranspose\n",
        "from tensorflow.keras.layers import concatenate\n",
        "from tensorflow.keras import Model\n",
        "from tensorflow.keras.utils import plot_model\n",
        "from tqdm.notebook import tqdm\n",
        "import PIL.ImageDraw as ImageDraw\n",
        "import PIL.Image as Image"
      ],
      "execution_count": 0,
      "outputs": []
    },
    {
      "cell_type": "markdown",
      "metadata": {
        "colab_type": "text",
        "id": "n_AVoZCTOC1z"
      },
      "source": [
        "Load annotations"
      ]
    },
    {
      "cell_type": "code",
      "metadata": {
        "colab_type": "code",
        "id": "iIeNbVExOC12",
        "colab": {}
      },
      "source": [
        "annotations = '/content/labels_satellite-lakes_20200428105149.json'"
      ],
      "execution_count": 0,
      "outputs": []
    },
    {
      "cell_type": "code",
      "metadata": {
        "colab_type": "code",
        "id": "9yBOySDuOC17",
        "colab": {}
      },
      "source": [
        "data = pd.read_json(annotations)"
      ],
      "execution_count": 0,
      "outputs": []
    },
    {
      "cell_type": "code",
      "metadata": {
        "colab_type": "code",
        "id": "4b7c0X41OC1_",
        "colab": {}
      },
      "source": [
        "data = data.transpose().reset_index()[['filename', 'regions']]"
      ],
      "execution_count": 0,
      "outputs": []
    },
    {
      "cell_type": "code",
      "metadata": {
        "colab_type": "code",
        "outputId": "a9507a65-42b1-4439-dcc1-117fa9e6036e",
        "id": "-WdAssDDOC2E",
        "colab": {
          "base_uri": "https://localhost:8080/",
          "height": 204
        }
      },
      "source": [
        "data.head()"
      ],
      "execution_count": 5,
      "outputs": [
        {
          "output_type": "execute_result",
          "data": {
            "text/html": [
              "<div>\n",
              "<style scoped>\n",
              "    .dataframe tbody tr th:only-of-type {\n",
              "        vertical-align: middle;\n",
              "    }\n",
              "\n",
              "    .dataframe tbody tr th {\n",
              "        vertical-align: top;\n",
              "    }\n",
              "\n",
              "    .dataframe thead th {\n",
              "        text-align: right;\n",
              "    }\n",
              "</style>\n",
              "<table border=\"1\" class=\"dataframe\">\n",
              "  <thead>\n",
              "    <tr style=\"text-align: right;\">\n",
              "      <th></th>\n",
              "      <th>filename</th>\n",
              "      <th>regions</th>\n",
              "    </tr>\n",
              "  </thead>\n",
              "  <tbody>\n",
              "    <tr>\n",
              "      <th>0</th>\n",
              "      <td>lake_001.jpg</td>\n",
              "      <td>{'0': {'shape_attributes': {'name': 'polygon',...</td>\n",
              "    </tr>\n",
              "    <tr>\n",
              "      <th>1</th>\n",
              "      <td>lake_002.jpg</td>\n",
              "      <td>{'0': {'shape_attributes': {'name': 'polygon',...</td>\n",
              "    </tr>\n",
              "    <tr>\n",
              "      <th>2</th>\n",
              "      <td>lake_003.jpg</td>\n",
              "      <td>{'0': {'shape_attributes': {'name': 'polygon',...</td>\n",
              "    </tr>\n",
              "    <tr>\n",
              "      <th>3</th>\n",
              "      <td>lake_004.jpg</td>\n",
              "      <td>{'0': {'shape_attributes': {'name': 'polygon',...</td>\n",
              "    </tr>\n",
              "    <tr>\n",
              "      <th>4</th>\n",
              "      <td>lake_005.jpg</td>\n",
              "      <td>{'0': {'shape_attributes': {'name': 'polygon',...</td>\n",
              "    </tr>\n",
              "  </tbody>\n",
              "</table>\n",
              "</div>"
            ],
            "text/plain": [
              "       filename                                            regions\n",
              "0  lake_001.jpg  {'0': {'shape_attributes': {'name': 'polygon',...\n",
              "1  lake_002.jpg  {'0': {'shape_attributes': {'name': 'polygon',...\n",
              "2  lake_003.jpg  {'0': {'shape_attributes': {'name': 'polygon',...\n",
              "3  lake_004.jpg  {'0': {'shape_attributes': {'name': 'polygon',...\n",
              "4  lake_005.jpg  {'0': {'shape_attributes': {'name': 'polygon',..."
            ]
          },
          "metadata": {
            "tags": []
          },
          "execution_count": 5
        }
      ]
    },
    {
      "cell_type": "code",
      "metadata": {
        "colab_type": "code",
        "outputId": "f4e98838-9f95-4626-dad0-260d13b8c8a4",
        "id": "SfL-7tiNOC2I",
        "colab": {
          "base_uri": "https://localhost:8080/",
          "height": 34
        }
      },
      "source": [
        "data.shape"
      ],
      "execution_count": 6,
      "outputs": [
        {
          "output_type": "execute_result",
          "data": {
            "text/plain": [
              "(108, 2)"
            ]
          },
          "metadata": {
            "tags": []
          },
          "execution_count": 6
        }
      ]
    },
    {
      "cell_type": "markdown",
      "metadata": {
        "id": "c7nNi-aqvoKO",
        "colab_type": "text"
      },
      "source": [
        "Load images"
      ]
    },
    {
      "cell_type": "code",
      "metadata": {
        "id": "ANHZ47uHE5A1",
        "colab_type": "code",
        "colab": {}
      },
      "source": [
        "directory = '/content/drive/My Drive/NWPU-RESISC45/lake'"
      ],
      "execution_count": 0,
      "outputs": []
    },
    {
      "cell_type": "code",
      "metadata": {
        "id": "c3aq1e_PPa7U",
        "colab_type": "code",
        "colab": {
          "base_uri": "https://localhost:8080/",
          "height": 66,
          "referenced_widgets": [
            "9406f44891aa42b29a07b234f1513798",
            "5c6f778ca8c64484a314650a72eb115c",
            "b0e5ec90ffb54e6089112b70c70387ec",
            "bdd8c09fa03d4f5dace7b0226c4bedca",
            "336862fa835d48a0998e495d203c62ec",
            "b8a79d63f1824b9abc7abd721796b5f2",
            "a0a768b0883f40fea5eb7c530c52f003",
            "139a4757d67049a9aea3278754531cf9"
          ]
        },
        "outputId": "c7f5d8f6-adce-471b-b9e6-d6cb9da15bdd"
      },
      "source": [
        "images = []\n",
        "for file in tqdm(sorted(os.listdir(directory))):\n",
        "  if any(extension in file for extension in ['.jpg', 'jpeg', '.png']) and (file in data['filename']):\n",
        "    print(file)\n",
        "    image = tf.keras.preprocessing.image.load_img(directory + '/' + file)\n",
        "    image = tf.keras.preprocessing.image.img_to_array(image)/255.0\n",
        "    images.append(image)\n",
        "\n",
        "images = np.array(images)"
      ],
      "execution_count": 8,
      "outputs": [
        {
          "output_type": "display_data",
          "data": {
            "application/vnd.jupyter.widget-view+json": {
              "model_id": "9406f44891aa42b29a07b234f1513798",
              "version_minor": 0,
              "version_major": 2
            },
            "text/plain": [
              "HBox(children=(IntProgress(value=0, max=700), HTML(value='')))"
            ]
          },
          "metadata": {
            "tags": []
          }
        },
        {
          "output_type": "stream",
          "text": [
            "\n"
          ],
          "name": "stdout"
        }
      ]
    },
    {
      "cell_type": "code",
      "metadata": {
        "id": "Nip2uTB3Jfoh",
        "colab_type": "code",
        "outputId": "bdcf9305-5a1e-478b-ef6a-16a143d148f2",
        "colab": {
          "base_uri": "https://localhost:8080/",
          "height": 66,
          "referenced_widgets": [
            "a314d67a8c8e47e9af031649455021e3",
            "3e7bc04c877943ddaf04d1677b2803d8",
            "adc82e44377949b9ad87becc0e528e17",
            "34dd8a21a96149f3907d6afc700672fe",
            "6d8db03523cf415a92346016b70521e1",
            "b75207b8fd9846438bc33fd52d87993d",
            "83350acaa7e842078de35cb4926d49fa",
            "1cdedbf2e41e43cebd324a15bcc46cd9"
          ]
        }
      },
      "source": [
        "images = []\n",
        "to_import = data['filename']\n",
        "for file in tqdm(to_import):\n",
        "  if any(extension in file for extension in ['.jpg', 'jpeg', '.png']):\n",
        "    image = tf.keras.preprocessing.image.load_img(directory + '/' + file)\n",
        "    image = tf.keras.preprocessing.image.img_to_array(image)/255.0\n",
        "    images.append(image)\n",
        "\n",
        "images = np.array(images)"
      ],
      "execution_count": 9,
      "outputs": [
        {
          "output_type": "display_data",
          "data": {
            "application/vnd.jupyter.widget-view+json": {
              "model_id": "a314d67a8c8e47e9af031649455021e3",
              "version_minor": 0,
              "version_major": 2
            },
            "text/plain": [
              "HBox(children=(IntProgress(value=0, max=108), HTML(value='')))"
            ]
          },
          "metadata": {
            "tags": []
          }
        },
        {
          "output_type": "stream",
          "text": [
            "\n"
          ],
          "name": "stdout"
        }
      ]
    },
    {
      "cell_type": "markdown",
      "metadata": {
        "id": "o4j-PCpdv7N2",
        "colab_type": "text"
      },
      "source": [
        "Function to plot images with annotations"
      ]
    },
    {
      "cell_type": "code",
      "metadata": {
        "id": "blLeW6sjKco9",
        "colab_type": "code",
        "colab": {}
      },
      "source": [
        "def plot_image(i):\n",
        "  #Image\n",
        "  filename = data.iloc[i][0]\n",
        "  image_1 = Image.open(directory + '/' + filename).convert('RGBA')\n",
        "\n",
        "  #Polygon\n",
        "  image_2 = image_1.copy()\n",
        "\n",
        "  for shape in range(len(data['regions'][i])):\n",
        "    x = data['regions'][i][str(shape)]['shape_attributes']['all_points_x']\n",
        "    y = data['regions'][i][str(shape)]['shape_attributes']['all_points_y']\n",
        "    coordinates = list(zip(x,y))\n",
        "    draw = ImageDraw.Draw(image_2)\n",
        "    draw.polygon(coordinates, fill='white')\n",
        "\n",
        "  #Merge images\n",
        "  final_image = Image.blend(image_1, image_2, alpha=0.75)\n",
        "  return final_image"
      ],
      "execution_count": 0,
      "outputs": []
    },
    {
      "cell_type": "markdown",
      "metadata": {
        "id": "SyapbaNFSWpk",
        "colab_type": "text"
      },
      "source": [
        "Masks"
      ]
    },
    {
      "cell_type": "code",
      "metadata": {
        "id": "p6KOJVaWSVfw",
        "colab_type": "code",
        "colab": {}
      },
      "source": [
        "def create_mask(i):\n",
        "  #Image\n",
        "  filename = data.iloc[i][0]\n",
        "  image_1 = Image.open(directory + '/' + filename)\n",
        "\n",
        "  #Polygon\n",
        "  image_2 = image_1.copy()\n",
        "  draw = ImageDraw.Draw(image_2)\n",
        "  draw.rectangle([(0,0),image_1.size], fill='black')\n",
        "\n",
        "  for shape in range(len(data['regions'][i])):\n",
        "    x = data['regions'][i][str(shape)]['shape_attributes']['all_points_x']\n",
        "    y = data['regions'][i][str(shape)]['shape_attributes']['all_points_y']\n",
        "    coordinates = list(zip(x,y))\n",
        "    draw.polygon(coordinates, fill='white')\n",
        "\n",
        "  #Merge images\n",
        "  final_image = Image.blend(image_1, image_2, alpha=1)\n",
        "  return final_image"
      ],
      "execution_count": 0,
      "outputs": []
    },
    {
      "cell_type": "markdown",
      "metadata": {
        "id": "wGRCj2Po-Io0",
        "colab_type": "text"
      },
      "source": [
        "Sample Images"
      ]
    },
    {
      "cell_type": "code",
      "metadata": {
        "id": "y08IJRyc-Kyb",
        "colab_type": "code",
        "colab": {}
      },
      "source": [
        "i = np.random.randint(0,len(data))"
      ],
      "execution_count": 0,
      "outputs": []
    },
    {
      "cell_type": "code",
      "metadata": {
        "id": "n9ISUN7C-ABO",
        "colab_type": "code",
        "outputId": "8a67a240-bfb9-4b75-8e63-60850bed62d8",
        "colab": {
          "base_uri": "https://localhost:8080/",
          "height": 373
        }
      },
      "source": [
        "  plt.figure(figsize=(6,6))\n",
        "  plt.imshow(plot_image(i))\n",
        "  plt.title('Mask Overlay')\n",
        "  plt.axis('off')\n",
        "  plt.show()"
      ],
      "execution_count": 13,
      "outputs": [
        {
          "output_type": "display_data",
          "data": {
            "image/png": "[encoded data removed]",
            "text/plain": [
              "<Figure size 432x432 with 1 Axes>"
            ]
          },
          "metadata": {
            "tags": [],
            "needs_background": "light"
          }
        }
      ]
    },
    {
      "cell_type": "code",
      "metadata": {
        "id": "4opvsx859w5_",
        "colab_type": "code",
        "outputId": "df684424-356b-49e7-ccbe-1c80ffe4dd29",
        "colab": {
          "base_uri": "https://localhost:8080/",
          "height": 390
        }
      },
      "source": [
        "  plt.figure(figsize=(6,6))\n",
        "  plt.imshow(create_mask(i))\n",
        "  plt.title('Mask')\n",
        "  plt.show()"
      ],
      "execution_count": 14,
      "outputs": [
        {
          "output_type": "display_data",
          "data": {
            "image/png": "[encoded data removed]",
            "text/plain": [
              "<Figure size 432x432 with 1 Axes>"
            ]
          },
          "metadata": {
            "tags": [],
            "needs_background": "light"
          }
        }
      ]
    },
    {
      "cell_type": "markdown",
      "metadata": {
        "id": "Ebsy61J7-Qik",
        "colab_type": "text"
      },
      "source": [
        "Generate Masks"
      ]
    },
    {
      "cell_type": "code",
      "metadata": {
        "id": "uOJUe0Ws-q5T",
        "colab_type": "code",
        "colab": {}
      },
      "source": [
        "masks_directory = '/content/drive/My Drive/Lake - Masks'"
      ],
      "execution_count": 0,
      "outputs": []
    },
    {
      "cell_type": "code",
      "metadata": {
        "id": "7sohM--I3cuz",
        "colab_type": "code",
        "outputId": "1218e9fb-1d2a-46da-da8f-67c9edf9471b",
        "colab": {
          "base_uri": "https://localhost:8080/",
          "height": 66,
          "referenced_widgets": [
            "39b6f08003cf4315a63f21cfaec7c69a",
            "11f06f2ed64d44b1b8a03b1744bf867e",
            "3170dfc618a942f4ac9d4f12fc24a7b3",
            "467cb7a4614940a8824c36dd2ce0a192",
            "af68118915a8431d8c67e80154b22e64",
            "458cfd7deb814a74952ad378a29351b9",
            "146b4a24595e490f88966f538d0483d2",
            "ea2d10cc40524140adff746a55485cf4"
          ]
        }
      },
      "source": [
        "for i in tqdm(range(0, len(data))):\n",
        "  filename = data.iloc[i][0]\n",
        "  image = create_mask(i)\n",
        "\n",
        "  if image.mode in (\"RGBA\", \"P\"):\n",
        "    image = image.convert(\"1\")\n",
        "  \n",
        "  image.save(masks_directory + '/' + filename)"
      ],
      "execution_count": 16,
      "outputs": [
        {
          "output_type": "display_data",
          "data": {
            "application/vnd.jupyter.widget-view+json": {
              "model_id": "39b6f08003cf4315a63f21cfaec7c69a",
              "version_minor": 0,
              "version_major": 2
            },
            "text/plain": [
              "HBox(children=(IntProgress(value=0, max=108), HTML(value='')))"
            ]
          },
          "metadata": {
            "tags": []
          }
        },
        {
          "output_type": "stream",
          "text": [
            "\n"
          ],
          "name": "stdout"
        }
      ]
    },
    {
      "cell_type": "markdown",
      "metadata": {
        "id": "QLGVEwdvEyGA",
        "colab_type": "text"
      },
      "source": [
        "Load masks"
      ]
    },
    {
      "cell_type": "code",
      "metadata": {
        "id": "leXe_GZoEzkO",
        "colab_type": "code",
        "outputId": "8048a1d5-5cd5-4228-cb54-dbc66bc499ea",
        "colab": {
          "base_uri": "https://localhost:8080/",
          "height": 66,
          "referenced_widgets": [
            "ad04166551a54a7db03bd242cb8740bd",
            "02e4f2214de4459896eef7d94b03b141",
            "0e59662c5690406c9773d6eb212830eb",
            "a5145b81da7e4d388d28f28ef9e7b885",
            "05ff5e05b69640fe9c96c1942c6318e0",
            "8d254121129e46bf960b259464b2fd54",
            "d4be4cec91ff4b8aafe1985b3fb8b052",
            "83d82ec176514ad2bdbf2de89d7ade98"
          ]
        }
      },
      "source": [
        "masks = []\n",
        "for file in tqdm(sorted(os.listdir(masks_directory))):\n",
        "  if any(extension in file for extension in ['.jpg', 'jpeg', '.png']):\n",
        "    image = tf.keras.preprocessing.image.load_img(masks_directory + '/' + file)\n",
        "    image = tf.keras.preprocessing.image.img_to_array(image)/255.0\n",
        "    masks.append(image)\n",
        "\n",
        "masks = np.array(masks)"
      ],
      "execution_count": 17,
      "outputs": [
        {
          "output_type": "display_data",
          "data": {
            "application/vnd.jupyter.widget-view+json": {
              "model_id": "ad04166551a54a7db03bd242cb8740bd",
              "version_minor": 0,
              "version_major": 2
            },
            "text/plain": [
              "HBox(children=(IntProgress(value=0, max=108), HTML(value='')))"
            ]
          },
          "metadata": {
            "tags": []
          }
        },
        {
          "output_type": "stream",
          "text": [
            "\n"
          ],
          "name": "stdout"
        }
      ]
    },
    {
      "cell_type": "code",
      "metadata": {
        "id": "rhaayO7zL_xC",
        "colab_type": "code",
        "outputId": "8ef88089-27dd-41cc-d17e-3380cde3cd91",
        "colab": {
          "base_uri": "https://localhost:8080/",
          "height": 34
        }
      },
      "source": [
        "masks.shape"
      ],
      "execution_count": 18,
      "outputs": [
        {
          "output_type": "execute_result",
          "data": {
            "text/plain": [
              "(108, 256, 256, 3)"
            ]
          },
          "metadata": {
            "tags": []
          },
          "execution_count": 18
        }
      ]
    },
    {
      "cell_type": "markdown",
      "metadata": {
        "id": "RtmA3KWHWoVM",
        "colab_type": "text"
      },
      "source": [
        "Image Generator"
      ]
    },
    {
      "cell_type": "code",
      "metadata": {
        "id": "dWuCsaTi9yM5",
        "colab_type": "code",
        "colab": {}
      },
      "source": [
        "#def generator(images, batch_size, size):\n",
        "#  masks = \n"
      ],
      "execution_count": 0,
      "outputs": []
    },
    {
      "cell_type": "code",
      "metadata": {
        "id": "wc5_nyKh9xmQ",
        "colab_type": "code",
        "colab": {}
      },
      "source": [
        "#train_generator = generator()\n",
        "#test_generator = generator()"
      ],
      "execution_count": 0,
      "outputs": []
    },
    {
      "cell_type": "markdown",
      "metadata": {
        "id": "KOELo6vYLbXS",
        "colab_type": "text"
      },
      "source": [
        "U-NET"
      ]
    },
    {
      "cell_type": "code",
      "metadata": {
        "id": "jEcuJ4hnNcJU",
        "colab_type": "code",
        "colab": {}
      },
      "source": [
        "image_width = 256\n",
        "image_height = 256\n",
        "image_channels = 3"
      ],
      "execution_count": 0,
      "outputs": []
    },
    {
      "cell_type": "code",
      "metadata": {
        "id": "BvOjLWaIHbJn",
        "colab_type": "code",
        "colab": {}
      },
      "source": [
        "inputs = Input(shape=(image_width, image_height, image_channels))\n",
        "#1\n",
        "first_convolution = Conv2D(filters=1, kernel_size=(3,3), padding='same', activation='relu' )(inputs)\n",
        "first_convolution = Conv2D(filters=1, kernel_size=(3,3), padding='same', activation='relu' )(first_convolution)\n",
        "first_pooling = MaxPooling2D(pool_size=(2,2))(first_convolution)\n",
        "first_pooling = Dropout(0.5)(first_pooling)\n",
        "\n",
        "#2\n",
        "second_convolution = Conv2D(filters=2, kernel_size=(3,3), padding='same', activation='relu' )(first_pooling)\n",
        "second_convolution = Conv2D(filters=2, kernel_size=(3,3), padding='same', activation='relu' )(second_convolution)\n",
        "second_pooling = MaxPooling2D(pool_size=(2,2))(second_convolution)\n",
        "second_pooling = Dropout(0.5)(second_pooling)\n",
        "\n",
        "#3\n",
        "third_convolution = Conv2D(filters=4, kernel_size=(3,3), padding='same', activation='relu' )(second_pooling)\n",
        "third_convolution = Conv2D(filters=4, kernel_size=(3,3), padding='same', activation='relu' )(third_convolution)\n",
        "third_pooling = MaxPooling2D(pool_size=(2,2))(third_convolution)\n",
        "third_pooling = Dropout(0.5)(third_pooling)\n",
        "\n",
        "#4\n",
        "fourth_convolution = Conv2D(filters=8, kernel_size=(3,3), padding='same', activation='relu' )(third_pooling)\n",
        "fourth_convolution = Conv2D(filters=8, kernel_size=(3,3), padding='same', activation='relu' )(fourth_convolution)\n",
        "fourth_pooling = MaxPooling2D(pool_size=(2,2))(fourth_convolution)\n",
        "fourth_pooling = Dropout(0.5)(fourth_pooling)\n",
        "\n",
        "#5\n",
        "fifth_convolution = Conv2D(filters=16, kernel_size=(3,3), padding='same', activation='relu' )(fourth_pooling)\n",
        "fifth_convolution = Conv2D(filters=16, kernel_size=(3,3), padding='same', activation='relu' )(fifth_convolution)\n",
        "\n",
        "#6\n",
        "sixth_deconvolution = Conv2DTranspose(filters=8, kernel_size=(3,3), strides=(2,2), padding='same', activation='relu' )(fifth_convolution)\n",
        "sixth_convolution = concatenate([sixth_deconvolution, fourth_convolution])\n",
        "sixth_convolution = Dropout(0.5)(sixth_convolution)\n",
        "sixth_convolution = Conv2D(filters=8, kernel_size=(3,3), padding='same', activation='relu' )(sixth_convolution)\n",
        "sixth_convolution = Conv2D(filters=8, kernel_size=(3,3), padding='same', activation='relu' )(sixth_convolution)\n",
        "\n",
        "\n",
        "#7\n",
        "seventh_deconvolution = Conv2DTranspose(filters=4, kernel_size=(3,3), strides=(2,2), padding='same', activation='relu' )(sixth_convolution)\n",
        "seventh_convolution = concatenate([third_convolution, seventh_deconvolution])\n",
        "seventh_convolution = Dropout(0.5)(seventh_convolution)\n",
        "seventh_convolution = Conv2D(filters=4, kernel_size=(3,3), padding='same', activation='relu' )(seventh_convolution)\n",
        "seventh_convolution = Conv2D(filters=4, kernel_size=(3,3), padding='same', activation='relu' )(seventh_convolution)\n",
        "\n",
        "#8\n",
        "eigth_deconvolution = Conv2DTranspose(filters=2, kernel_size=(3,3), strides=(2,2), padding='same', activation='relu' )(seventh_convolution)\n",
        "eigth_convolution = concatenate([eigth_deconvolution, second_convolution])\n",
        "eigth_convolution = Dropout(0.5)(eigth_convolution)\n",
        "eigth_convolution = Conv2D(filters=2, kernel_size=(3,3), padding='same', activation='relu' )(eigth_convolution)\n",
        "eigth_convolution = Conv2D(filters=2, kernel_size=(3,3), padding='same', activation='relu' )(eigth_convolution)\n",
        "\n",
        "#9\n",
        "ninth_deconvolution = Conv2DTranspose(filters=1, kernel_size=(3,3), strides=(2,2), padding='same', activation='relu' )(eigth_convolution)\n",
        "ninth_convolution = concatenate([ninth_deconvolution, first_convolution])\n",
        "ninth_convolution = Dropout(0.5)(ninth_convolution)\n",
        "ninth_convolution = Conv2D(filters=1, kernel_size=(3,3), padding='same', activation='relu' )(ninth_convolution)\n",
        "ninth_convolution = Conv2D(filters=1, kernel_size=(3,3), padding='same', activation='relu' )(ninth_convolution)\n",
        "\n",
        "#10\n",
        "output = Conv2D(filters = 3, kernel_size=(1,1), padding='same', activation='sigmoid')(ninth_convolution)"
      ],
      "execution_count": 0,
      "outputs": []
    },
    {
      "cell_type": "code",
      "metadata": {
        "id": "0sJP5VF5N89I",
        "colab_type": "code",
        "colab": {}
      },
      "source": [
        "model = Model(inputs=inputs, outputs=output)\n",
        "model.compile(optimizer='rmsprop', loss='binary_crossentropy', metrics=[tf.keras.metrics.MeanIoU(num_classes=2)])"
      ],
      "execution_count": 0,
      "outputs": []
    },
    {
      "cell_type": "code",
      "metadata": {
        "id": "wp9op_kdWWtj",
        "colab_type": "code",
        "outputId": "1829ec94-08d9-403d-91c0-00e38a0ee04c",
        "colab": {
          "base_uri": "https://localhost:8080/",
          "height": 1000
        }
      },
      "source": [
        "model.summary()"
      ],
      "execution_count": 23,
      "outputs": [
        {
          "output_type": "stream",
          "text": [
            "Model: \"model\"\n",
            "__________________________________________________________________________________________________\n",
            "Layer (type)                    Output Shape         Param #     Connected to                     \n",
            "==================================================================================================\n",
            "input_1 (InputLayer)            [(None, 256, 256, 3) 0                                            \n",
            "__________________________________________________________________________________________________\n",
            "conv2d (Conv2D)                 (None, 256, 256, 1)  28          input_1[0][0]                    \n",
            "__________________________________________________________________________________________________\n",
            "conv2d_1 (Conv2D)               (None, 256, 256, 1)  10          conv2d[0][0]                     \n",
            "__________________________________________________________________________________________________\n",
            "max_pooling2d (MaxPooling2D)    (None, 128, 128, 1)  0           conv2d_1[0][0]                   \n",
            "__________________________________________________________________________________________________\n",
            "dropout (Dropout)               (None, 128, 128, 1)  0           max_pooling2d[0][0]              \n",
            "__________________________________________________________________________________________________\n",
            "conv2d_2 (Conv2D)               (None, 128, 128, 2)  20          dropout[0][0]                    \n",
            "__________________________________________________________________________________________________\n",
            "conv2d_3 (Conv2D)               (None, 128, 128, 2)  38          conv2d_2[0][0]                   \n",
            "__________________________________________________________________________________________________\n",
            "max_pooling2d_1 (MaxPooling2D)  (None, 64, 64, 2)    0           conv2d_3[0][0]                   \n",
            "__________________________________________________________________________________________________\n",
            "dropout_1 (Dropout)             (None, 64, 64, 2)    0           max_pooling2d_1[0][0]            \n",
            "__________________________________________________________________________________________________\n",
            "conv2d_4 (Conv2D)               (None, 64, 64, 4)    76          dropout_1[0][0]                  \n",
            "__________________________________________________________________________________________________\n",
            "conv2d_5 (Conv2D)               (None, 64, 64, 4)    148         conv2d_4[0][0]                   \n",
            "__________________________________________________________________________________________________\n",
            "max_pooling2d_2 (MaxPooling2D)  (None, 32, 32, 4)    0           conv2d_5[0][0]                   \n",
            "__________________________________________________________________________________________________\n",
            "dropout_2 (Dropout)             (None, 32, 32, 4)    0           max_pooling2d_2[0][0]            \n",
            "__________________________________________________________________________________________________\n",
            "conv2d_6 (Conv2D)               (None, 32, 32, 8)    296         dropout_2[0][0]                  \n",
            "__________________________________________________________________________________________________\n",
            "conv2d_7 (Conv2D)               (None, 32, 32, 8)    584         conv2d_6[0][0]                   \n",
            "__________________________________________________________________________________________________\n",
            "max_pooling2d_3 (MaxPooling2D)  (None, 16, 16, 8)    0           conv2d_7[0][0]                   \n",
            "__________________________________________________________________________________________________\n",
            "dropout_3 (Dropout)             (None, 16, 16, 8)    0           max_pooling2d_3[0][0]            \n",
            "__________________________________________________________________________________________________\n",
            "conv2d_8 (Conv2D)               (None, 16, 16, 16)   1168        dropout_3[0][0]                  \n",
            "__________________________________________________________________________________________________\n",
            "conv2d_9 (Conv2D)               (None, 16, 16, 16)   2320        conv2d_8[0][0]                   \n",
            "__________________________________________________________________________________________________\n",
            "conv2d_transpose (Conv2DTranspo (None, 32, 32, 8)    1160        conv2d_9[0][0]                   \n",
            "__________________________________________________________________________________________________\n",
            "concatenate (Concatenate)       (None, 32, 32, 16)   0           conv2d_transpose[0][0]           \n",
            "                                                                 conv2d_7[0][0]                   \n",
            "__________________________________________________________________________________________________\n",
            "dropout_4 (Dropout)             (None, 32, 32, 16)   0           concatenate[0][0]                \n",
            "__________________________________________________________________________________________________\n",
            "conv2d_10 (Conv2D)              (None, 32, 32, 8)    1160        dropout_4[0][0]                  \n",
            "__________________________________________________________________________________________________\n",
            "conv2d_11 (Conv2D)              (None, 32, 32, 8)    584         conv2d_10[0][0]                  \n",
            "__________________________________________________________________________________________________\n",
            "conv2d_transpose_1 (Conv2DTrans (None, 64, 64, 4)    292         conv2d_11[0][0]                  \n",
            "__________________________________________________________________________________________________\n",
            "concatenate_1 (Concatenate)     (None, 64, 64, 8)    0           conv2d_5[0][0]                   \n",
            "                                                                 conv2d_transpose_1[0][0]         \n",
            "__________________________________________________________________________________________________\n",
            "dropout_5 (Dropout)             (None, 64, 64, 8)    0           concatenate_1[0][0]              \n",
            "__________________________________________________________________________________________________\n",
            "conv2d_12 (Conv2D)              (None, 64, 64, 4)    292         dropout_5[0][0]                  \n",
            "__________________________________________________________________________________________________\n",
            "conv2d_13 (Conv2D)              (None, 64, 64, 4)    148         conv2d_12[0][0]                  \n",
            "__________________________________________________________________________________________________\n",
            "conv2d_transpose_2 (Conv2DTrans (None, 128, 128, 2)  74          conv2d_13[0][0]                  \n",
            "__________________________________________________________________________________________________\n",
            "concatenate_2 (Concatenate)     (None, 128, 128, 4)  0           conv2d_transpose_2[0][0]         \n",
            "                                                                 conv2d_3[0][0]                   \n",
            "__________________________________________________________________________________________________\n",
            "dropout_6 (Dropout)             (None, 128, 128, 4)  0           concatenate_2[0][0]              \n",
            "__________________________________________________________________________________________________\n",
            "conv2d_14 (Conv2D)              (None, 128, 128, 2)  74          dropout_6[0][0]                  \n",
            "__________________________________________________________________________________________________\n",
            "conv2d_15 (Conv2D)              (None, 128, 128, 2)  38          conv2d_14[0][0]                  \n",
            "__________________________________________________________________________________________________\n",
            "conv2d_transpose_3 (Conv2DTrans (None, 256, 256, 1)  19          conv2d_15[0][0]                  \n",
            "__________________________________________________________________________________________________\n",
            "concatenate_3 (Concatenate)     (None, 256, 256, 2)  0           conv2d_transpose_3[0][0]         \n",
            "                                                                 conv2d_1[0][0]                   \n",
            "__________________________________________________________________________________________________\n",
            "dropout_7 (Dropout)             (None, 256, 256, 2)  0           concatenate_3[0][0]              \n",
            "__________________________________________________________________________________________________\n",
            "conv2d_16 (Conv2D)              (None, 256, 256, 1)  19          dropout_7[0][0]                  \n",
            "__________________________________________________________________________________________________\n",
            "conv2d_17 (Conv2D)              (None, 256, 256, 1)  10          conv2d_16[0][0]                  \n",
            "__________________________________________________________________________________________________\n",
            "conv2d_18 (Conv2D)              (None, 256, 256, 3)  6           conv2d_17[0][0]                  \n",
            "==================================================================================================\n",
            "Total params: 8,564\n",
            "Trainable params: 8,564\n",
            "Non-trainable params: 0\n",
            "__________________________________________________________________________________________________\n"
          ],
          "name": "stdout"
        }
      ]
    },
    {
      "cell_type": "code",
      "metadata": {
        "id": "EeiUx6lrWT9Q",
        "colab_type": "code",
        "colab": {}
      },
      "source": [
        "#batch_size = 32\n",
        "#train_steps = len(training_data) // batch_size\n",
        "#test_steps = len(test_data) // batch_size"
      ],
      "execution_count": 0,
      "outputs": []
    },
    {
      "cell_type": "code",
      "metadata": {
        "id": "xDG7XyG09S5s",
        "colab_type": "code",
        "outputId": "cfa8c970-1ce3-4644-8518-b59955c74d6b",
        "colab": {
          "base_uri": "https://localhost:8080/",
          "height": 204
        }
      },
      "source": [
        "model.fit(images, masks, batch_size = 4, epochs = 5)"
      ],
      "execution_count": 27,
      "outputs": [
        {
          "output_type": "stream",
          "text": [
            "Epoch 1/5\n",
            "27/27 [==============================] - 1s 21ms/step - loss: 0.6795 - mean_io_u: 0.3969\n",
            "Epoch 2/5\n",
            "27/27 [==============================] - 1s 23ms/step - loss: 0.6703 - mean_io_u: 0.3969\n",
            "Epoch 3/5\n",
            "27/27 [==============================] - 1s 20ms/step - loss: 0.6608 - mean_io_u: 0.3969\n",
            "Epoch 4/5\n",
            "27/27 [==============================] - 1s 19ms/step - loss: 0.6501 - mean_io_u: 0.3969\n",
            "Epoch 5/5\n",
            "27/27 [==============================] - 1s 22ms/step - loss: 0.6384 - mean_io_u: 0.3969\n"
          ],
          "name": "stdout"
        },
        {
          "output_type": "execute_result",
          "data": {
            "text/plain": [
              "<tensorflow.python.keras.callbacks.History at 0x7f5d2f6df400>"
            ]
          },
          "metadata": {
            "tags": []
          },
          "execution_count": 27
        }
      ]
    },
    {
      "cell_type": "code",
      "metadata": {
        "id": "apggpCUYQYaU",
        "colab_type": "code",
        "colab": {}
      },
      "source": [
        "predictions = model.predict(images)"
      ],
      "execution_count": 0,
      "outputs": []
    },
    {
      "cell_type": "code",
      "metadata": {
        "id": "t1OCuxwoRaDZ",
        "colab_type": "code",
        "colab": {
          "base_uri": "https://localhost:8080/",
          "height": 286
        },
        "outputId": "62e87228-8cc0-44a3-d975-4b3883e8588d"
      },
      "source": [
        "plt.imshow(predictions[0])"
      ],
      "execution_count": 30,
      "outputs": [
        {
          "output_type": "execute_result",
          "data": {
            "text/plain": [
              "<matplotlib.image.AxesImage at 0x7f5d2e6adba8>"
            ]
          },
          "metadata": {
            "tags": []
          },
          "execution_count": 30
        },
        {
          "output_type": "display_data",
          "data": {
            "image/png": "[encoded data removed]",
            "text/plain": [
              "<Figure size 432x288 with 1 Axes>"
            ]
          },
          "metadata": {
            "tags": [],
            "needs_background": "light"
          }
        }
      ]
    },
    {
      "cell_type": "code",
      "metadata": {
        "id": "S9gmC8QSReFA",
        "colab_type": "code",
        "colab": {}
      },
      "source": [
        ""
      ],
      "execution_count": 0,
      "outputs": []
    }
  ]
}