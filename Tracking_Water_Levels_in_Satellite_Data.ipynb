{
  "nbformat": 4,
  "nbformat_minor": 0,
  "metadata": {
    "colab": {
      "name": "Tracking Water Levels in Satellite Data.ipynb",
      "provenance": [],
      "machine_shape": "hm",
      "authorship_tag": "ABX9TyOcDGvmU/yFKdQzuNEXIf+F"
    },
    "kernelspec": {
      "name": "python3",
      "display_name": "Python 3"
    },
    "accelerator": "GPU",
    "widgets": {
      "application/vnd.jupyter.widget-state+json": {
        "cb623e2c4f1f469cbdf7e9928b5725ae": {
          "model_module": "@jupyter-widgets/controls",
          "model_name": "HBoxModel",
          "state": {
            "_view_name": "HBoxView",
            "_dom_classes": [],
            "_model_name": "HBoxModel",
            "_view_module": "@jupyter-widgets/controls",
            "_model_module_version": "1.5.0",
            "_view_count": null,
            "_view_module_version": "1.5.0",
            "box_style": "",
            "layout": "IPY_MODEL_80471fb604c949e98d26e9ad747cc0fe",
            "_model_module": "@jupyter-widgets/controls",
            "children": [
              "IPY_MODEL_5238c750020e4912b8a67101287e8e6d",
              "IPY_MODEL_024a4dad4ba54b67afbdca9bc0993b32"
            ]
          }
        },
        "80471fb604c949e98d26e9ad747cc0fe": {
          "model_module": "@jupyter-widgets/base",
          "model_name": "LayoutModel",
          "state": {
            "_view_name": "LayoutView",
            "grid_template_rows": null,
            "right": null,
            "justify_content": null,
            "_view_module": "@jupyter-widgets/base",
            "overflow": null,
            "_model_module_version": "1.2.0",
            "_view_count": null,
            "flex_flow": null,
            "width": null,
            "min_width": null,
            "border": null,
            "align_items": null,
            "bottom": null,
            "_model_module": "@jupyter-widgets/base",
            "top": null,
            "grid_column": null,
            "overflow_y": null,
            "overflow_x": null,
            "grid_auto_flow": null,
            "grid_area": null,
            "grid_template_columns": null,
            "flex": null,
            "_model_name": "LayoutModel",
            "justify_items": null,
            "grid_row": null,
            "max_height": null,
            "align_content": null,
            "visibility": null,
            "align_self": null,
            "height": null,
            "min_height": null,
            "padding": null,
            "grid_auto_rows": null,
            "grid_gap": null,
            "max_width": null,
            "order": null,
            "_view_module_version": "1.2.0",
            "grid_template_areas": null,
            "object_position": null,
            "object_fit": null,
            "grid_auto_columns": null,
            "margin": null,
            "display": null,
            "left": null
          }
        },
        "5238c750020e4912b8a67101287e8e6d": {
          "model_module": "@jupyter-widgets/controls",
          "model_name": "FloatProgressModel",
          "state": {
            "_view_name": "ProgressView",
            "style": "IPY_MODEL_9c0f739a60074f9aa7c49e8e43ab9d77",
            "_dom_classes": [],
            "description": "100%",
            "_model_name": "FloatProgressModel",
            "bar_style": "success",
            "max": 2339,
            "_view_module": "@jupyter-widgets/controls",
            "_model_module_version": "1.5.0",
            "value": 2339,
            "_view_count": null,
            "_view_module_version": "1.5.0",
            "orientation": "horizontal",
            "min": 0,
            "description_tooltip": null,
            "_model_module": "@jupyter-widgets/controls",
            "layout": "IPY_MODEL_5f920bae19ec4ce88ca701f99308921a"
          }
        },
        "024a4dad4ba54b67afbdca9bc0993b32": {
          "model_module": "@jupyter-widgets/controls",
          "model_name": "HTMLModel",
          "state": {
            "_view_name": "HTMLView",
            "style": "IPY_MODEL_d15c448f577b4227b42874afbb484e48",
            "_dom_classes": [],
            "description": "",
            "_model_name": "HTMLModel",
            "placeholder": "​",
            "_view_module": "@jupyter-widgets/controls",
            "_model_module_version": "1.5.0",
            "value": " 2339/2339 [00:47&lt;00:00, 49.28it/s]",
            "_view_count": null,
            "_view_module_version": "1.5.0",
            "description_tooltip": null,
            "_model_module": "@jupyter-widgets/controls",
            "layout": "IPY_MODEL_1a55e10ef6fe441ebb5084309508a271"
          }
        },
        "9c0f739a60074f9aa7c49e8e43ab9d77": {
          "model_module": "@jupyter-widgets/controls",
          "model_name": "ProgressStyleModel",
          "state": {
            "_view_name": "StyleView",
            "_model_name": "ProgressStyleModel",
            "description_width": "initial",
            "_view_module": "@jupyter-widgets/base",
            "_model_module_version": "1.5.0",
            "_view_count": null,
            "_view_module_version": "1.2.0",
            "bar_color": null,
            "_model_module": "@jupyter-widgets/controls"
          }
        },
        "5f920bae19ec4ce88ca701f99308921a": {
          "model_module": "@jupyter-widgets/base",
          "model_name": "LayoutModel",
          "state": {
            "_view_name": "LayoutView",
            "grid_template_rows": null,
            "right": null,
            "justify_content": null,
            "_view_module": "@jupyter-widgets/base",
            "overflow": null,
            "_model_module_version": "1.2.0",
            "_view_count": null,
            "flex_flow": null,
            "width": null,
            "min_width": null,
            "border": null,
            "align_items": null,
            "bottom": null,
            "_model_module": "@jupyter-widgets/base",
            "top": null,
            "grid_column": null,
            "overflow_y": null,
            "overflow_x": null,
            "grid_auto_flow": null,
            "grid_area": null,
            "grid_template_columns": null,
            "flex": null,
            "_model_name": "LayoutModel",
            "justify_items": null,
            "grid_row": null,
            "max_height": null,
            "align_content": null,
            "visibility": null,
            "align_self": null,
            "height": null,
            "min_height": null,
            "padding": null,
            "grid_auto_rows": null,
            "grid_gap": null,
            "max_width": null,
            "order": null,
            "_view_module_version": "1.2.0",
            "grid_template_areas": null,
            "object_position": null,
            "object_fit": null,
            "grid_auto_columns": null,
            "margin": null,
            "display": null,
            "left": null
          }
        },
        "d15c448f577b4227b42874afbb484e48": {
          "model_module": "@jupyter-widgets/controls",
          "model_name": "DescriptionStyleModel",
          "state": {
            "_view_name": "StyleView",
            "_model_name": "DescriptionStyleModel",
            "description_width": "",
            "_view_module": "@jupyter-widgets/base",
            "_model_module_version": "1.5.0",
            "_view_count": null,
            "_view_module_version": "1.2.0",
            "_model_module": "@jupyter-widgets/controls"
          }
        },
        "1a55e10ef6fe441ebb5084309508a271": {
          "model_module": "@jupyter-widgets/base",
          "model_name": "LayoutModel",
          "state": {
            "_view_name": "LayoutView",
            "grid_template_rows": null,
            "right": null,
            "justify_content": null,
            "_view_module": "@jupyter-widgets/base",
            "overflow": null,
            "_model_module_version": "1.2.0",
            "_view_count": null,
            "flex_flow": null,
            "width": null,
            "min_width": null,
            "border": null,
            "align_items": null,
            "bottom": null,
            "_model_module": "@jupyter-widgets/base",
            "top": null,
            "grid_column": null,
            "overflow_y": null,
            "overflow_x": null,
            "grid_auto_flow": null,
            "grid_area": null,
            "grid_template_columns": null,
            "flex": null,
            "_model_name": "LayoutModel",
            "justify_items": null,
            "grid_row": null,
            "max_height": null,
            "align_content": null,
            "visibility": null,
            "align_self": null,
            "height": null,
            "min_height": null,
            "padding": null,
            "grid_auto_rows": null,
            "grid_gap": null,
            "max_width": null,
            "order": null,
            "_view_module_version": "1.2.0",
            "grid_template_areas": null,
            "object_position": null,
            "object_fit": null,
            "grid_auto_columns": null,
            "margin": null,
            "display": null,
            "left": null
          }
        },
        "2c04b3c83de744c2890d99d03d956048": {
          "model_module": "@jupyter-widgets/controls",
          "model_name": "HBoxModel",
          "state": {
            "_view_name": "HBoxView",
            "_dom_classes": [],
            "_model_name": "HBoxModel",
            "_view_module": "@jupyter-widgets/controls",
            "_model_module_version": "1.5.0",
            "_view_count": null,
            "_view_module_version": "1.5.0",
            "box_style": "",
            "layout": "IPY_MODEL_d58afe60c31048fe98104b9698292c28",
            "_model_module": "@jupyter-widgets/controls",
            "children": [
              "IPY_MODEL_4f621fc0e3f1452fb69a592eff73c0f0",
              "IPY_MODEL_867aaedb6d4942fe9e726f4fc61fbe02"
            ]
          }
        },
        "d58afe60c31048fe98104b9698292c28": {
          "model_module": "@jupyter-widgets/base",
          "model_name": "LayoutModel",
          "state": {
            "_view_name": "LayoutView",
            "grid_template_rows": null,
            "right": null,
            "justify_content": null,
            "_view_module": "@jupyter-widgets/base",
            "overflow": null,
            "_model_module_version": "1.2.0",
            "_view_count": null,
            "flex_flow": null,
            "width": null,
            "min_width": null,
            "border": null,
            "align_items": null,
            "bottom": null,
            "_model_module": "@jupyter-widgets/base",
            "top": null,
            "grid_column": null,
            "overflow_y": null,
            "overflow_x": null,
            "grid_auto_flow": null,
            "grid_area": null,
            "grid_template_columns": null,
            "flex": null,
            "_model_name": "LayoutModel",
            "justify_items": null,
            "grid_row": null,
            "max_height": null,
            "align_content": null,
            "visibility": null,
            "align_self": null,
            "height": null,
            "min_height": null,
            "padding": null,
            "grid_auto_rows": null,
            "grid_gap": null,
            "max_width": null,
            "order": null,
            "_view_module_version": "1.2.0",
            "grid_template_areas": null,
            "object_position": null,
            "object_fit": null,
            "grid_auto_columns": null,
            "margin": null,
            "display": null,
            "left": null
          }
        },
        "4f621fc0e3f1452fb69a592eff73c0f0": {
          "model_module": "@jupyter-widgets/controls",
          "model_name": "FloatProgressModel",
          "state": {
            "_view_name": "ProgressView",
            "style": "IPY_MODEL_c05fb0d5be1b4f0bb4ad26832ee701d2",
            "_dom_classes": [],
            "description": "100%",
            "_model_name": "FloatProgressModel",
            "bar_style": "success",
            "max": 585,
            "_view_module": "@jupyter-widgets/controls",
            "_model_module_version": "1.5.0",
            "value": 585,
            "_view_count": null,
            "_view_module_version": "1.5.0",
            "orientation": "horizontal",
            "min": 0,
            "description_tooltip": null,
            "_model_module": "@jupyter-widgets/controls",
            "layout": "IPY_MODEL_a5ea5a0160e542bb88873accf56eea3f"
          }
        },
        "867aaedb6d4942fe9e726f4fc61fbe02": {
          "model_module": "@jupyter-widgets/controls",
          "model_name": "HTMLModel",
          "state": {
            "_view_name": "HTMLView",
            "style": "IPY_MODEL_28d645b782cf46618cd123e094647eaf",
            "_dom_classes": [],
            "description": "",
            "_model_name": "HTMLModel",
            "placeholder": "​",
            "_view_module": "@jupyter-widgets/controls",
            "_model_module_version": "1.5.0",
            "value": " 585/585 [00:05&lt;00:00, 112.55it/s]",
            "_view_count": null,
            "_view_module_version": "1.5.0",
            "description_tooltip": null,
            "_model_module": "@jupyter-widgets/controls",
            "layout": "IPY_MODEL_5d26d5e29f194afe9ce3ae25d64227f2"
          }
        },
        "c05fb0d5be1b4f0bb4ad26832ee701d2": {
          "model_module": "@jupyter-widgets/controls",
          "model_name": "ProgressStyleModel",
          "state": {
            "_view_name": "StyleView",
            "_model_name": "ProgressStyleModel",
            "description_width": "initial",
            "_view_module": "@jupyter-widgets/base",
            "_model_module_version": "1.5.0",
            "_view_count": null,
            "_view_module_version": "1.2.0",
            "bar_color": null,
            "_model_module": "@jupyter-widgets/controls"
          }
        },
        "a5ea5a0160e542bb88873accf56eea3f": {
          "model_module": "@jupyter-widgets/base",
          "model_name": "LayoutModel",
          "state": {
            "_view_name": "LayoutView",
            "grid_template_rows": null,
            "right": null,
            "justify_content": null,
            "_view_module": "@jupyter-widgets/base",
            "overflow": null,
            "_model_module_version": "1.2.0",
            "_view_count": null,
            "flex_flow": null,
            "width": null,
            "min_width": null,
            "border": null,
            "align_items": null,
            "bottom": null,
            "_model_module": "@jupyter-widgets/base",
            "top": null,
            "grid_column": null,
            "overflow_y": null,
            "overflow_x": null,
            "grid_auto_flow": null,
            "grid_area": null,
            "grid_template_columns": null,
            "flex": null,
            "_model_name": "LayoutModel",
            "justify_items": null,
            "grid_row": null,
            "max_height": null,
            "align_content": null,
            "visibility": null,
            "align_self": null,
            "height": null,
            "min_height": null,
            "padding": null,
            "grid_auto_rows": null,
            "grid_gap": null,
            "max_width": null,
            "order": null,
            "_view_module_version": "1.2.0",
            "grid_template_areas": null,
            "object_position": null,
            "object_fit": null,
            "grid_auto_columns": null,
            "margin": null,
            "display": null,
            "left": null
          }
        },
        "28d645b782cf46618cd123e094647eaf": {
          "model_module": "@jupyter-widgets/controls",
          "model_name": "DescriptionStyleModel",
          "state": {
            "_view_name": "StyleView",
            "_model_name": "DescriptionStyleModel",
            "description_width": "",
            "_view_module": "@jupyter-widgets/base",
            "_model_module_version": "1.5.0",
            "_view_count": null,
            "_view_module_version": "1.2.0",
            "_model_module": "@jupyter-widgets/controls"
          }
        },
        "5d26d5e29f194afe9ce3ae25d64227f2": {
          "model_module": "@jupyter-widgets/base",
          "model_name": "LayoutModel",
          "state": {
            "_view_name": "LayoutView",
            "grid_template_rows": null,
            "right": null,
            "justify_content": null,
            "_view_module": "@jupyter-widgets/base",
            "overflow": null,
            "_model_module_version": "1.2.0",
            "_view_count": null,
            "flex_flow": null,
            "width": null,
            "min_width": null,
            "border": null,
            "align_items": null,
            "bottom": null,
            "_model_module": "@jupyter-widgets/base",
            "top": null,
            "grid_column": null,
            "overflow_y": null,
            "overflow_x": null,
            "grid_auto_flow": null,
            "grid_area": null,
            "grid_template_columns": null,
            "flex": null,
            "_model_name": "LayoutModel",
            "justify_items": null,
            "grid_row": null,
            "max_height": null,
            "align_content": null,
            "visibility": null,
            "align_self": null,
            "height": null,
            "min_height": null,
            "padding": null,
            "grid_auto_rows": null,
            "grid_gap": null,
            "max_width": null,
            "order": null,
            "_view_module_version": "1.2.0",
            "grid_template_areas": null,
            "object_position": null,
            "object_fit": null,
            "grid_auto_columns": null,
            "margin": null,
            "display": null,
            "left": null
          }
        },
        "8ebca34f17fc4b218759fbab670ed798": {
          "model_module": "@jupyter-widgets/controls",
          "model_name": "HBoxModel",
          "state": {
            "_view_name": "HBoxView",
            "_dom_classes": [],
            "_model_name": "HBoxModel",
            "_view_module": "@jupyter-widgets/controls",
            "_model_module_version": "1.5.0",
            "_view_count": null,
            "_view_module_version": "1.5.0",
            "box_style": "",
            "layout": "IPY_MODEL_725972075e30438b9acef99dd79806d2",
            "_model_module": "@jupyter-widgets/controls",
            "children": [
              "IPY_MODEL_98a8498b4fef4b06b829409dd8256451",
              "IPY_MODEL_11022ac007984a30b0c43df80bfba999"
            ]
          }
        },
        "725972075e30438b9acef99dd79806d2": {
          "model_module": "@jupyter-widgets/base",
          "model_name": "LayoutModel",
          "state": {
            "_view_name": "LayoutView",
            "grid_template_rows": null,
            "right": null,
            "justify_content": null,
            "_view_module": "@jupyter-widgets/base",
            "overflow": null,
            "_model_module_version": "1.2.0",
            "_view_count": null,
            "flex_flow": null,
            "width": null,
            "min_width": null,
            "border": null,
            "align_items": null,
            "bottom": null,
            "_model_module": "@jupyter-widgets/base",
            "top": null,
            "grid_column": null,
            "overflow_y": null,
            "overflow_x": null,
            "grid_auto_flow": null,
            "grid_area": null,
            "grid_template_columns": null,
            "flex": null,
            "_model_name": "LayoutModel",
            "justify_items": null,
            "grid_row": null,
            "max_height": null,
            "align_content": null,
            "visibility": null,
            "align_self": null,
            "height": null,
            "min_height": null,
            "padding": null,
            "grid_auto_rows": null,
            "grid_gap": null,
            "max_width": null,
            "order": null,
            "_view_module_version": "1.2.0",
            "grid_template_areas": null,
            "object_position": null,
            "object_fit": null,
            "grid_auto_columns": null,
            "margin": null,
            "display": null,
            "left": null
          }
        },
        "98a8498b4fef4b06b829409dd8256451": {
          "model_module": "@jupyter-widgets/controls",
          "model_name": "FloatProgressModel",
          "state": {
            "_view_name": "ProgressView",
            "style": "IPY_MODEL_35a4eae429684dbc9188449583c274f1",
            "_dom_classes": [],
            "description": "100%",
            "_model_name": "FloatProgressModel",
            "bar_style": "success",
            "max": 2339,
            "_view_module": "@jupyter-widgets/controls",
            "_model_module_version": "1.5.0",
            "value": 2339,
            "_view_count": null,
            "_view_module_version": "1.5.0",
            "orientation": "horizontal",
            "min": 0,
            "description_tooltip": null,
            "_model_module": "@jupyter-widgets/controls",
            "layout": "IPY_MODEL_a0e5fc872ee040f48f377bfe408837eb"
          }
        },
        "11022ac007984a30b0c43df80bfba999": {
          "model_module": "@jupyter-widgets/controls",
          "model_name": "HTMLModel",
          "state": {
            "_view_name": "HTMLView",
            "style": "IPY_MODEL_839f9117878546a9a91709a64eab7f1c",
            "_dom_classes": [],
            "description": "",
            "_model_name": "HTMLModel",
            "placeholder": "​",
            "_view_module": "@jupyter-widgets/controls",
            "_model_module_version": "1.5.0",
            "value": " 2339/2339 [00:21&lt;00:00, 109.24it/s]",
            "_view_count": null,
            "_view_module_version": "1.5.0",
            "description_tooltip": null,
            "_model_module": "@jupyter-widgets/controls",
            "layout": "IPY_MODEL_aa87e0fa212d4b228a0d5b3542a0dc42"
          }
        },
        "35a4eae429684dbc9188449583c274f1": {
          "model_module": "@jupyter-widgets/controls",
          "model_name": "ProgressStyleModel",
          "state": {
            "_view_name": "StyleView",
            "_model_name": "ProgressStyleModel",
            "description_width": "initial",
            "_view_module": "@jupyter-widgets/base",
            "_model_module_version": "1.5.0",
            "_view_count": null,
            "_view_module_version": "1.2.0",
            "bar_color": null,
            "_model_module": "@jupyter-widgets/controls"
          }
        },
        "a0e5fc872ee040f48f377bfe408837eb": {
          "model_module": "@jupyter-widgets/base",
          "model_name": "LayoutModel",
          "state": {
            "_view_name": "LayoutView",
            "grid_template_rows": null,
            "right": null,
            "justify_content": null,
            "_view_module": "@jupyter-widgets/base",
            "overflow": null,
            "_model_module_version": "1.2.0",
            "_view_count": null,
            "flex_flow": null,
            "width": null,
            "min_width": null,
            "border": null,
            "align_items": null,
            "bottom": null,
            "_model_module": "@jupyter-widgets/base",
            "top": null,
            "grid_column": null,
            "overflow_y": null,
            "overflow_x": null,
            "grid_auto_flow": null,
            "grid_area": null,
            "grid_template_columns": null,
            "flex": null,
            "_model_name": "LayoutModel",
            "justify_items": null,
            "grid_row": null,
            "max_height": null,
            "align_content": null,
            "visibility": null,
            "align_self": null,
            "height": null,
            "min_height": null,
            "padding": null,
            "grid_auto_rows": null,
            "grid_gap": null,
            "max_width": null,
            "order": null,
            "_view_module_version": "1.2.0",
            "grid_template_areas": null,
            "object_position": null,
            "object_fit": null,
            "grid_auto_columns": null,
            "margin": null,
            "display": null,
            "left": null
          }
        },
        "839f9117878546a9a91709a64eab7f1c": {
          "model_module": "@jupyter-widgets/controls",
          "model_name": "DescriptionStyleModel",
          "state": {
            "_view_name": "StyleView",
            "_model_name": "DescriptionStyleModel",
            "description_width": "",
            "_view_module": "@jupyter-widgets/base",
            "_model_module_version": "1.5.0",
            "_view_count": null,
            "_view_module_version": "1.2.0",
            "_model_module": "@jupyter-widgets/controls"
          }
        },
        "aa87e0fa212d4b228a0d5b3542a0dc42": {
          "model_module": "@jupyter-widgets/base",
          "model_name": "LayoutModel",
          "state": {
            "_view_name": "LayoutView",
            "grid_template_rows": null,
            "right": null,
            "justify_content": null,
            "_view_module": "@jupyter-widgets/base",
            "overflow": null,
            "_model_module_version": "1.2.0",
            "_view_count": null,
            "flex_flow": null,
            "width": null,
            "min_width": null,
            "border": null,
            "align_items": null,
            "bottom": null,
            "_model_module": "@jupyter-widgets/base",
            "top": null,
            "grid_column": null,
            "overflow_y": null,
            "overflow_x": null,
            "grid_auto_flow": null,
            "grid_area": null,
            "grid_template_columns": null,
            "flex": null,
            "_model_name": "LayoutModel",
            "justify_items": null,
            "grid_row": null,
            "max_height": null,
            "align_content": null,
            "visibility": null,
            "align_self": null,
            "height": null,
            "min_height": null,
            "padding": null,
            "grid_auto_rows": null,
            "grid_gap": null,
            "max_width": null,
            "order": null,
            "_view_module_version": "1.2.0",
            "grid_template_areas": null,
            "object_position": null,
            "object_fit": null,
            "grid_auto_columns": null,
            "margin": null,
            "display": null,
            "left": null
          }
        },
        "8a1cb266098e4836bdefb52d9c6e514b": {
          "model_module": "@jupyter-widgets/controls",
          "model_name": "HBoxModel",
          "state": {
            "_view_name": "HBoxView",
            "_dom_classes": [],
            "_model_name": "HBoxModel",
            "_view_module": "@jupyter-widgets/controls",
            "_model_module_version": "1.5.0",
            "_view_count": null,
            "_view_module_version": "1.5.0",
            "box_style": "",
            "layout": "IPY_MODEL_59b6f742c7824f1b9b18e04c4cd90c31",
            "_model_module": "@jupyter-widgets/controls",
            "children": [
              "IPY_MODEL_a8a45cf3f74d430fa244e1c67ae3a599",
              "IPY_MODEL_04c84212a3bc4f80a94bd3f0a0cbfcec"
            ]
          }
        },
        "59b6f742c7824f1b9b18e04c4cd90c31": {
          "model_module": "@jupyter-widgets/base",
          "model_name": "LayoutModel",
          "state": {
            "_view_name": "LayoutView",
            "grid_template_rows": null,
            "right": null,
            "justify_content": null,
            "_view_module": "@jupyter-widgets/base",
            "overflow": null,
            "_model_module_version": "1.2.0",
            "_view_count": null,
            "flex_flow": null,
            "width": null,
            "min_width": null,
            "border": null,
            "align_items": null,
            "bottom": null,
            "_model_module": "@jupyter-widgets/base",
            "top": null,
            "grid_column": null,
            "overflow_y": null,
            "overflow_x": null,
            "grid_auto_flow": null,
            "grid_area": null,
            "grid_template_columns": null,
            "flex": null,
            "_model_name": "LayoutModel",
            "justify_items": null,
            "grid_row": null,
            "max_height": null,
            "align_content": null,
            "visibility": null,
            "align_self": null,
            "height": null,
            "min_height": null,
            "padding": null,
            "grid_auto_rows": null,
            "grid_gap": null,
            "max_width": null,
            "order": null,
            "_view_module_version": "1.2.0",
            "grid_template_areas": null,
            "object_position": null,
            "object_fit": null,
            "grid_auto_columns": null,
            "margin": null,
            "display": null,
            "left": null
          }
        },
        "a8a45cf3f74d430fa244e1c67ae3a599": {
          "model_module": "@jupyter-widgets/controls",
          "model_name": "FloatProgressModel",
          "state": {
            "_view_name": "ProgressView",
            "style": "IPY_MODEL_f1b94a7f542041bb87106b185e9585c6",
            "_dom_classes": [],
            "description": "100%",
            "_model_name": "FloatProgressModel",
            "bar_style": "success",
            "max": 585,
            "_view_module": "@jupyter-widgets/controls",
            "_model_module_version": "1.5.0",
            "value": 585,
            "_view_count": null,
            "_view_module_version": "1.5.0",
            "orientation": "horizontal",
            "min": 0,
            "description_tooltip": null,
            "_model_module": "@jupyter-widgets/controls",
            "layout": "IPY_MODEL_4c6cfb2967474b139cd7f25569061521"
          }
        },
        "04c84212a3bc4f80a94bd3f0a0cbfcec": {
          "model_module": "@jupyter-widgets/controls",
          "model_name": "HTMLModel",
          "state": {
            "_view_name": "HTMLView",
            "style": "IPY_MODEL_21638f10413644e4889ee62db132e826",
            "_dom_classes": [],
            "description": "",
            "_model_name": "HTMLModel",
            "placeholder": "​",
            "_view_module": "@jupyter-widgets/controls",
            "_model_module_version": "1.5.0",
            "value": " 585/585 [00:04&lt;00:00, 129.25it/s]",
            "_view_count": null,
            "_view_module_version": "1.5.0",
            "description_tooltip": null,
            "_model_module": "@jupyter-widgets/controls",
            "layout": "IPY_MODEL_1dff8454f4174e909fdba8a93ed7ed07"
          }
        },
        "f1b94a7f542041bb87106b185e9585c6": {
          "model_module": "@jupyter-widgets/controls",
          "model_name": "ProgressStyleModel",
          "state": {
            "_view_name": "StyleView",
            "_model_name": "ProgressStyleModel",
            "description_width": "initial",
            "_view_module": "@jupyter-widgets/base",
            "_model_module_version": "1.5.0",
            "_view_count": null,
            "_view_module_version": "1.2.0",
            "bar_color": null,
            "_model_module": "@jupyter-widgets/controls"
          }
        },
        "4c6cfb2967474b139cd7f25569061521": {
          "model_module": "@jupyter-widgets/base",
          "model_name": "LayoutModel",
          "state": {
            "_view_name": "LayoutView",
            "grid_template_rows": null,
            "right": null,
            "justify_content": null,
            "_view_module": "@jupyter-widgets/base",
            "overflow": null,
            "_model_module_version": "1.2.0",
            "_view_count": null,
            "flex_flow": null,
            "width": null,
            "min_width": null,
            "border": null,
            "align_items": null,
            "bottom": null,
            "_model_module": "@jupyter-widgets/base",
            "top": null,
            "grid_column": null,
            "overflow_y": null,
            "overflow_x": null,
            "grid_auto_flow": null,
            "grid_area": null,
            "grid_template_columns": null,
            "flex": null,
            "_model_name": "LayoutModel",
            "justify_items": null,
            "grid_row": null,
            "max_height": null,
            "align_content": null,
            "visibility": null,
            "align_self": null,
            "height": null,
            "min_height": null,
            "padding": null,
            "grid_auto_rows": null,
            "grid_gap": null,
            "max_width": null,
            "order": null,
            "_view_module_version": "1.2.0",
            "grid_template_areas": null,
            "object_position": null,
            "object_fit": null,
            "grid_auto_columns": null,
            "margin": null,
            "display": null,
            "left": null
          }
        },
        "21638f10413644e4889ee62db132e826": {
          "model_module": "@jupyter-widgets/controls",
          "model_name": "DescriptionStyleModel",
          "state": {
            "_view_name": "StyleView",
            "_model_name": "DescriptionStyleModel",
            "description_width": "",
            "_view_module": "@jupyter-widgets/base",
            "_model_module_version": "1.5.0",
            "_view_count": null,
            "_view_module_version": "1.2.0",
            "_model_module": "@jupyter-widgets/controls"
          }
        },
        "1dff8454f4174e909fdba8a93ed7ed07": {
          "model_module": "@jupyter-widgets/base",
          "model_name": "LayoutModel",
          "state": {
            "_view_name": "LayoutView",
            "grid_template_rows": null,
            "right": null,
            "justify_content": null,
            "_view_module": "@jupyter-widgets/base",
            "overflow": null,
            "_model_module_version": "1.2.0",
            "_view_count": null,
            "flex_flow": null,
            "width": null,
            "min_width": null,
            "border": null,
            "align_items": null,
            "bottom": null,
            "_model_module": "@jupyter-widgets/base",
            "top": null,
            "grid_column": null,
            "overflow_y": null,
            "overflow_x": null,
            "grid_auto_flow": null,
            "grid_area": null,
            "grid_template_columns": null,
            "flex": null,
            "_model_name": "LayoutModel",
            "justify_items": null,
            "grid_row": null,
            "max_height": null,
            "align_content": null,
            "visibility": null,
            "align_self": null,
            "height": null,
            "min_height": null,
            "padding": null,
            "grid_auto_rows": null,
            "grid_gap": null,
            "max_width": null,
            "order": null,
            "_view_module_version": "1.2.0",
            "grid_template_areas": null,
            "object_position": null,
            "object_fit": null,
            "grid_auto_columns": null,
            "margin": null,
            "display": null,
            "left": null
          }
        }
      }
    }
  },
  "cells": [
    {
      "cell_type": "markdown",
      "metadata": {
        "id": "p8UeZz2zvpC6",
        "colab_type": "text"
      },
      "source": [
        "Import libraries"
      ]
    },
    {
      "cell_type": "code",
      "metadata": {
        "id": "LYZ_zNAn-lHn",
        "colab_type": "code",
        "colab": {}
      },
      "source": [
        "import os\n",
        "import pandas as pd\n",
        "import numpy as np\n",
        "import scipy\n",
        "import matplotlib.pyplot as plt\n",
        "import tensorflow as tf\n",
        "from tensorflow.keras import Input\n",
        "from tensorflow.keras.layers import Conv2D \n",
        "from tensorflow.keras.layers import MaxPooling2D\n",
        "from tensorflow.keras.layers import Dropout\n",
        "from tensorflow.keras.layers import Conv2DTranspose\n",
        "from tensorflow.keras.layers import concatenate\n",
        "from tensorflow.keras import Model\n",
        "from tensorflow.keras.utils import plot_model\n",
        "from tqdm.notebook import tqdm\n",
        "import PIL.ImageDraw as ImageDraw\n",
        "import PIL.Image as Image"
      ],
      "execution_count": 0,
      "outputs": []
    },
    {
      "cell_type": "markdown",
      "metadata": {
        "id": "1CFsK1UBeS1S",
        "colab_type": "text"
      },
      "source": [
        "Loss and Metric Functions"
      ]
    },
    {
      "cell_type": "code",
      "metadata": {
        "id": "ijnLkTKHeVYp",
        "colab_type": "code",
        "colab": {}
      },
      "source": [
        "def dice_coeff(y_true, y_pred):\n",
        "  smooth = 1.\n",
        "  y_true_f = tf.reshape(y_true, [-1])\n",
        "  y_pred_f = tf.reshape(y_pred, [-1])\n",
        "  intersection = tf.reduce_sum(y_true_f * y_pred_f)\n",
        "  score = (2. * intersection + smooth) / (tf.reduce_sum(y_true_f) + tf.reduce_sum(y_pred_f) + smooth)\n",
        "  return score"
      ],
      "execution_count": 0,
      "outputs": []
    },
    {
      "cell_type": "code",
      "metadata": {
        "id": "23S05XdcefdP",
        "colab_type": "code",
        "colab": {}
      },
      "source": [
        "def dice_loss(y_true, y_pred):\n",
        "  loss = 1 - dice_coeff(y_true, y_pred)\n",
        "  return loss"
      ],
      "execution_count": 0,
      "outputs": []
    },
    {
      "cell_type": "code",
      "metadata": {
        "id": "C1R40rnReigC",
        "colab_type": "code",
        "colab": {}
      },
      "source": [
        "def bce_dice_loss(y_true, y_pred):\n",
        "  loss = tf.keras.losses.binary_crossentropy(y_true, y_pred) + dice_loss(y_true, y_pred)\n",
        "  return loss"
      ],
      "execution_count": 0,
      "outputs": []
    },
    {
      "cell_type": "markdown",
      "metadata": {
        "id": "c7nNi-aqvoKO",
        "colab_type": "text"
      },
      "source": [
        "Load images"
      ]
    },
    {
      "cell_type": "code",
      "metadata": {
        "id": "ANHZ47uHE5A1",
        "colab_type": "code",
        "colab": {}
      },
      "source": [
        "images_directory = '/content/drive/My Drive/Water Bodies Satellite Images/Images'"
      ],
      "execution_count": 0,
      "outputs": []
    },
    {
      "cell_type": "code",
      "metadata": {
        "id": "dVUyAE1d8H84",
        "colab_type": "code",
        "colab": {}
      },
      "source": [
        "images_to_load = []\n",
        "for root, directory, file in os.walk(images_directory):\n",
        "  for f in file:\n",
        "    images_to_load.append(root + '/' + f)"
      ],
      "execution_count": 0,
      "outputs": []
    },
    {
      "cell_type": "code",
      "metadata": {
        "id": "c3aq1e_PPa7U",
        "colab_type": "code",
        "outputId": "1b7c0074-d6e2-4498-9b36-88a9c8cdde2d",
        "colab": {
          "base_uri": "https://localhost:8080/",
          "height": 66,
          "referenced_widgets": [
            "cb623e2c4f1f469cbdf7e9928b5725ae",
            "80471fb604c949e98d26e9ad747cc0fe",
            "5238c750020e4912b8a67101287e8e6d",
            "024a4dad4ba54b67afbdca9bc0993b32",
            "9c0f739a60074f9aa7c49e8e43ab9d77",
            "5f920bae19ec4ce88ca701f99308921a",
            "d15c448f577b4227b42874afbb484e48",
            "1a55e10ef6fe441ebb5084309508a271"
          ]
        }
      },
      "source": [
        "images_train = []\n",
        "for file in tqdm(sorted(images_to_load[0:round(len(images_to_load)*.8)])):\n",
        "  if any(extension in file for extension in ['.jpg', 'jpeg', '.png']):\n",
        "    image = tf.keras.preprocessing.image.load_img(file, target_size=(128,128))\n",
        "    image = tf.keras.preprocessing.image.img_to_array(image)/255.0\n",
        "    images_train.append(image)\n",
        "\n",
        "images_train = np.array(images_train)"
      ],
      "execution_count": 7,
      "outputs": [
        {
          "output_type": "display_data",
          "data": {
            "application/vnd.jupyter.widget-view+json": {
              "model_id": "cb623e2c4f1f469cbdf7e9928b5725ae",
              "version_minor": 0,
              "version_major": 2
            },
            "text/plain": [
              "HBox(children=(FloatProgress(value=0.0, max=2339.0), HTML(value='')))"
            ]
          },
          "metadata": {
            "tags": []
          }
        },
        {
          "output_type": "stream",
          "text": [
            "\n"
          ],
          "name": "stdout"
        }
      ]
    },
    {
      "cell_type": "code",
      "metadata": {
        "id": "bWegbRLLnfrU",
        "colab_type": "code",
        "outputId": "b35495e9-a3c2-4558-b6ea-ab0cec6de9fc",
        "colab": {
          "base_uri": "https://localhost:8080/",
          "height": 66,
          "referenced_widgets": [
            "2c04b3c83de744c2890d99d03d956048",
            "d58afe60c31048fe98104b9698292c28",
            "4f621fc0e3f1452fb69a592eff73c0f0",
            "867aaedb6d4942fe9e726f4fc61fbe02",
            "c05fb0d5be1b4f0bb4ad26832ee701d2",
            "a5ea5a0160e542bb88873accf56eea3f",
            "28d645b782cf46618cd123e094647eaf",
            "5d26d5e29f194afe9ce3ae25d64227f2"
          ]
        }
      },
      "source": [
        "images_test = []\n",
        "for file in tqdm(sorted(images_to_load[round(len(images_to_load)*.8):])):\n",
        "  if any(extension in file for extension in ['.jpg', 'jpeg', '.png']):\n",
        "    image = tf.keras.preprocessing.image.load_img(file, target_size=(128,128))\n",
        "    image = tf.keras.preprocessing.image.img_to_array(image)/255.0\n",
        "    images_test.append(image)\n",
        "\n",
        "images_test = np.array(images_test)"
      ],
      "execution_count": 8,
      "outputs": [
        {
          "output_type": "display_data",
          "data": {
            "application/vnd.jupyter.widget-view+json": {
              "model_id": "2c04b3c83de744c2890d99d03d956048",
              "version_minor": 0,
              "version_major": 2
            },
            "text/plain": [
              "HBox(children=(FloatProgress(value=0.0, max=585.0), HTML(value='')))"
            ]
          },
          "metadata": {
            "tags": []
          }
        },
        {
          "output_type": "stream",
          "text": [
            "\n"
          ],
          "name": "stdout"
        }
      ]
    },
    {
      "cell_type": "markdown",
      "metadata": {
        "id": "ATJ_TCRM6nK8",
        "colab_type": "text"
      },
      "source": [
        "Load masks"
      ]
    },
    {
      "cell_type": "code",
      "metadata": {
        "id": "XJxHAXXp7KRj",
        "colab_type": "code",
        "colab": {}
      },
      "source": [
        "masks_directory = '/content/drive/My Drive/Water Bodies Satellite Images/Masks'"
      ],
      "execution_count": 0,
      "outputs": []
    },
    {
      "cell_type": "code",
      "metadata": {
        "id": "rZZB1B868fIW",
        "colab_type": "code",
        "colab": {}
      },
      "source": [
        "masks_to_load = []\n",
        "for root, directory, file in os.walk(masks_directory):\n",
        "  for f in file:\n",
        "    masks_to_load.append(root + '/' + f)"
      ],
      "execution_count": 0,
      "outputs": []
    },
    {
      "cell_type": "code",
      "metadata": {
        "id": "Nip2uTB3Jfoh",
        "colab_type": "code",
        "outputId": "3c9987a1-c35c-4c40-e11d-e598e2e726e5",
        "colab": {
          "base_uri": "https://localhost:8080/",
          "height": 66,
          "referenced_widgets": [
            "8ebca34f17fc4b218759fbab670ed798",
            "725972075e30438b9acef99dd79806d2",
            "98a8498b4fef4b06b829409dd8256451",
            "11022ac007984a30b0c43df80bfba999",
            "35a4eae429684dbc9188449583c274f1",
            "a0e5fc872ee040f48f377bfe408837eb",
            "839f9117878546a9a91709a64eab7f1c",
            "aa87e0fa212d4b228a0d5b3542a0dc42"
          ]
        }
      },
      "source": [
        "masks_train = []\n",
        "for file in tqdm(sorted(masks_to_load[0:round(len(masks_to_load)*.8)])):\n",
        "  if any(extension in file for extension in ['.jpg', 'jpeg', '.png']):\n",
        "    mask = tf.keras.preprocessing.image.load_img(file, target_size=(128,128))\n",
        "    mask = tf.keras.preprocessing.image.img_to_array(mask)/255.0\n",
        "    masks_train.append(mask)\n",
        "\n",
        "masks_train = np.array(masks_train)"
      ],
      "execution_count": 11,
      "outputs": [
        {
          "output_type": "display_data",
          "data": {
            "application/vnd.jupyter.widget-view+json": {
              "model_id": "8ebca34f17fc4b218759fbab670ed798",
              "version_minor": 0,
              "version_major": 2
            },
            "text/plain": [
              "HBox(children=(FloatProgress(value=0.0, max=2339.0), HTML(value='')))"
            ]
          },
          "metadata": {
            "tags": []
          }
        },
        {
          "output_type": "stream",
          "text": [
            "\n"
          ],
          "name": "stdout"
        }
      ]
    },
    {
      "cell_type": "code",
      "metadata": {
        "id": "hmblFEthn8cp",
        "colab_type": "code",
        "outputId": "87c141d2-9422-428d-b9f5-53542321baae",
        "colab": {
          "base_uri": "https://localhost:8080/",
          "height": 66,
          "referenced_widgets": [
            "8a1cb266098e4836bdefb52d9c6e514b",
            "59b6f742c7824f1b9b18e04c4cd90c31",
            "a8a45cf3f74d430fa244e1c67ae3a599",
            "04c84212a3bc4f80a94bd3f0a0cbfcec",
            "f1b94a7f542041bb87106b185e9585c6",
            "4c6cfb2967474b139cd7f25569061521",
            "21638f10413644e4889ee62db132e826",
            "1dff8454f4174e909fdba8a93ed7ed07"
          ]
        }
      },
      "source": [
        "masks_test = []\n",
        "for file in tqdm(sorted(masks_to_load[round(len(masks_to_load)*.8):])):\n",
        "  if any(extension in file for extension in ['.jpg', 'jpeg', '.png']):\n",
        "    mask = tf.keras.preprocessing.image.load_img(file, target_size=(128,128))\n",
        "    mask = tf.keras.preprocessing.image.img_to_array(mask)/255.0\n",
        "    masks_test.append(mask)\n",
        "\n",
        "masks_test = np.array(masks_test)"
      ],
      "execution_count": 25,
      "outputs": [
        {
          "output_type": "display_data",
          "data": {
            "application/vnd.jupyter.widget-view+json": {
              "model_id": "8a1cb266098e4836bdefb52d9c6e514b",
              "version_minor": 0,
              "version_major": 2
            },
            "text/plain": [
              "HBox(children=(FloatProgress(value=0.0, max=585.0), HTML(value='')))"
            ]
          },
          "metadata": {
            "tags": []
          }
        },
        {
          "output_type": "stream",
          "text": [
            "\n"
          ],
          "name": "stdout"
        }
      ]
    },
    {
      "cell_type": "code",
      "metadata": {
        "id": "Gc5jDvEO3ahe",
        "colab_type": "code",
        "colab": {}
      },
      "source": [
        "#masks_train = np.stack((masks_train,)*3, axis=-1)\n",
        "#masks_test = np.stack((masks_test,)*3, axis=-1)"
      ],
      "execution_count": 0,
      "outputs": []
    },
    {
      "cell_type": "code",
      "metadata": {
        "id": "RXt4fA0s2twb",
        "colab_type": "code",
        "outputId": "22ba459f-3648-4b5e-fb88-077512d91f09",
        "colab": {
          "base_uri": "https://localhost:8080/",
          "height": 268
        }
      },
      "source": [
        "plt.imshow(images_train[0])\n",
        "plt.show()"
      ],
      "execution_count": 27,
      "outputs": [
        {
          "output_type": "display_data",
          "data": {
            "image/png": "[encoded data removed]",
            "text/plain": [
              "<Figure size 432x288 with 1 Axes>"
            ]
          },
          "metadata": {
            "tags": [],
            "needs_background": "light"
          }
        }
      ]
    },
    {
      "cell_type": "code",
      "metadata": {
        "id": "cvw6tVY53rsA",
        "colab_type": "code",
        "outputId": "93f6e0b8-0032-4291-b79b-96de4c0f18f8",
        "colab": {
          "base_uri": "https://localhost:8080/",
          "height": 268
        }
      },
      "source": [
        "plt.imshow(masks_train[0])\n",
        "plt.show()"
      ],
      "execution_count": 28,
      "outputs": [
        {
          "output_type": "display_data",
          "data": {
            "image/png": "[encoded data removed]",
            "text/plain": [
              "<Figure size 432x288 with 1 Axes>"
            ]
          },
          "metadata": {
            "tags": [],
            "needs_background": "light"
          }
        }
      ]
    },
    {
      "cell_type": "markdown",
      "metadata": {
        "id": "KOELo6vYLbXS",
        "colab_type": "text"
      },
      "source": [
        "U-NET"
      ]
    },
    {
      "cell_type": "code",
      "metadata": {
        "id": "jEcuJ4hnNcJU",
        "colab_type": "code",
        "colab": {}
      },
      "source": [
        "image_width = 128\n",
        "image_height = 128\n",
        "image_channels = 3\n",
        "filter_multiplier = 32\n",
        "epochs = 40"
      ],
      "execution_count": 0,
      "outputs": []
    },
    {
      "cell_type": "code",
      "metadata": {
        "id": "BvOjLWaIHbJn",
        "colab_type": "code",
        "colab": {}
      },
      "source": [
        "inputs = Input(shape=(image_width, image_height, image_channels))\n",
        "#1\n",
        "first_convolution = Conv2D(filters=1*filter_multiplier, kernel_size=(3,3), padding='same', activation='relu' )(inputs)\n",
        "first_convolution = Conv2D(filters=1*filter_multiplier, kernel_size=(3,3), padding='same', activation='relu' )(first_convolution)\n",
        "first_pooling = MaxPooling2D(pool_size=(2,2))(first_convolution)\n",
        "first_pooling = Dropout(0.5)(first_pooling)\n",
        "\n",
        "#2\n",
        "second_convolution = Conv2D(filters=2*filter_multiplier, kernel_size=(3,3), padding='same', activation='relu' )(first_pooling)\n",
        "second_convolution = Conv2D(filters=2*filter_multiplier, kernel_size=(3,3), padding='same', activation='relu' )(second_convolution)\n",
        "second_pooling = MaxPooling2D(pool_size=(2,2))(second_convolution)\n",
        "second_pooling = Dropout(0.5)(second_pooling)\n",
        "\n",
        "#3\n",
        "third_convolution = Conv2D(filters=4*filter_multiplier, kernel_size=(3,3), padding='same', activation='relu' )(second_pooling)\n",
        "third_convolution = Conv2D(filters=4*filter_multiplier, kernel_size=(3,3), padding='same', activation='relu' )(third_convolution)\n",
        "third_pooling = MaxPooling2D(pool_size=(2,2))(third_convolution)\n",
        "third_pooling = Dropout(0.5)(third_pooling)\n",
        "\n",
        "#4\n",
        "fourth_convolution = Conv2D(filters=8*filter_multiplier, kernel_size=(3,3), padding='same', activation='relu' )(third_pooling)\n",
        "fourth_convolution = Conv2D(filters=8*filter_multiplier, kernel_size=(3,3), padding='same', activation='relu' )(fourth_convolution)\n",
        "fourth_pooling = MaxPooling2D(pool_size=(2,2))(fourth_convolution)\n",
        "fourth_pooling = Dropout(0.5)(fourth_pooling)\n",
        "\n",
        "#5\n",
        "fifth_convolution = Conv2D(filters=16*filter_multiplier, kernel_size=(3,3), padding='same', activation='relu' )(fourth_pooling)\n",
        "fifth_convolution = Conv2D(filters=16*filter_multiplier, kernel_size=(3,3), padding='same', activation='relu' )(fifth_convolution)\n",
        "\n",
        "#6\n",
        "sixth_deconvolution = Conv2DTranspose(filters=8*filter_multiplier, kernel_size=(3,3), strides=(2,2), padding='same', activation='relu' )(fifth_convolution)\n",
        "sixth_convolution = concatenate([sixth_deconvolution, fourth_convolution])\n",
        "sixth_convolution = Dropout(0.5)(sixth_convolution)\n",
        "sixth_convolution = Conv2D(filters=8*filter_multiplier, kernel_size=(3,3), padding='same', activation='relu' )(sixth_convolution)\n",
        "sixth_convolution = Conv2D(filters=8*filter_multiplier, kernel_size=(3,3), padding='same', activation='relu' )(sixth_convolution)\n",
        "\n",
        "\n",
        "#7\n",
        "seventh_deconvolution = Conv2DTranspose(filters=4*filter_multiplier, kernel_size=(3,3), strides=(2,2), padding='same', activation='relu' )(sixth_convolution)\n",
        "seventh_convolution = concatenate([third_convolution, seventh_deconvolution])\n",
        "seventh_convolution = Dropout(0.5)(seventh_convolution)\n",
        "seventh_convolution = Conv2D(filters=4*filter_multiplier, kernel_size=(3,3), padding='same', activation='relu' )(seventh_convolution)\n",
        "seventh_convolution = Conv2D(filters=4*filter_multiplier, kernel_size=(3,3), padding='same', activation='relu' )(seventh_convolution)\n",
        "\n",
        "#8\n",
        "eigth_deconvolution = Conv2DTranspose(filters=2*filter_multiplier, kernel_size=(3,3), strides=(2,2), padding='same', activation='relu' )(seventh_convolution)\n",
        "eigth_convolution = concatenate([eigth_deconvolution, second_convolution])\n",
        "eigth_convolution = Dropout(0.5)(eigth_convolution)\n",
        "eigth_convolution = Conv2D(filters=2*filter_multiplier, kernel_size=(3,3), padding='same', activation='relu' )(eigth_convolution)\n",
        "eigth_convolution = Conv2D(filters=2*filter_multiplier, kernel_size=(3,3), padding='same', activation='relu' )(eigth_convolution)\n",
        "\n",
        "#9\n",
        "ninth_deconvolution = Conv2DTranspose(filters=1*filter_multiplier, kernel_size=(3,3), strides=(2,2), padding='same', activation='relu' )(eigth_convolution)\n",
        "ninth_convolution = concatenate([ninth_deconvolution, first_convolution])\n",
        "ninth_convolution = Dropout(0.5)(ninth_convolution)\n",
        "ninth_convolution = Conv2D(filters=1*filter_multiplier, kernel_size=(3,3), padding='same', activation='relu' )(ninth_convolution)\n",
        "ninth_convolution = Conv2D(filters=1*filter_multiplier, kernel_size=(3,3), padding='same', activation='relu' )(ninth_convolution)\n",
        "\n",
        "#10\n",
        "output = Conv2D(filters = 3, kernel_size=(1,1), padding='valid', activation='sigmoid')(ninth_convolution)"
      ],
      "execution_count": 0,
      "outputs": []
    },
    {
      "cell_type": "code",
      "metadata": {
        "id": "0sJP5VF5N89I",
        "colab_type": "code",
        "colab": {}
      },
      "source": [
        "model = Model(inputs=inputs, outputs=output)\n",
        "model.compile(optimizer='adam', loss=bce_dice_loss, metrics=[dice_loss])"
      ],
      "execution_count": 0,
      "outputs": []
    },
    {
      "cell_type": "code",
      "metadata": {
        "id": "wp9op_kdWWtj",
        "colab_type": "code",
        "outputId": "389ee160-7001-4bce-ed1c-278b728ff567",
        "colab": {
          "base_uri": "https://localhost:8080/",
          "height": 1000
        }
      },
      "source": [
        "model.summary()"
      ],
      "execution_count": 52,
      "outputs": [
        {
          "output_type": "stream",
          "text": [
            "Model: \"model_3\"\n",
            "__________________________________________________________________________________________________\n",
            "Layer (type)                    Output Shape         Param #     Connected to                     \n",
            "==================================================================================================\n",
            "input_4 (InputLayer)            [(None, 128, 128, 3) 0                                            \n",
            "__________________________________________________________________________________________________\n",
            "conv2d_57 (Conv2D)              (None, 128, 128, 32) 896         input_4[0][0]                    \n",
            "__________________________________________________________________________________________________\n",
            "conv2d_58 (Conv2D)              (None, 128, 128, 32) 9248        conv2d_57[0][0]                  \n",
            "__________________________________________________________________________________________________\n",
            "max_pooling2d_12 (MaxPooling2D) (None, 64, 64, 32)   0           conv2d_58[0][0]                  \n",
            "__________________________________________________________________________________________________\n",
            "dropout_24 (Dropout)            (None, 64, 64, 32)   0           max_pooling2d_12[0][0]           \n",
            "__________________________________________________________________________________________________\n",
            "conv2d_59 (Conv2D)              (None, 64, 64, 64)   18496       dropout_24[0][0]                 \n",
            "__________________________________________________________________________________________________\n",
            "conv2d_60 (Conv2D)              (None, 64, 64, 64)   36928       conv2d_59[0][0]                  \n",
            "__________________________________________________________________________________________________\n",
            "max_pooling2d_13 (MaxPooling2D) (None, 32, 32, 64)   0           conv2d_60[0][0]                  \n",
            "__________________________________________________________________________________________________\n",
            "dropout_25 (Dropout)            (None, 32, 32, 64)   0           max_pooling2d_13[0][0]           \n",
            "__________________________________________________________________________________________________\n",
            "conv2d_61 (Conv2D)              (None, 32, 32, 128)  73856       dropout_25[0][0]                 \n",
            "__________________________________________________________________________________________________\n",
            "conv2d_62 (Conv2D)              (None, 32, 32, 128)  147584      conv2d_61[0][0]                  \n",
            "__________________________________________________________________________________________________\n",
            "max_pooling2d_14 (MaxPooling2D) (None, 16, 16, 128)  0           conv2d_62[0][0]                  \n",
            "__________________________________________________________________________________________________\n",
            "dropout_26 (Dropout)            (None, 16, 16, 128)  0           max_pooling2d_14[0][0]           \n",
            "__________________________________________________________________________________________________\n",
            "conv2d_63 (Conv2D)              (None, 16, 16, 256)  295168      dropout_26[0][0]                 \n",
            "__________________________________________________________________________________________________\n",
            "conv2d_64 (Conv2D)              (None, 16, 16, 256)  590080      conv2d_63[0][0]                  \n",
            "__________________________________________________________________________________________________\n",
            "max_pooling2d_15 (MaxPooling2D) (None, 8, 8, 256)    0           conv2d_64[0][0]                  \n",
            "__________________________________________________________________________________________________\n",
            "dropout_27 (Dropout)            (None, 8, 8, 256)    0           max_pooling2d_15[0][0]           \n",
            "__________________________________________________________________________________________________\n",
            "conv2d_65 (Conv2D)              (None, 8, 8, 512)    1180160     dropout_27[0][0]                 \n",
            "__________________________________________________________________________________________________\n",
            "conv2d_66 (Conv2D)              (None, 8, 8, 512)    2359808     conv2d_65[0][0]                  \n",
            "__________________________________________________________________________________________________\n",
            "conv2d_transpose_12 (Conv2DTran (None, 16, 16, 256)  1179904     conv2d_66[0][0]                  \n",
            "__________________________________________________________________________________________________\n",
            "concatenate_12 (Concatenate)    (None, 16, 16, 512)  0           conv2d_transpose_12[0][0]        \n",
            "                                                                 conv2d_64[0][0]                  \n",
            "__________________________________________________________________________________________________\n",
            "dropout_28 (Dropout)            (None, 16, 16, 512)  0           concatenate_12[0][0]             \n",
            "__________________________________________________________________________________________________\n",
            "conv2d_67 (Conv2D)              (None, 16, 16, 256)  1179904     dropout_28[0][0]                 \n",
            "__________________________________________________________________________________________________\n",
            "conv2d_68 (Conv2D)              (None, 16, 16, 256)  590080      conv2d_67[0][0]                  \n",
            "__________________________________________________________________________________________________\n",
            "conv2d_transpose_13 (Conv2DTran (None, 32, 32, 128)  295040      conv2d_68[0][0]                  \n",
            "__________________________________________________________________________________________________\n",
            "concatenate_13 (Concatenate)    (None, 32, 32, 256)  0           conv2d_62[0][0]                  \n",
            "                                                                 conv2d_transpose_13[0][0]        \n",
            "__________________________________________________________________________________________________\n",
            "dropout_29 (Dropout)            (None, 32, 32, 256)  0           concatenate_13[0][0]             \n",
            "__________________________________________________________________________________________________\n",
            "conv2d_69 (Conv2D)              (None, 32, 32, 128)  295040      dropout_29[0][0]                 \n",
            "__________________________________________________________________________________________________\n",
            "conv2d_70 (Conv2D)              (None, 32, 32, 128)  147584      conv2d_69[0][0]                  \n",
            "__________________________________________________________________________________________________\n",
            "conv2d_transpose_14 (Conv2DTran (None, 64, 64, 64)   73792       conv2d_70[0][0]                  \n",
            "__________________________________________________________________________________________________\n",
            "concatenate_14 (Concatenate)    (None, 64, 64, 128)  0           conv2d_transpose_14[0][0]        \n",
            "                                                                 conv2d_60[0][0]                  \n",
            "__________________________________________________________________________________________________\n",
            "dropout_30 (Dropout)            (None, 64, 64, 128)  0           concatenate_14[0][0]             \n",
            "__________________________________________________________________________________________________\n",
            "conv2d_71 (Conv2D)              (None, 64, 64, 64)   73792       dropout_30[0][0]                 \n",
            "__________________________________________________________________________________________________\n",
            "conv2d_72 (Conv2D)              (None, 64, 64, 64)   36928       conv2d_71[0][0]                  \n",
            "__________________________________________________________________________________________________\n",
            "conv2d_transpose_15 (Conv2DTran (None, 128, 128, 32) 18464       conv2d_72[0][0]                  \n",
            "__________________________________________________________________________________________________\n",
            "concatenate_15 (Concatenate)    (None, 128, 128, 64) 0           conv2d_transpose_15[0][0]        \n",
            "                                                                 conv2d_58[0][0]                  \n",
            "__________________________________________________________________________________________________\n",
            "dropout_31 (Dropout)            (None, 128, 128, 64) 0           concatenate_15[0][0]             \n",
            "__________________________________________________________________________________________________\n",
            "conv2d_73 (Conv2D)              (None, 128, 128, 32) 18464       dropout_31[0][0]                 \n",
            "__________________________________________________________________________________________________\n",
            "conv2d_74 (Conv2D)              (None, 128, 128, 32) 9248        conv2d_73[0][0]                  \n",
            "__________________________________________________________________________________________________\n",
            "conv2d_75 (Conv2D)              (None, 128, 128, 3)  99          conv2d_74[0][0]                  \n",
            "==================================================================================================\n",
            "Total params: 8,630,563\n",
            "Trainable params: 8,630,563\n",
            "Non-trainable params: 0\n",
            "__________________________________________________________________________________________________\n"
          ],
          "name": "stdout"
        }
      ]
    },
    {
      "cell_type": "code",
      "metadata": {
        "id": "xDG7XyG09S5s",
        "colab_type": "code",
        "outputId": "58d400b2-1ceb-40e1-9da1-8158c0c9666c",
        "colab": {
          "base_uri": "https://localhost:8080/",
          "height": 1000
        }
      },
      "source": [
        "history = model.fit(images_train, masks_train, epochs = epochs, validation_data=(images_test, masks_test))"
      ],
      "execution_count": 53,
      "outputs": [
        {
          "output_type": "stream",
          "text": [
            "Epoch 1/40\n",
            "74/74 [==============================] - 8s 111ms/step - loss: 1.1155 - dice_loss: 0.5654 - val_loss: 0.9589 - val_dice_loss: 0.4268\n",
            "Epoch 2/40\n",
            "74/74 [==============================] - 8s 107ms/step - loss: 0.9198 - dice_loss: 0.4393 - val_loss: 1.3588 - val_dice_loss: 0.3894\n",
            "Epoch 3/40\n",
            "74/74 [==============================] - 8s 107ms/step - loss: 0.8675 - dice_loss: 0.4058 - val_loss: 0.8033 - val_dice_loss: 0.3398\n",
            "Epoch 4/40\n",
            "74/74 [==============================] - 8s 107ms/step - loss: 0.7915 - dice_loss: 0.3656 - val_loss: 0.7812 - val_dice_loss: 0.3083\n",
            "Epoch 5/40\n",
            "74/74 [==============================] - 8s 107ms/step - loss: 0.7315 - dice_loss: 0.3323 - val_loss: 0.6863 - val_dice_loss: 0.2868\n",
            "Epoch 6/40\n",
            "74/74 [==============================] - 8s 107ms/step - loss: 0.7058 - dice_loss: 0.3170 - val_loss: 0.7112 - val_dice_loss: 0.3048\n",
            "Epoch 7/40\n",
            "74/74 [==============================] - 8s 108ms/step - loss: 0.6663 - dice_loss: 0.3008 - val_loss: 0.6568 - val_dice_loss: 0.2556\n",
            "Epoch 8/40\n",
            "74/74 [==============================] - 8s 107ms/step - loss: 0.6618 - dice_loss: 0.2972 - val_loss: 0.6476 - val_dice_loss: 0.2806\n",
            "Epoch 9/40\n",
            "74/74 [==============================] - 8s 109ms/step - loss: 0.6452 - dice_loss: 0.2937 - val_loss: 0.6465 - val_dice_loss: 0.2666\n",
            "Epoch 10/40\n",
            "74/74 [==============================] - 8s 107ms/step - loss: 0.6325 - dice_loss: 0.2810 - val_loss: 0.6120 - val_dice_loss: 0.2521\n",
            "Epoch 11/40\n",
            "74/74 [==============================] - 8s 107ms/step - loss: 0.6362 - dice_loss: 0.2835 - val_loss: 0.6910 - val_dice_loss: 0.2820\n",
            "Epoch 12/40\n",
            "74/74 [==============================] - 8s 107ms/step - loss: 0.5900 - dice_loss: 0.2660 - val_loss: 0.5474 - val_dice_loss: 0.2231\n",
            "Epoch 13/40\n",
            "74/74 [==============================] - 8s 107ms/step - loss: 0.5775 - dice_loss: 0.2527 - val_loss: 0.6309 - val_dice_loss: 0.2505\n",
            "Epoch 14/40\n",
            "74/74 [==============================] - 8s 107ms/step - loss: 0.5964 - dice_loss: 0.2705 - val_loss: 0.7317 - val_dice_loss: 0.2509\n",
            "Epoch 15/40\n",
            "74/74 [==============================] - 8s 107ms/step - loss: 0.6542 - dice_loss: 0.2936 - val_loss: 0.7309 - val_dice_loss: 0.2743\n",
            "Epoch 16/40\n",
            "74/74 [==============================] - 8s 107ms/step - loss: 0.5878 - dice_loss: 0.2572 - val_loss: 0.6191 - val_dice_loss: 0.2460\n",
            "Epoch 17/40\n",
            "74/74 [==============================] - 8s 107ms/step - loss: 0.5628 - dice_loss: 0.2467 - val_loss: 0.5864 - val_dice_loss: 0.2291\n",
            "Epoch 18/40\n",
            "74/74 [==============================] - 8s 107ms/step - loss: 0.5441 - dice_loss: 0.2393 - val_loss: 0.6375 - val_dice_loss: 0.2297\n",
            "Epoch 19/40\n",
            "74/74 [==============================] - 8s 107ms/step - loss: 0.5388 - dice_loss: 0.2348 - val_loss: 0.7828 - val_dice_loss: 0.2263\n",
            "Epoch 20/40\n",
            "74/74 [==============================] - 8s 107ms/step - loss: 0.5249 - dice_loss: 0.2279 - val_loss: 0.5562 - val_dice_loss: 0.2027\n",
            "Epoch 21/40\n",
            "74/74 [==============================] - 8s 107ms/step - loss: 0.4991 - dice_loss: 0.2195 - val_loss: 0.5707 - val_dice_loss: 0.1952\n",
            "Epoch 22/40\n",
            "74/74 [==============================] - 8s 107ms/step - loss: 0.4936 - dice_loss: 0.2142 - val_loss: 0.5847 - val_dice_loss: 0.1963\n",
            "Epoch 23/40\n",
            "74/74 [==============================] - 8s 107ms/step - loss: 0.4918 - dice_loss: 0.2123 - val_loss: 0.5013 - val_dice_loss: 0.1903\n",
            "Epoch 24/40\n",
            "74/74 [==============================] - 8s 107ms/step - loss: 0.4862 - dice_loss: 0.2133 - val_loss: 0.6733 - val_dice_loss: 0.1891\n",
            "Epoch 25/40\n",
            "74/74 [==============================] - 8s 107ms/step - loss: 0.4834 - dice_loss: 0.2101 - val_loss: 0.5023 - val_dice_loss: 0.1912\n",
            "Epoch 26/40\n",
            "74/74 [==============================] - 8s 107ms/step - loss: 0.5109 - dice_loss: 0.2200 - val_loss: 0.5493 - val_dice_loss: 0.1946\n",
            "Epoch 27/40\n",
            "74/74 [==============================] - 8s 107ms/step - loss: 0.4820 - dice_loss: 0.2115 - val_loss: 0.5573 - val_dice_loss: 0.2043\n",
            "Epoch 28/40\n",
            "74/74 [==============================] - 8s 107ms/step - loss: 0.4807 - dice_loss: 0.2118 - val_loss: 0.4985 - val_dice_loss: 0.1972\n",
            "Epoch 29/40\n",
            "74/74 [==============================] - 8s 107ms/step - loss: 0.4723 - dice_loss: 0.2037 - val_loss: 0.5878 - val_dice_loss: 0.2000\n",
            "Epoch 30/40\n",
            "74/74 [==============================] - 8s 107ms/step - loss: 0.4859 - dice_loss: 0.2111 - val_loss: 0.5538 - val_dice_loss: 0.2052\n",
            "Epoch 31/40\n",
            "74/74 [==============================] - 8s 107ms/step - loss: 0.4715 - dice_loss: 0.2043 - val_loss: 0.5060 - val_dice_loss: 0.1816\n",
            "Epoch 32/40\n",
            "74/74 [==============================] - 8s 107ms/step - loss: 0.4645 - dice_loss: 0.2004 - val_loss: 0.4858 - val_dice_loss: 0.1881\n",
            "Epoch 33/40\n",
            "74/74 [==============================] - 8s 107ms/step - loss: 0.4485 - dice_loss: 0.1923 - val_loss: 0.6505 - val_dice_loss: 0.1810\n",
            "Epoch 34/40\n",
            "74/74 [==============================] - 8s 107ms/step - loss: 0.4544 - dice_loss: 0.1949 - val_loss: 0.4739 - val_dice_loss: 0.1782\n",
            "Epoch 35/40\n",
            "74/74 [==============================] - 8s 107ms/step - loss: 0.4678 - dice_loss: 0.2031 - val_loss: 0.5608 - val_dice_loss: 0.1691\n",
            "Epoch 36/40\n",
            "74/74 [==============================] - 8s 107ms/step - loss: 0.4349 - dice_loss: 0.1917 - val_loss: 0.5026 - val_dice_loss: 0.1904\n",
            "Epoch 37/40\n",
            "74/74 [==============================] - 8s 107ms/step - loss: 0.4817 - dice_loss: 0.2101 - val_loss: 0.4876 - val_dice_loss: 0.1785\n",
            "Epoch 38/40\n",
            "74/74 [==============================] - 8s 107ms/step - loss: 0.4665 - dice_loss: 0.1994 - val_loss: 0.5491 - val_dice_loss: 0.1974\n",
            "Epoch 39/40\n",
            "74/74 [==============================] - 8s 107ms/step - loss: 0.4926 - dice_loss: 0.2090 - val_loss: 0.4320 - val_dice_loss: 0.1722\n",
            "Epoch 40/40\n",
            "74/74 [==============================] - 8s 107ms/step - loss: 0.4438 - dice_loss: 0.1927 - val_loss: 0.4534 - val_dice_loss: 0.1696\n"
          ],
          "name": "stdout"
        }
      ]
    },
    {
      "cell_type": "code",
      "metadata": {
        "id": "uWmM7xaUmhRP",
        "colab_type": "code",
        "outputId": "41ddeafc-ca12-40f8-aa63-647d32e9ad39",
        "colab": {
          "base_uri": "https://localhost:8080/",
          "height": 621
        }
      },
      "source": [
        "dice = history.history['dice_loss']\n",
        "val_dice = history.history['val_dice_loss']\n",
        "epochs_range = range(1, epochs+1)\n",
        "\n",
        "plt.figure(figsize=(12, 10))\n",
        "plt.plot(epochs_range, dice, label='Training')\n",
        "plt.plot(epochs_range, val_dice, label='Validation')\n",
        "plt.title('Dice Loss vs. Epochs')\n",
        "plt.ylabel('Dice Loss')\n",
        "plt.xlabel('Epoch')\n",
        "plt.show()"
      ],
      "execution_count": 54,
      "outputs": [
        {
          "output_type": "display_data",
          "data": {
            "image/png": "[encoded data removed]",
            "text/plain": [
              "<Figure size 864x720 with 1 Axes>"
            ]
          },
          "metadata": {
            "tags": [],
            "needs_background": "light"
          }
        }
      ]
    },
    {
      "cell_type": "code",
      "metadata": {
        "id": "apggpCUYQYaU",
        "colab_type": "code",
        "colab": {}
      },
      "source": [
        "predictions = model.predict(images_test)"
      ],
      "execution_count": 0,
      "outputs": []
    },
    {
      "cell_type": "code",
      "metadata": {
        "id": "ObI_bOY47LtZ",
        "colab_type": "code",
        "colab": {}
      },
      "source": [
        "predictions = np.mean(predictions, axis=3)"
      ],
      "execution_count": 0,
      "outputs": []
    },
    {
      "cell_type": "code",
      "metadata": {
        "id": "uIZL6yOeVEEf",
        "colab_type": "code",
        "colab": {}
      },
      "source": [
        "predictions[predictions>=predictions.mean()] = 1\n",
        "predictions[predictions<predictions.mean()] = 0"
      ],
      "execution_count": 0,
      "outputs": []
    },
    {
      "cell_type": "code",
      "metadata": {
        "id": "bA2VLdK98RiJ",
        "colab_type": "code",
        "colab": {}
      },
      "source": [
        "predictions = np.stack((predictions,)*3, axis=3)"
      ],
      "execution_count": 0,
      "outputs": []
    },
    {
      "cell_type": "code",
      "metadata": {
        "id": "O4bpsflsVq1_",
        "colab_type": "code",
        "outputId": "8b54ff86-7c59-4f93-c8df-9cbf9c13d91a",
        "colab": {
          "base_uri": "https://localhost:8080/",
          "height": 285
        }
      },
      "source": [
        "plt.imshow(predictions[0])"
      ],
      "execution_count": 61,
      "outputs": [
        {
          "output_type": "execute_result",
          "data": {
            "text/plain": [
              "<matplotlib.image.AxesImage at 0x7f3870e2c240>"
            ]
          },
          "metadata": {
            "tags": []
          },
          "execution_count": 61
        },
        {
          "output_type": "display_data",
          "data": {
            "image/png": "[encoded data removed]",
            "text/plain": [
              "<Figure size 432x288 with 1 Axes>"
            ]
          },
          "metadata": {
            "tags": [],
            "needs_background": "light"
          }
        }
      ]
    },
    {
      "cell_type": "code",
      "metadata": {
        "id": "_wwHrzo9W88J",
        "colab_type": "code",
        "outputId": "f0d3a668-ad2d-43fd-a2fb-a332b3e8562c",
        "colab": {
          "base_uri": "https://localhost:8080/",
          "height": 285
        }
      },
      "source": [
        "plt.imshow(masks_test[0])"
      ],
      "execution_count": 62,
      "outputs": [
        {
          "output_type": "execute_result",
          "data": {
            "text/plain": [
              "<matplotlib.image.AxesImage at 0x7f3870e9c5f8>"
            ]
          },
          "metadata": {
            "tags": []
          },
          "execution_count": 62
        },
        {
          "output_type": "display_data",
          "data": {
            "image/png": "[encoded data removed]",
            "text/plain": [
              "<Figure size 432x288 with 1 Axes>"
            ]
          },
          "metadata": {
            "tags": [],
            "needs_background": "light"
          }
        }
      ]
    },
    {
      "cell_type": "markdown",
      "metadata": {
        "id": "lI57_EIwhsDr",
        "colab_type": "text"
      },
      "source": [
        "Calculate Water Function"
      ]
    },
    {
      "cell_type": "code",
      "metadata": {
        "id": "aK3b6C47_hdz",
        "colab_type": "code",
        "colab": {}
      },
      "source": [
        "def calculate_water(predicted_mask):\n",
        "  white = len(predicted_mask[predicted_mask>=.5])\n",
        "  black = len(predicted_mask[predicted_mask<.5])\n",
        "  water_percentage = white / (white+black)\n",
        "  return round(water_percentage,5)"
      ],
      "execution_count": 0,
      "outputs": []
    },
    {
      "cell_type": "code",
      "metadata": {
        "id": "7L2fSDCZB3Es",
        "colab_type": "code",
        "outputId": "96ac3ab0-dddc-430d-b7fe-2b6f8088d96f",
        "colab": {
          "base_uri": "https://localhost:8080/",
          "height": 34
        }
      },
      "source": [
        "calculate_water(predictions[1])"
      ],
      "execution_count": 64,
      "outputs": [
        {
          "output_type": "execute_result",
          "data": {
            "text/plain": [
              "0.30444"
            ]
          },
          "metadata": {
            "tags": []
          },
          "execution_count": 64
        }
      ]
    },
    {
      "cell_type": "code",
      "metadata": {
        "id": "gTYh2GWGCK3L",
        "colab_type": "code",
        "outputId": "0ba605b0-e534-4c04-c2d5-2bdf977b67b9",
        "colab": {
          "base_uri": "https://localhost:8080/",
          "height": 34
        }
      },
      "source": [
        "calculate_water(masks_test[1])"
      ],
      "execution_count": 65,
      "outputs": [
        {
          "output_type": "execute_result",
          "data": {
            "text/plain": [
              "0.2619"
            ]
          },
          "metadata": {
            "tags": []
          },
          "execution_count": 65
        }
      ]
    },
    {
      "cell_type": "markdown",
      "metadata": {
        "id": "vn5WzdLBonkl",
        "colab_type": "text"
      },
      "source": [
        "Calculate Water"
      ]
    },
    {
      "cell_type": "code",
      "metadata": {
        "id": "7NPYvqXmrlFo",
        "colab_type": "code",
        "colab": {}
      },
      "source": [
        "water_test = [calculate_water(mask) * 100 for mask in masks_test]\n",
        "water_predicted = [calculate_water(mask) *100 for mask in predictions]"
      ],
      "execution_count": 0,
      "outputs": []
    },
    {
      "cell_type": "code",
      "metadata": {
        "id": "7c3CFxpzollP",
        "colab_type": "code",
        "colab": {}
      },
      "source": [
        "results = pd.DataFrame({'Image':sorted(images_to_load[round(len(images_to_load)*.8):]),\n",
        "                        'Original Water Percentage':water_test,\n",
        "                        'Predicted Water Percentage':water_predicted})"
      ],
      "execution_count": 0,
      "outputs": []
    },
    {
      "cell_type": "code",
      "metadata": {
        "id": "r_cfpNcWrYmK",
        "colab_type": "code",
        "colab": {}
      },
      "source": [
        "results['Error Percentage'] = 100 * abs(results['Original Water Percentage']-results['Predicted Water Percentage']) / results['Original Water Percentage']"
      ],
      "execution_count": 0,
      "outputs": []
    },
    {
      "cell_type": "code",
      "metadata": {
        "id": "IyNJGxNGssTH",
        "colab_type": "code",
        "colab": {
          "base_uri": "https://localhost:8080/",
          "height": 419
        },
        "outputId": "367ea0ae-421f-46e7-a087-872da0343fbd"
      },
      "source": [
        "results.sort_values(by='Error Percentage', ascending = False)"
      ],
      "execution_count": 69,
      "outputs": [
        {
          "output_type": "execute_result",
          "data": {
            "text/html": [
              "<div>\n",
              "<style scoped>\n",
              "    .dataframe tbody tr th:only-of-type {\n",
              "        vertical-align: middle;\n",
              "    }\n",
              "\n",
              "    .dataframe tbody tr th {\n",
              "        vertical-align: top;\n",
              "    }\n",
              "\n",
              "    .dataframe thead th {\n",
              "        text-align: right;\n",
              "    }\n",
              "</style>\n",
              "<table border=\"1\" class=\"dataframe\">\n",
              "  <thead>\n",
              "    <tr style=\"text-align: right;\">\n",
              "      <th></th>\n",
              "      <th>Image</th>\n",
              "      <th>Original Water Percentage</th>\n",
              "      <th>Predicted Water Percentage</th>\n",
              "      <th>Error Percentage</th>\n",
              "    </tr>\n",
              "  </thead>\n",
              "  <tbody>\n",
              "    <tr>\n",
              "      <th>209</th>\n",
              "      <td>/content/drive/My Drive/Water Bodies Satellite...</td>\n",
              "      <td>3.210</td>\n",
              "      <td>58.539</td>\n",
              "      <td>1723.644860</td>\n",
              "    </tr>\n",
              "    <tr>\n",
              "      <th>212</th>\n",
              "      <td>/content/drive/My Drive/Water Bodies Satellite...</td>\n",
              "      <td>3.143</td>\n",
              "      <td>52.405</td>\n",
              "      <td>1567.356029</td>\n",
              "    </tr>\n",
              "    <tr>\n",
              "      <th>531</th>\n",
              "      <td>/content/drive/My Drive/Water Bodies Satellite...</td>\n",
              "      <td>6.079</td>\n",
              "      <td>54.810</td>\n",
              "      <td>801.628557</td>\n",
              "    </tr>\n",
              "    <tr>\n",
              "      <th>78</th>\n",
              "      <td>/content/drive/My Drive/Water Bodies Satellite...</td>\n",
              "      <td>8.063</td>\n",
              "      <td>71.991</td>\n",
              "      <td>792.856257</td>\n",
              "    </tr>\n",
              "    <tr>\n",
              "      <th>234</th>\n",
              "      <td>/content/drive/My Drive/Water Bodies Satellite...</td>\n",
              "      <td>3.491</td>\n",
              "      <td>30.365</td>\n",
              "      <td>769.808078</td>\n",
              "    </tr>\n",
              "    <tr>\n",
              "      <th>...</th>\n",
              "      <td>...</td>\n",
              "      <td>...</td>\n",
              "      <td>...</td>\n",
              "      <td>...</td>\n",
              "    </tr>\n",
              "    <tr>\n",
              "      <th>513</th>\n",
              "      <td>/content/drive/My Drive/Water Bodies Satellite...</td>\n",
              "      <td>100.000</td>\n",
              "      <td>100.000</td>\n",
              "      <td>0.000000</td>\n",
              "    </tr>\n",
              "    <tr>\n",
              "      <th>390</th>\n",
              "      <td>/content/drive/My Drive/Water Bodies Satellite...</td>\n",
              "      <td>100.000</td>\n",
              "      <td>100.000</td>\n",
              "      <td>0.000000</td>\n",
              "    </tr>\n",
              "    <tr>\n",
              "      <th>73</th>\n",
              "      <td>/content/drive/My Drive/Water Bodies Satellite...</td>\n",
              "      <td>100.000</td>\n",
              "      <td>100.000</td>\n",
              "      <td>0.000000</td>\n",
              "    </tr>\n",
              "    <tr>\n",
              "      <th>180</th>\n",
              "      <td>/content/drive/My Drive/Water Bodies Satellite...</td>\n",
              "      <td>44.067</td>\n",
              "      <td>44.067</td>\n",
              "      <td>0.000000</td>\n",
              "    </tr>\n",
              "    <tr>\n",
              "      <th>437</th>\n",
              "      <td>/content/drive/My Drive/Water Bodies Satellite...</td>\n",
              "      <td>100.000</td>\n",
              "      <td>100.000</td>\n",
              "      <td>0.000000</td>\n",
              "    </tr>\n",
              "  </tbody>\n",
              "</table>\n",
              "<p>585 rows × 4 columns</p>\n",
              "</div>"
            ],
            "text/plain": [
              "                                                 Image  ...  Error Percentage\n",
              "209  /content/drive/My Drive/Water Bodies Satellite...  ...       1723.644860\n",
              "212  /content/drive/My Drive/Water Bodies Satellite...  ...       1567.356029\n",
              "531  /content/drive/My Drive/Water Bodies Satellite...  ...        801.628557\n",
              "78   /content/drive/My Drive/Water Bodies Satellite...  ...        792.856257\n",
              "234  /content/drive/My Drive/Water Bodies Satellite...  ...        769.808078\n",
              "..                                                 ...  ...               ...\n",
              "513  /content/drive/My Drive/Water Bodies Satellite...  ...          0.000000\n",
              "390  /content/drive/My Drive/Water Bodies Satellite...  ...          0.000000\n",
              "73   /content/drive/My Drive/Water Bodies Satellite...  ...          0.000000\n",
              "180  /content/drive/My Drive/Water Bodies Satellite...  ...          0.000000\n",
              "437  /content/drive/My Drive/Water Bodies Satellite...  ...          0.000000\n",
              "\n",
              "[585 rows x 4 columns]"
            ]
          },
          "metadata": {
            "tags": []
          },
          "execution_count": 69
        }
      ]
    },
    {
      "cell_type": "code",
      "metadata": {
        "id": "ghlF0oO6ss5r",
        "colab_type": "code",
        "outputId": "445e67d8-62c7-4144-95e4-d63302de4304",
        "colab": {
          "base_uri": "https://localhost:8080/",
          "height": 34
        }
      },
      "source": [
        "results['Error Percentage'].mean()"
      ],
      "execution_count": 70,
      "outputs": [
        {
          "output_type": "execute_result",
          "data": {
            "text/plain": [
              "38.9905454649811"
            ]
          },
          "metadata": {
            "tags": []
          },
          "execution_count": 70
        }
      ]
    }
  ]
}